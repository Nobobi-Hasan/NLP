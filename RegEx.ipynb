{
 "cells": [
  {
   "cell_type": "code",
   "execution_count": 1,
   "id": "e8492ae4-38ae-4e96-9f24-c366fd793d2f",
   "metadata": {},
   "outputs": [],
   "source": [
    "import warnings\n",
    "warnings.filterwarnings('ignore')\n",
    "import re"
   ]
  },
  {
   "cell_type": "code",
   "execution_count": 2,
   "id": "1706bbba-2ca3-4bad-9a7e-1cd0b5c146e6",
   "metadata": {},
   "outputs": [
    {
     "data": {
      "text/plain": [
       "['abc', 'abc']"
      ]
     },
     "execution_count": 2,
     "metadata": {},
     "output_type": "execute_result"
    }
   ],
   "source": [
    "re.findall('abc', 'vavdabcvyuytfdbxokcb;sfaabc')"
   ]
  },
  {
   "cell_type": "code",
   "execution_count": 3,
   "id": "24f66a84-2b45-43e3-a481-a1c66d9d2dae",
   "metadata": {},
   "outputs": [
    {
     "data": {
      "text/plain": [
       "['a', 'a', 'b', 'c', 'b', 'c', 'b', 'a']"
      ]
     },
     "execution_count": 3,
     "metadata": {},
     "output_type": "execute_result"
    }
   ],
   "source": [
    "re.findall('[abc]', 'vavdabcvyuytfdbxokcb;sfa')"
   ]
  },
  {
   "cell_type": "markdown",
   "id": "fba08eee-4886-4e7a-bf33-12d004c5bf60",
   "metadata": {},
   "source": [
    "re.findall('[a-c]', 'vavdabcvyuytfdbxokcb;sfa')"
   ]
  },
  {
   "cell_type": "code",
   "execution_count": 4,
   "id": "84a61d52-745b-4f0f-a80c-33ba522b0090",
   "metadata": {},
   "outputs": [
    {
     "data": {
      "text/plain": [
       "14"
      ]
     },
     "execution_count": 4,
     "metadata": {},
     "output_type": "execute_result"
    }
   ],
   "source": [
    "s = 'uasiu6d4fwekjsb86498sd4vsnjhbf894dsdhsd1vd48'\n",
    "L = re.findall('[0-9]', s)\n",
    "len(L)"
   ]
  },
  {
   "cell_type": "markdown",
   "id": "82076e8b-c130-4164-b42b-7a2564f92eba",
   "metadata": {},
   "source": [
    "# Consecutive 4 digits"
   ]
  },
  {
   "cell_type": "code",
   "execution_count": 5,
   "id": "6b685fc2-d362-4e4e-bf31-fde7cfa80378",
   "metadata": {},
   "outputs": [
    {
     "data": {
      "text/plain": [
       "['8649', '7894']"
      ]
     },
     "execution_count": 5,
     "metadata": {},
     "output_type": "execute_result"
    }
   ],
   "source": [
    "s = 'uasiu6d4fwekjsb86498sd4vs453njhb7894dsdhsd1vd48'\n",
    "L = re.findall('[0-9][0-9][0-9][0-9]', s)\n",
    "L"
   ]
  },
  {
   "cell_type": "markdown",
   "id": "d498aee9-24be-42d9-8f00-984d4711900c",
   "metadata": {},
   "source": [
    "# ^ (Complement if at the biggining)"
   ]
  },
  {
   "cell_type": "code",
   "execution_count": 6,
   "id": "d5c620ee-bb4a-4108-96e7-d7e82a5b0c2d",
   "metadata": {},
   "outputs": [
    {
     "data": {
      "text/plain": [
       "['j', 'h', 's', 'u', 'g', 'f', 'u', 's', 'y']"
      ]
     },
     "execution_count": 6,
     "metadata": {},
     "output_type": "execute_result"
    }
   ],
   "source": [
    "s = 'abjhasugfausycba'\n",
    "re.findall('[^abc]', s) #everything other than a,b, and c"
   ]
  },
  {
   "cell_type": "code",
   "execution_count": 7,
   "id": "aa959c2c-4867-4c36-afbb-98a5def234b6",
   "metadata": {},
   "outputs": [
    {
     "data": {
      "text/plain": [
       "['a', 'b', 'a', 'a', 'c', 'b', 'a']"
      ]
     },
     "execution_count": 7,
     "metadata": {},
     "output_type": "execute_result"
    }
   ],
   "source": [
    "s = 'abjhasugfausycba'\n",
    "re.findall('[abc^]', s) #everything in a,b, and c"
   ]
  },
  {
   "cell_type": "code",
   "execution_count": 8,
   "id": "952d9a74-412f-4053-b528-1226f049f5aa",
   "metadata": {},
   "outputs": [
    {
     "name": "stdout",
     "output_type": "stream",
     "text": [
      "asdkfjqoitlskdnfoqwiekhas;ioew=adgoie\n",
      "askdfl_asdkfei_asdjkfla****askeasfff\n"
     ]
    }
   ],
   "source": [
    "\n",
    "documents = ['asdfj;laieorkdjf;aliejr;akjdf23k4j;lajds;l',\n",
    "            'asdfjoqweitulad;ai@weutadg;lajoetiuaodkgjier',\n",
    "            'asdkfjqoitlskdnfoqwiekhas;ioew=adgoie',\n",
    "            'askdfl_asdkfei_asdjkfla****askeasfff',\n",
    "            '{{{{{asdfjowei@@##askdfoie}}}}}']\n",
    "regExp = '[0-9:\"{}()@#&]'\n",
    "for doc in documents:\n",
    "    if len(re.findall(regExp,doc))>0:\n",
    "        pass\n",
    "    else:\n",
    "        print(doc)"
   ]
  },
  {
   "cell_type": "code",
   "execution_count": 9,
   "id": "904a8baf-3edb-4256-962f-fb744203434c",
   "metadata": {},
   "outputs": [
    {
     "name": "stdout",
     "output_type": "stream",
     "text": [
      "asdkfjqoitlskdnfoqwiekhas;ioew=adgoie\n",
      "askdfl_asdkfei_asdjkfla****askeasfff\n"
     ]
    }
   ],
   "source": [
    "\n",
    "documents = ['asdfj;laieorkdjf;aliejr;akjdf23k4j;lajds;l',\n",
    "            'asdfjoqweitulad;ai@weutadg;lajoetiuaodkgjier',\n",
    "            'asdkfjqoitlskdnfoqwiekhas;ioew=adgoie',\n",
    "            'askdfl_asdkfei_asdjkfla****askeasfff',\n",
    "            '{{{{{asdfjowei@@##askdfoie}}}}}']\n",
    "regExp = '[^0-9:\"{}()@#&]'\n",
    "for doc in documents:\n",
    "    if len(re.findall(regExp,doc))==len(doc):\n",
    "        print(doc)"
   ]
  },
  {
   "cell_type": "markdown",
   "id": "36f9323e-1bb6-4427-8d58-30b181407a6b",
   "metadata": {},
   "source": [
    "# \\"
   ]
  },
  {
   "cell_type": "code",
   "execution_count": 10,
   "id": "3a53b2b6-c241-41a4-8107-1a895af738ee",
   "metadata": {},
   "outputs": [
    {
     "data": {
      "text/plain": [
       "4"
      ]
     },
     "execution_count": 10,
     "metadata": {},
     "output_type": "execute_result"
    }
   ],
   "source": [
    "regExp = '[\\\\\\]'\n",
    "len(re.findall(regExp,'\\n for new [line, ] \\section and \\document and \\\\\\section \\n'))"
   ]
  },
  {
   "cell_type": "code",
   "execution_count": 11,
   "id": "82664d9d-0c9a-4b30-a374-02e53b57ac8b",
   "metadata": {},
   "outputs": [
    {
     "data": {
      "text/plain": [
       "7"
      ]
     },
     "execution_count": 11,
     "metadata": {},
     "output_type": "execute_result"
    }
   ],
   "source": [
    "regExp = '[\\\\\\]'\n",
    "len(re.findall(regExp, r'\\n for new [line, ] \\section and \\document and \\\\\\section \\n'))"
   ]
  },
  {
   "cell_type": "code",
   "execution_count": 12,
   "id": "45ba8b99-9f3a-4319-b26e-f0a7c4a2118f",
   "metadata": {},
   "outputs": [
    {
     "data": {
      "text/plain": [
       "9"
      ]
     },
     "execution_count": 12,
     "metadata": {},
     "output_type": "execute_result"
    }
   ],
   "source": [
    "regExp = '[\\[\\]\\\\\\]'\n",
    "# print(len(re.findall(regExp,r'\\n for new [line, ] \\section and \\document and \\\\\\section \\n')))\n",
    "R = re.findall(regExp,r'\\n for new [line, ] \\section and \\document and \\\\\\section \\n')\n",
    "len(R)"
   ]
  },
  {
   "cell_type": "code",
   "execution_count": 13,
   "id": "9bbd5a18-b212-475d-9648-e4fb1afd72b3",
   "metadata": {},
   "outputs": [
    {
     "name": "stdout",
     "output_type": "stream",
     "text": [
      "2\n",
      "7\n",
      "9\n"
     ]
    }
   ],
   "source": [
    "doc = r'\\n for new [line, ] \\section and \\document and \\\\\\section \\n'\n",
    "regExp_brackets = '[\\[\\]]'\n",
    "brackets_count = len(re.findall(regExp_brackets,doc))\n",
    "print(brackets_count)\n",
    "regExp_slashes = '[\\\\\\]'\n",
    "slash_count = len(re.findall(regExp_slashes,doc))\n",
    "print(slash_count)\n",
    "print(brackets_count+slash_count)"
   ]
  },
  {
   "cell_type": "code",
   "execution_count": 14,
   "id": "a05d5e07-2747-41a1-a986-35c850acf1f1",
   "metadata": {},
   "outputs": [
    {
     "name": "stdout",
     "output_type": "stream",
     "text": [
      "2\n"
     ]
    }
   ],
   "source": [
    "doc = r'\\n for new [line, ] \\section and \\document and \\\\\\section \\n'\n",
    "regExp = '[\\\\\\]section'\n",
    "print(len(re.findall(regExp,doc)))"
   ]
  },
  {
   "cell_type": "code",
   "execution_count": 15,
   "id": "b66557b1-0758-4d78-92c6-ce3fd3b8c79b",
   "metadata": {},
   "outputs": [
    {
     "name": "stdout",
     "output_type": "stream",
     "text": [
      "['2', '_', '4', '2', '3', '4', ' ', ' ', ' ', ' ', ' ', ' ', '4', '5', '_', '_', '9']\n",
      "17\n"
     ]
    }
   ],
   "source": [
    "doc = ('asdfj;laieo2rk_djf;ali4ejr;akjdf23k4j;lajds;l'\n",
    "            'asdfjoqweitu  lad;ai@weuta    dg;lajoetiuaodkgjier'\n",
    "            'asdkfjqoi4tlskdnfo5qwiekhas;ioew=adgoie'\n",
    "            'askdfl_asdkfei_asdj9kfla****askeasfff'\n",
    "            '{{{{{asdfjowei@@##askdfoie}}}}}')\n",
    "regEx = '[\\s\\d_]'\n",
    "rs = re.findall(regEx,doc)\n",
    "print(rs)\n",
    "print(len(rs))"
   ]
  },
  {
   "cell_type": "code",
   "execution_count": 16,
   "id": "17a0ddd1-8cb7-4475-88d3-ced6a7e1bed3",
   "metadata": {},
   "outputs": [
    {
     "name": "stdout",
     "output_type": "stream",
     "text": [
      "['Yahoo', 'Yahooo', 'Yahooooooo', 'Yahooooo']\n"
     ]
    }
   ],
   "source": [
    "doc = 'YahooYahoooYahoooooooYahoooooYahoasdfl;akj;lYahoaYahaoo'\n",
    "regExp = 'Yahooo*'\n",
    "rs = re.findall(regExp,doc)\n",
    "print(rs)"
   ]
  },
  {
   "cell_type": "code",
   "execution_count": 17,
   "id": "8c86e5fd-bb85-411f-bafc-5cfde4c05465",
   "metadata": {},
   "outputs": [
    {
     "name": "stdout",
     "output_type": "stream",
     "text": [
      "['asdfj', 'laieo2rkdjf', 'ali4ejr', 'akjdf23k4j', 'lajds', 'lasdfjoqweitu', 'lad', 'ai', 'weuta', 'dg', 'lajoetiuaodkgjierasdkfjqoitlskdnfoqwiekhas', 'ioew', 'adgoieaskdfl_asdkfei_asdjkfla', 'askeasfff', 'asdfjowei', 'askdfoie']\n"
     ]
    }
   ],
   "source": [
    "doc = ('73asdfj;35laieo2rkdjf;ali4ejr;akjdf23k4j;lajds;l'\n",
    "            'asdfjoqweitu  lad;ai@weuta    dg;lajoetiuaodkgjier'\n",
    "            'asdkfjqoitlskdnfoqwiekhas;ioew=adgoie'\n",
    "            'askdfl_asdkfei_asdjkfla****askeasfff'\n",
    "            '{{{{{asdfjowei@@##askdfoie}}}}}')\n",
    "regExp = '[a-zA-Z_]\\w*'\n",
    "rs = re.findall(regExp,doc)\n",
    "print(rs)"
   ]
  },
  {
   "cell_type": "markdown",
   "id": "0c3c14f1-61ff-467e-811b-517f7def6882",
   "metadata": {},
   "source": [
    "## HW - 01"
   ]
  },
  {
   "cell_type": "code",
   "execution_count": 18,
   "id": "cde7efb3-2c48-4c4d-8077-6a7862b75d8e",
   "metadata": {},
   "outputs": [
    {
     "name": "stdout",
     "output_type": "stream",
     "text": [
      "%jns: syntax error\n",
      "saa$s: syntax error\n",
      "_shds: OK\n",
      "as_fa: OK\n",
      "Shammi: OK\n",
      "Arosh73: OK\n",
      "73jh: syntax error\n",
      "bsja=h: syntax error\n"
     ]
    }
   ],
   "source": [
    "docs = ['%jns', 'saa$s', '_shds', 'as_fa', 'Shammi', 'Arosh73', '73jh', 'bsja=h']\n",
    "regExp = '[a-zA-Z_]\\w*'\n",
    "for doc in docs:\n",
    "    R = re.findall(regExp,doc)\n",
    "    if len(R) == 1 and len(R[0]) == len(doc):\n",
    "        print(doc+': OK')\n",
    "    else:\n",
    "        print(doc+': syntax error')"
   ]
  },
  {
   "cell_type": "markdown",
   "id": "d3f03f6f-3272-486a-987d-96269658c0f4",
   "metadata": {},
   "source": [
    "# * (0 or more times repeat)"
   ]
  },
  {
   "cell_type": "code",
   "execution_count": 19,
   "id": "1afbd3c0-ccd5-4de8-9534-264a676b8fa7",
   "metadata": {},
   "outputs": [
    {
     "name": "stdout",
     "output_type": "stream",
     "text": [
      ": syntax error\n",
      "ab: OK\n",
      "aabcabcb: OK\n",
      "acbcb: OK\n",
      "aaaab: OK\n",
      "cabab: syntax error\n",
      "aabcac: syntax error\n",
      "ahsagb: syntax error\n"
     ]
    }
   ],
   "source": [
    "docs = ['', 'ab', 'aabcabcb', 'acbcb', 'aaaab', 'cabab', 'aabcac', 'ahsagb']\n",
    "regExp = 'a[abc]*b'\n",
    "for doc in docs:\n",
    "    R = re.findall(regExp,doc)\n",
    "    if len(R) == 1 and len(R[0]) == len(doc):\n",
    "        print(doc+': OK')\n",
    "    else:\n",
    "        print(doc+': syntax error')"
   ]
  },
  {
   "cell_type": "markdown",
   "id": "4b9c2e96-c6f1-4361-98b0-7982dacd9256",
   "metadata": {},
   "source": [
    "# + (Atleast 1 or more times repeat)"
   ]
  },
  {
   "cell_type": "code",
   "execution_count": 20,
   "id": "176ef6fd-e15c-4200-af83-7675706bacfd",
   "metadata": {},
   "outputs": [
    {
     "name": "stdout",
     "output_type": "stream",
     "text": [
      ": syntax error\n",
      "ab: syntax error\n",
      "aabcabcb: OK\n",
      "acbcb: OK\n",
      "acb: OK\n",
      "aaaab: OK\n",
      "cabab: syntax error\n",
      "aabcac: syntax error\n",
      "ahsagb: syntax error\n"
     ]
    }
   ],
   "source": [
    "docs = ['', 'ab', 'aabcabcb', 'acbcb', 'acb', 'aaaab', 'cabab', 'aabcac', 'ahsagb']\n",
    "regExp = 'a[abc]+b'\n",
    "for doc in docs:\n",
    "    R = re.findall(regExp,doc)\n",
    "    if len(R) == 1 and len(R[0]) == len(doc):\n",
    "        print(doc+': OK')\n",
    "    else:\n",
    "        print(doc+': syntax error')"
   ]
  },
  {
   "cell_type": "code",
   "execution_count": 21,
   "id": "77174982-7cc6-4cb6-9080-78e8f94cfdde",
   "metadata": {},
   "outputs": [
    {
     "name": "stdout",
     "output_type": "stream",
     "text": [
      "['2Yahoo', '3Yahooo', '4Yahoooo', '5Yahooooo', '6Yahoooooo', '7Yahooooooo']\n"
     ]
    }
   ],
   "source": [
    "doc = '0Yah1Yaho2Yahoo3Yahooo4Yahoooo5Yahooooo6Yahoooooo7Yahooooooo'\n",
    "regExp = '\\dYahoo+'\n",
    "rs = re.findall(regExp,doc)\n",
    "print(rs)"
   ]
  },
  {
   "cell_type": "markdown",
   "id": "68fa67d4-a888-4f32-9e9c-e005eb87f956",
   "metadata": {},
   "source": [
    "# ? (0 or only 1 time appear)"
   ]
  },
  {
   "cell_type": "code",
   "execution_count": 22,
   "id": "b8ff3d12-117f-4618-a9ab-cd0c2739510a",
   "metadata": {},
   "outputs": [
    {
     "name": "stdout",
     "output_type": "stream",
     "text": [
      ": syntax error\n",
      "ab: OK\n",
      "acb: OK\n",
      "aabcb: syntax error\n",
      "aabcabcb: syntax error\n",
      "acbcb: syntax error\n",
      "aaaab: syntax error\n",
      "cabab: syntax error\n",
      "aabcac: syntax error\n",
      "ahsagb: syntax error\n"
     ]
    }
   ],
   "source": [
    "docs = ['', 'ab', 'acb', 'aabcb', 'aabcabcb', 'acbcb', 'aaaab', 'cabab', 'aabcac', 'ahsagb']\n",
    "regExp = 'a[abc]?b'\n",
    "for doc in docs:\n",
    "    R = re.findall(regExp,doc)\n",
    "    if len(R) == 1 and len(R[0]) == len(doc):\n",
    "        print(doc+': OK')\n",
    "    else:\n",
    "        print(doc+': syntax error')"
   ]
  },
  {
   "cell_type": "code",
   "execution_count": 23,
   "id": "e8fb65ed-59e4-4a69-9088-27c03d0581e4",
   "metadata": {},
   "outputs": [
    {
     "name": "stdout",
     "output_type": "stream",
     "text": [
      "['1Yah', '2Yaho', '3Yaho', '4Yaho', '5Yaho', '6Yaho', '7Yaho']\n"
     ]
    }
   ],
   "source": [
    "doc = '1Yah2Yaho3Yahoo4Yahooo5Yahoooo6Yahooooo7Yaho'\n",
    "regExp = '\\dYaho?'\n",
    "rs = re.findall(regExp,doc)\n",
    "print(rs)"
   ]
  },
  {
   "cell_type": "markdown",
   "id": "b4055e8a-3fe9-443a-854c-01ad9ec7ee76",
   "metadata": {},
   "source": [
    "# {m,n} (Repeat m to n times) **Do not use {m, n} (No Space after the comma)"
   ]
  },
  {
   "cell_type": "code",
   "execution_count": 24,
   "id": "082ec14a-fc12-4a0c-9d9f-36b4b872366e",
   "metadata": {},
   "outputs": [
    {
     "name": "stdout",
     "output_type": "stream",
     "text": [
      "['2Yahoo', '3Yahooo', '4Yahoooo', '5Yahoooo', '6Yahoooo', '7Yahoooo']\n"
     ]
    }
   ],
   "source": [
    "doc = '0Yah1Yaho2Yahoo3Yahooo4Yahoooo5Yahooooo6Yahoooooo7Yahooooooo'\n",
    "regEx = '\\dYaho{2,4}'\n",
    "rs = re.findall(regEx,doc)\n",
    "print(rs)"
   ]
  },
  {
   "cell_type": "code",
   "execution_count": 25,
   "id": "28eca05c-0a90-4bb3-936d-f6107fc6e45b",
   "metadata": {},
   "outputs": [
    {
     "name": "stdout",
     "output_type": "stream",
     "text": [
      "['b74', 'c523', 'd5678', 'e5789', 'f8793']\n"
     ]
    }
   ],
   "source": [
    "doc = ('asdfj;a3laieo2rkdjf;alib74ejr;akjdfc523k4j;lajds;l'\n",
    "            'asdfjoqweitu  lad;ai@weuta    dg;lajoetiuaodkgjier'\n",
    "            'asdkfjqoitlskdnfoqwiekhas;ioew=adgoie'\n",
    "            'askdfl_asdkfei_asd567890jkfla****aske57894asfff'\n",
    "            '{{{{{asdf879314jowei@@##askdfoie}}}}}')\n",
    "regExp = '\\D\\d{2,4}'\n",
    "rs = re.findall(regExp,doc)\n",
    "print(rs)"
   ]
  },
  {
   "cell_type": "markdown",
   "id": "cc9f3fec-d08e-488e-919b-40e63b16708e",
   "metadata": {},
   "source": [
    "# Pattrn Objects"
   ]
  },
  {
   "cell_type": "code",
   "execution_count": 26,
   "id": "2e57dcb7-788e-4e91-ae4a-355a9ad5a4db",
   "metadata": {},
   "outputs": [
    {
     "data": {
      "text/plain": [
       "['a2347345B', 'Ab']"
      ]
     },
     "execution_count": 26,
     "metadata": {},
     "output_type": "execute_result"
    }
   ],
   "source": [
    "p = re.compile('a\\d*b',re.IGNORECASE)\n",
    "p.findall('a2347345B23456Ab')"
   ]
  },
  {
   "cell_type": "markdown",
   "id": "e2c6d27e-1833-49a3-bafc-1a3dc79f0c4a",
   "metadata": {},
   "source": [
    "# match() and search()"
   ]
  },
  {
   "cell_type": "code",
   "execution_count": 27,
   "id": "4e5cc67a-a5a6-4d2b-a127-e699a9385bdc",
   "metadata": {},
   "outputs": [
    {
     "name": "stdout",
     "output_type": "stream",
     "text": [
      "(0, 17) 0 17 17\n",
      "how are you today ... a;a4o3\n"
     ]
    }
   ],
   "source": [
    "doc = '      \\t    \\t   \\t how are you today ... a;a4o3'\n",
    "p = re.compile('\\s*')\n",
    "m = p.match(doc)\n",
    "print(m.span(), m.start(), m.end(), len(m.group()))\n",
    "print(doc[m.end():])"
   ]
  },
  {
   "cell_type": "code",
   "execution_count": 28,
   "id": "3cf1df96-404f-4d27-886a-20bf23fa664e",
   "metadata": {},
   "outputs": [
    {
     "name": "stdout",
     "output_type": "stream",
     "text": [
      "(3, 9) 3 9 6\n",
      "are you today ... a;a4o3\n"
     ]
    }
   ],
   "source": [
    "doc = 'how   \\t  are you today ... a;a4o3'\n",
    "p = re.compile('\\s+')\n",
    "m = p.search(doc)\n",
    "print(m.span(), m.start(), m.end(), len(m.group()))\n",
    "print(doc[m.end():])"
   ]
  },
  {
   "cell_type": "code",
   "execution_count": 98,
   "id": "2ab979da-5f27-487e-8ce1-2b57a6fe1bce",
   "metadata": {},
   "outputs": [
    {
     "name": "stdout",
     "output_type": "stream",
     "text": [
      "Doc len:  12\n",
      "3 4 1\n",
      "Doc len:  8\n",
      "7 8 1\n",
      "Doc len:  4\n"
     ]
    }
   ],
   "source": [
    "doc = 'how are you?'\n",
    "s = 0\n",
    "\n",
    "while len(doc)>0:\n",
    "    print('Doc len: ', (len(doc)))\n",
    "    p = re.compile('\\s+')\n",
    "    m = p.search(doc)\n",
    "\n",
    "    if m:\n",
    "        # print(m.span(), m.start()+s, m.end()+s, len(m.group()))\n",
    "        print(m.start()+s, m.end()+s, len(m.group()))\n",
    "        # print(doc[m.end():])\n",
    "        doc = doc[m.end():]\n",
    "        s += m.end()\n",
    "\n",
    "    else:\n",
    "        break\n",
    "    "
   ]
  },
  {
   "cell_type": "code",
   "execution_count": 99,
   "id": "3eb887c9-1730-4a6d-b74e-25ed54200fb9",
   "metadata": {},
   "outputs": [
    {
     "name": "stdout",
     "output_type": "stream",
     "text": [
      "asdfj :  0 5 5\n",
      "laieo2rk_dejr :  6 19 13\n",
      "akjdf23lajds :  20 32 12\n",
      "lasdfjoqweitu :  33 46 13\n",
      "lad :  48 51 3\n",
      "ai :  52 54 2\n",
      "weuta :  55 60 5\n",
      "lajoetiuaodkgjier :  64 81 17\n",
      "asdfjowei :  86 95 9\n",
      "askdfoie :  99 107 8\n"
     ]
    }
   ],
   "source": [
    "doc = ('asdfj;laieo2rk_dejr;akjdf23lajds;l'\n",
    "            'asdfjoqweitu  lad;ai@weuta    lajoetiuaodkgjier'\n",
    "            '{{{{{asdfjowei@@##askdfoie}}}}}')\n",
    "s = 0\n",
    "\n",
    "while len(doc)>0:\n",
    "    # print('Doc len: ' + str(len(doc)))\n",
    "    p = re.compile('[a-zA-Z_]\\w*')\n",
    "    m = p.search(doc)\n",
    "\n",
    "    if m:\n",
    "        print(m.group(), ': ', m.start()+s, m.end()+s, len(m.group()))\n",
    "        # print(doc[m.end():])\n",
    "        doc = doc[m.end():]\n",
    "        s += m.end()\n",
    "\n",
    "    else:\n",
    "        break\n",
    "    "
   ]
  },
  {
   "cell_type": "markdown",
   "id": "bec07eab-f211-49f1-bf7c-3cb120f0a17f",
   "metadata": {},
   "source": [
    "# finditer"
   ]
  },
  {
   "cell_type": "code",
   "execution_count": 104,
   "id": "76e7d2e0-01bb-49f9-80cf-7d23b0f4c155",
   "metadata": {},
   "outputs": [
    {
     "name": "stdout",
     "output_type": "stream",
     "text": [
      "asdfj :  (0, 5) 0 5 5\n",
      "laieo2rk_dejr :  (6, 19) 6 19 13\n",
      "akjdf23lajds :  (20, 32) 20 32 12\n",
      "lasdfjoqweitu :  (33, 46) 33 46 13\n",
      "lad :  (48, 51) 48 51 3\n",
      "ai :  (52, 54) 52 54 2\n",
      "weuta :  (55, 60) 55 60 5\n",
      "lajoetiuaodkgjier :  (64, 81) 64 81 17\n",
      "asdfjowei :  (86, 95) 86 95 9\n",
      "askdfoie :  (99, 107) 99 107 8\n"
     ]
    }
   ],
   "source": [
    "doc = ('asdfj;laieo2rk_dejr;akjdf23lajds;l'\n",
    "            'asdfjoqweitu  lad;ai@weuta    lajoetiuaodkgjier'\n",
    "            '{{{{{asdfjowei@@##askdfoie}}}}}')\n",
    "\n",
    "p = re.compile('[A-Z_]\\w*', re.IGNORECASE)\n",
    "i = p.finditer(doc)\n",
    "\n",
    "for s in i:\n",
    "    print(s.group(), ': ', s.span(), s.start(), s.end(), len(s.group()))\n",
    "\n",
    "    "
   ]
  },
  {
   "cell_type": "code",
   "execution_count": null,
   "id": "0f31b053-aefc-48d9-9ce7-159a842434d5",
   "metadata": {},
   "outputs": [],
   "source": []
  }
 ],
 "metadata": {
  "kernelspec": {
   "display_name": "Python 3 (ipykernel)",
   "language": "python",
   "name": "python3"
  },
  "language_info": {
   "codemirror_mode": {
    "name": "ipython",
    "version": 3
   },
   "file_extension": ".py",
   "mimetype": "text/x-python",
   "name": "python",
   "nbconvert_exporter": "python",
   "pygments_lexer": "ipython3",
   "version": "3.12.4"
  }
 },
 "nbformat": 4,
 "nbformat_minor": 5
}
