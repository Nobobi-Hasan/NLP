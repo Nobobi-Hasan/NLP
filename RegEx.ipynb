{
 "cells": [
  {
   "cell_type": "code",
   "execution_count": 1,
   "id": "e8492ae4-38ae-4e96-9f24-c366fd793d2f",
   "metadata": {},
   "outputs": [],
   "source": [
    "import warnings\n",
    "warnings.filterwarnings('ignore')\n",
    "import re"
   ]
  },
  {
   "cell_type": "code",
   "execution_count": 2,
   "id": "1706bbba-2ca3-4bad-9a7e-1cd0b5c146e6",
   "metadata": {},
   "outputs": [
    {
     "data": {
      "text/plain": [
       "['abc']"
      ]
     },
     "execution_count": 2,
     "metadata": {},
     "output_type": "execute_result"
    }
   ],
   "source": [
    "re.findall('abc', 'vavdabcvyuytfdbxokcb;sfa')"
   ]
  },
  {
   "cell_type": "code",
   "execution_count": 3,
   "id": "24f66a84-2b45-43e3-a481-a1c66d9d2dae",
   "metadata": {},
   "outputs": [
    {
     "data": {
      "text/plain": [
       "['a', 'a', 'b', 'c', 'b', 'c', 'b', 'a']"
      ]
     },
     "execution_count": 3,
     "metadata": {},
     "output_type": "execute_result"
    }
   ],
   "source": [
    "re.findall('[abc]', 'vavdabcvyuytfdbxokcb;sfa')"
   ]
  },
  {
   "cell_type": "code",
   "execution_count": 4,
   "id": "da08b43f-ba86-4026-a4df-8d741ee11a36",
   "metadata": {},
   "outputs": [
    {
     "data": {
      "text/plain": [
       "['a', 'a', 'b', 'c', 'b', 'c', 'b', 'a']"
      ]
     },
     "execution_count": 4,
     "metadata": {},
     "output_type": "execute_result"
    }
   ],
   "source": [
    "re.findall('[a-c]', 'vavdabcvyuytfdbxokcb;sfa')"
   ]
  },
  {
   "cell_type": "code",
   "execution_count": 5,
   "id": "84a61d52-745b-4f0f-a80c-33ba522b0090",
   "metadata": {},
   "outputs": [
    {
     "data": {
      "text/plain": [
       "14"
      ]
     },
     "execution_count": 5,
     "metadata": {},
     "output_type": "execute_result"
    }
   ],
   "source": [
    "s = 'uasiu6d4fwekjsb86498sd4vsnjhbf894dsdhsd1vd48'\n",
    "L = re.findall('[0-9]', s)\n",
    "len(L)"
   ]
  },
  {
   "cell_type": "markdown",
   "id": "82076e8b-c130-4164-b42b-7a2564f92eba",
   "metadata": {},
   "source": [
    "# Consecutive 4 digits"
   ]
  },
  {
   "cell_type": "code",
   "execution_count": 6,
   "id": "6b685fc2-d362-4e4e-bf31-fde7cfa80378",
   "metadata": {},
   "outputs": [
    {
     "data": {
      "text/plain": [
       "['8649', '7894']"
      ]
     },
     "execution_count": 6,
     "metadata": {},
     "output_type": "execute_result"
    }
   ],
   "source": [
    "s = 'uasiu6d4fwekjsb86498sd4vs453njhb7894dsdhsd1vd48'\n",
    "L = re.findall('[0-9][0-9][0-9][0-9]', s)\n",
    "L"
   ]
  },
  {
   "cell_type": "markdown",
   "id": "d498aee9-24be-42d9-8f00-984d4711900c",
   "metadata": {},
   "source": [
    "# ^ (Complement if at the biggining)"
   ]
  },
  {
   "cell_type": "code",
   "execution_count": 7,
   "id": "d5c620ee-bb4a-4108-96e7-d7e82a5b0c2d",
   "metadata": {},
   "outputs": [
    {
     "data": {
      "text/plain": [
       "['j', 'h', 's', 'u', 'g', 'f', 'u', 's', 'y']"
      ]
     },
     "execution_count": 7,
     "metadata": {},
     "output_type": "execute_result"
    }
   ],
   "source": [
    "s = 'abjhasugfausycba'\n",
    "re.findall('[^abc]', s) #everything other than a,b, and c"
   ]
  },
  {
   "cell_type": "code",
   "execution_count": 8,
   "id": "aa959c2c-4867-4c36-afbb-98a5def234b6",
   "metadata": {},
   "outputs": [
    {
     "data": {
      "text/plain": [
       "['a', 'b', 'a', 'a', 'c', 'b', 'a']"
      ]
     },
     "execution_count": 8,
     "metadata": {},
     "output_type": "execute_result"
    }
   ],
   "source": [
    "s = 'abjhasugfausycba'\n",
    "re.findall('[abc^]', s) #everything in a,b, and c"
   ]
  },
  {
   "cell_type": "code",
   "execution_count": 9,
   "id": "952d9a74-412f-4053-b528-1226f049f5aa",
   "metadata": {},
   "outputs": [
    {
     "name": "stdout",
     "output_type": "stream",
     "text": [
      "asdkfjqoitlskdnfoqwiekhas;ioew=adgoie\n",
      "askdfl_asdkfei_asdjkfla****askeasfff\n"
     ]
    }
   ],
   "source": [
    "\n",
    "documents = ['asdfj;laieorkdjf;aliejr;akjdf23k4j;lajds;l',\n",
    "            'asdfjoqweitulad;ai@weutadg;lajoetiuaodkgjier',\n",
    "            'asdkfjqoitlskdnfoqwiekhas;ioew=adgoie',\n",
    "            'askdfl_asdkfei_asdjkfla****askeasfff',\n",
    "            '{{{{{asdfjowei@@##askdfoie}}}}}']\n",
    "regExp = '[0-9:\"{}()@#&]'\n",
    "for doc in documents:\n",
    "    if len(re.findall(regExp,doc))>0:\n",
    "        pass\n",
    "    else:\n",
    "        print(doc)"
   ]
  },
  {
   "cell_type": "code",
   "execution_count": 10,
   "id": "904a8baf-3edb-4256-962f-fb744203434c",
   "metadata": {},
   "outputs": [
    {
     "name": "stdout",
     "output_type": "stream",
     "text": [
      "asdkfjqoitlskdnfoqwiekhas;ioew=adgoie\n",
      "askdfl_asdkfei_asdjkfla****askeasfff\n"
     ]
    }
   ],
   "source": [
    "\n",
    "documents = ['asdfj;laieorkdjf;aliejr;akjdf23k4j;lajds;l',\n",
    "            'asdfjoqweitulad;ai@weutadg;lajoetiuaodkgjier',\n",
    "            'asdkfjqoitlskdnfoqwiekhas;ioew=adgoie',\n",
    "            'askdfl_asdkfei_asdjkfla****askeasfff',\n",
    "            '{{{{{asdfjowei@@##askdfoie}}}}}']\n",
    "regExp = '[^0-9:\"{}()@#&]'\n",
    "for doc in documents:\n",
    "    if len(re.findall(regExp,doc))==len(doc):\n",
    "        print(doc)"
   ]
  },
  {
   "cell_type": "markdown",
   "id": "36f9323e-1bb6-4427-8d58-30b181407a6b",
   "metadata": {},
   "source": [
    "# \\"
   ]
  },
  {
   "cell_type": "code",
   "execution_count": 11,
   "id": "3a53b2b6-c241-41a4-8107-1a895af738ee",
   "metadata": {},
   "outputs": [
    {
     "data": {
      "text/plain": [
       "4"
      ]
     },
     "execution_count": 11,
     "metadata": {},
     "output_type": "execute_result"
    }
   ],
   "source": [
    "regExp = '[\\\\\\]'\n",
    "len(re.findall(regExp,'\\n for new [line, ] \\section and \\document and \\\\\\section \\n'))"
   ]
  },
  {
   "cell_type": "code",
   "execution_count": 12,
   "id": "82664d9d-0c9a-4b30-a374-02e53b57ac8b",
   "metadata": {},
   "outputs": [
    {
     "data": {
      "text/plain": [
       "7"
      ]
     },
     "execution_count": 12,
     "metadata": {},
     "output_type": "execute_result"
    }
   ],
   "source": [
    "regExp = '[\\\\\\]'\n",
    "len(re.findall(regExp, r'\\n for new [line, ] \\section and \\document and \\\\\\section \\n'))"
   ]
  },
  {
   "cell_type": "code",
   "execution_count": 13,
   "id": "45ba8b99-9f3a-4319-b26e-f0a7c4a2118f",
   "metadata": {},
   "outputs": [
    {
     "data": {
      "text/plain": [
       "9"
      ]
     },
     "execution_count": 13,
     "metadata": {},
     "output_type": "execute_result"
    }
   ],
   "source": [
    "regExp = '[\\[\\]\\\\\\]'\n",
    "# print(len(re.findall(regExp,r'\\n for new [line, ] \\section and \\document and \\\\\\section \\n')))\n",
    "R = re.findall(regExp,r'\\n for new [line, ] \\section and \\document and \\\\\\section \\n')\n",
    "len(R)"
   ]
  },
  {
   "cell_type": "code",
   "execution_count": 14,
   "id": "9bbd5a18-b212-475d-9648-e4fb1afd72b3",
   "metadata": {},
   "outputs": [
    {
     "name": "stdout",
     "output_type": "stream",
     "text": [
      "2\n",
      "7\n",
      "9\n"
     ]
    }
   ],
   "source": [
    "doc = r'\\n for new [line, ] \\section and \\document and \\\\\\section \\n'\n",
    "regExp_brackets = '[\\[\\]]'\n",
    "brackets_count = len(re.findall(regExp_brackets,doc))\n",
    "print(brackets_count)\n",
    "regExp_slashes = '[\\\\\\]'\n",
    "slash_count = len(re.findall(regExp_slashes,doc))\n",
    "print(slash_count)\n",
    "print(brackets_count+slash_count)"
   ]
  },
  {
   "cell_type": "code",
   "execution_count": 15,
   "id": "a05d5e07-2747-41a1-a986-35c850acf1f1",
   "metadata": {},
   "outputs": [
    {
     "name": "stdout",
     "output_type": "stream",
     "text": [
      "2\n"
     ]
    }
   ],
   "source": [
    "doc = r'\\n for new [line, ] \\section and \\document and \\\\\\section \\n'\n",
    "regExp = '[\\\\\\]section'\n",
    "print(len(re.findall(regExp,doc)))"
   ]
  },
  {
   "cell_type": "code",
   "execution_count": 16,
   "id": "b66557b1-0758-4d78-92c6-ce3fd3b8c79b",
   "metadata": {},
   "outputs": [
    {
     "name": "stdout",
     "output_type": "stream",
     "text": [
      "['2', '_', '4', '2', '3', '4', ' ', ' ', ' ', ' ', ' ', ' ', '4', '5', '_', '_', '9']\n",
      "17\n"
     ]
    }
   ],
   "source": [
    "doc = ('asdfj;laieo2rk_djf;ali4ejr;akjdf23k4j;lajds;l'\n",
    "            'asdfjoqweitu  lad;ai@weuta    dg;lajoetiuaodkgjier'\n",
    "            'asdkfjqoi4tlskdnfo5qwiekhas;ioew=adgoie'\n",
    "            'askdfl_asdkfei_asdj9kfla****askeasfff'\n",
    "            '{{{{{asdfjowei@@##askdfoie}}}}}')\n",
    "regEx = '[\\s\\d_]'\n",
    "rs = re.findall(regEx,doc)\n",
    "print(rs)\n",
    "print(len(rs))"
   ]
  },
  {
   "cell_type": "code",
   "execution_count": 17,
   "id": "17a0ddd1-8cb7-4475-88d3-ced6a7e1bed3",
   "metadata": {},
   "outputs": [
    {
     "name": "stdout",
     "output_type": "stream",
     "text": [
      "['Yahoo', 'Yahooo', 'Yahooooooo', 'Yahooooo']\n"
     ]
    }
   ],
   "source": [
    "doc = 'YahooYahoooYahoooooooYahoooooYahoasdfl;akj;lYahoaYahaoo'\n",
    "regExp = 'Yahooo*'\n",
    "rs = re.findall(regExp,doc)\n",
    "print(rs)"
   ]
  },
  {
   "cell_type": "code",
   "execution_count": 18,
   "id": "8c86e5fd-bb85-411f-bafc-5cfde4c05465",
   "metadata": {},
   "outputs": [
    {
     "name": "stdout",
     "output_type": "stream",
     "text": [
      "['asdfj', 'laieo2rkdjf', 'ali4ejr', 'akjdf23k4j', 'lajds', 'lasdfjoqweitu', 'lad', 'ai', 'weuta', 'dg', 'lajoetiuaodkgjierasdkfjqoitlskdnfoqwiekhas', 'ioew', 'adgoieaskdfl_asdkfei_asdjkfla', 'askeasfff', 'asdfjowei', 'askdfoie']\n"
     ]
    }
   ],
   "source": [
    "doc = ('73asdfj;35laieo2rkdjf;ali4ejr;akjdf23k4j;lajds;l'\n",
    "            'asdfjoqweitu  lad;ai@weuta    dg;lajoetiuaodkgjier'\n",
    "            'asdkfjqoitlskdnfoqwiekhas;ioew=adgoie'\n",
    "            'askdfl_asdkfei_asdjkfla****askeasfff'\n",
    "            '{{{{{asdfjowei@@##askdfoie}}}}}')\n",
    "regExp = '[a-zA-Z_]\\w*'\n",
    "rs = re.findall(regExp,doc)\n",
    "print(rs)"
   ]
  },
  {
   "cell_type": "markdown",
   "id": "0c3c14f1-61ff-467e-811b-517f7def6882",
   "metadata": {},
   "source": [
    "## HW - 01"
   ]
  },
  {
   "cell_type": "code",
   "execution_count": 26,
   "id": "cde7efb3-2c48-4c4d-8077-6a7862b75d8e",
   "metadata": {},
   "outputs": [
    {
     "name": "stdout",
     "output_type": "stream",
     "text": [
      "saa$s\n",
      "2\n",
      "asd8s\n",
      "1\n",
      "4asfa\n",
      "1\n",
      "@acc\n",
      "1\n",
      "sadacf@sa\n",
      "2\n"
     ]
    }
   ],
   "source": [
    "docs = ['saa$s', 'asd8s', '4asfa', '@acc', 'sadacf@sa']\n",
    "regExp = '[a-zA-Z_]\\w*'\n",
    "for doc in docs:\n",
    "    print(doc)\n",
    "    if len(re.findall(regExp,doc))==len(doc):\n",
    "        print(doc)\n",
    "    R =len(re.findall(regExp,doc))\n",
    "    print(R)"
   ]
  },
  {
   "cell_type": "code",
   "execution_count": null,
   "id": "e0a39527-15d0-4307-9eff-33f64a86746b",
   "metadata": {},
   "outputs": [],
   "source": []
  }
 ],
 "metadata": {
  "kernelspec": {
   "display_name": "Python 3 (ipykernel)",
   "language": "python",
   "name": "python3"
  },
  "language_info": {
   "codemirror_mode": {
    "name": "ipython",
    "version": 3
   },
   "file_extension": ".py",
   "mimetype": "text/x-python",
   "name": "python",
   "nbconvert_exporter": "python",
   "pygments_lexer": "ipython3",
   "version": "3.12.4"
  }
 },
 "nbformat": 4,
 "nbformat_minor": 5
}
