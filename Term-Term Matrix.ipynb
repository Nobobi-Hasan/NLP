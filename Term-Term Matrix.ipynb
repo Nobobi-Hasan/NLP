{
 "cells": [
  {
   "cell_type": "code",
   "execution_count": 1,
   "id": "d9f9b07b-f986-4be0-8fed-8a8b2d0f71bc",
   "metadata": {},
   "outputs": [],
   "source": [
    "import warnings\n",
    "warnings.filterwarnings('ignore')\n",
    "import re\n",
    "import numpy as np"
   ]
  },
  {
   "cell_type": "code",
   "execution_count": 2,
   "id": "dbd85442-e9b3-4ad8-a27a-1e41a9ee3d0c",
   "metadata": {},
   "outputs": [],
   "source": [
    "doc = open('../DataSets/text8','r').read().lower()"
   ]
  },
  {
   "cell_type": "code",
   "execution_count": 3,
   "id": "877383d6-14dc-40a1-a540-b545ebef04a0",
   "metadata": {},
   "outputs": [
    {
     "data": {
      "text/plain": [
       "100000000"
      ]
     },
     "execution_count": 3,
     "metadata": {},
     "output_type": "execute_result"
    }
   ],
   "source": [
    "len(doc)"
   ]
  },
  {
   "cell_type": "code",
   "execution_count": 4,
   "id": "3bad3ef1-be43-47ec-b6ba-68d0efab43e0",
   "metadata": {},
   "outputs": [],
   "source": [
    "corpus_list = re.split('\\W+', doc)"
   ]
  },
  {
   "cell_type": "code",
   "execution_count": 5,
   "id": "d436048a-479f-4a89-a1eb-83d8fd25f9ae",
   "metadata": {},
   "outputs": [
    {
     "data": {
      "text/plain": [
       "17005208"
      ]
     },
     "execution_count": 5,
     "metadata": {},
     "output_type": "execute_result"
    }
   ],
   "source": [
    "len(corpus_list)"
   ]
  },
  {
   "cell_type": "code",
   "execution_count": 6,
   "id": "f76cfc81-7feb-4e4f-92d6-978662fa5120",
   "metadata": {},
   "outputs": [],
   "source": [
    "cutOffValue = 100\n",
    "from collections import defaultdict\n",
    "frequency = defaultdict(int)\n",
    "for token in corpus_list:\n",
    "    frequency[token] += 1\n",
    "processedCorpus_list = [token for token in corpus_list \n",
    "                        if frequency[token] >= cutOffValue]"
   ]
  },
  {
   "cell_type": "code",
   "execution_count": 7,
   "id": "5fdeb08a-c085-4f52-885b-0a495d587cf2",
   "metadata": {},
   "outputs": [
    {
     "data": {
      "text/plain": [
       "15471435"
      ]
     },
     "execution_count": 7,
     "metadata": {},
     "output_type": "execute_result"
    }
   ],
   "source": [
    "len(processedCorpus_list)"
   ]
  },
  {
   "cell_type": "code",
   "execution_count": 8,
   "id": "7c6f6fc0-d36e-44cb-965c-6890e3dd0b56",
   "metadata": {},
   "outputs": [
    {
     "data": {
      "text/plain": [
       "1533773"
      ]
     },
     "execution_count": 8,
     "metadata": {},
     "output_type": "execute_result"
    }
   ],
   "source": [
    "len(corpus_list)-len(processedCorpus_list)"
   ]
  },
  {
   "cell_type": "code",
   "execution_count": 9,
   "id": "47fe188e-4047-4b05-a263-2344f9065682",
   "metadata": {},
   "outputs": [
    {
     "data": {
      "text/plain": [
       "253855"
      ]
     },
     "execution_count": 9,
     "metadata": {},
     "output_type": "execute_result"
    }
   ],
   "source": [
    "len(frequency)"
   ]
  },
  {
   "cell_type": "code",
   "execution_count": 10,
   "id": "e86a6769-3391-43c6-8482-41021c5dcca6",
   "metadata": {},
   "outputs": [],
   "source": [
    "allWords = np.array(list(frequency.keys()))\n",
    "allCounts = np.array(list(frequency.values()))"
   ]
  },
  {
   "cell_type": "code",
   "execution_count": 11,
   "id": "c2b90cfb-edc8-4292-b01c-d1abb15c3847",
   "metadata": {},
   "outputs": [
    {
     "data": {
      "text/plain": [
       "253855"
      ]
     },
     "execution_count": 11,
     "metadata": {},
     "output_type": "execute_result"
    }
   ],
   "source": [
    "len(allWords)"
   ]
  },
  {
   "cell_type": "code",
   "execution_count": 12,
   "id": "4ce83ae0-208f-4531-8bd7-893834542292",
   "metadata": {},
   "outputs": [],
   "source": [
    "vocab = allWords[allCounts >= cutOffValue]\n",
    "wordCounts = allCounts[allCounts >= cutOffValue]"
   ]
  },
  {
   "cell_type": "code",
   "execution_count": 13,
   "id": "37f2052a-0426-475b-be9f-11ea8c5c992b",
   "metadata": {},
   "outputs": [
    {
     "data": {
      "text/plain": [
       "11815"
      ]
     },
     "execution_count": 13,
     "metadata": {},
     "output_type": "execute_result"
    }
   ],
   "source": [
    "len(vocab)"
   ]
  },
  {
   "cell_type": "code",
   "execution_count": 14,
   "id": "158dcbb0-eb91-4070-84d1-d119724df178",
   "metadata": {},
   "outputs": [],
   "source": [
    "from scipy.sparse import lil_matrix"
   ]
  },
  {
   "cell_type": "code",
   "execution_count": 15,
   "id": "fd12e525-6580-452c-a09e-810ac3d8743c",
   "metadata": {},
   "outputs": [],
   "source": [
    "def computeWordContextMatrix(corpus_list,vocab=None,windowSize=2):\n",
    "    if vocab is None:\n",
    "        vocab = sorted(list(set(cospus_list)))\n",
    "    numWords = len(vocab)\n",
    "    M = np.zeros((numWords,numWords))\n",
    "    # M = lil_matrix((numWords,numWords)) #for computing big matrix by splitting into pieces\n",
    "    W2I = dict(zip(vocab,np.arange(numWords)))\n",
    "    I2W = dict(zip(np.arange(numWords),vocab))\n",
    "    doc = corpus_list\n",
    "    docLen = len(doc)\n",
    "    curIdx = 0\n",
    "    while curIdx < docLen:\n",
    "        left = max(curIdx-windowSize,0)\n",
    "        right = min(curIdx+windowSize+1,docLen)\n",
    "        wordsInContext = doc[left:curIdx] + doc[curIdx+1:right]\n",
    "        currentWord = doc[curIdx]\n",
    "        currentWordIdx = W2I[currentWord]\n",
    "        for word in wordsInContext:\n",
    "            contextWordIdx = W2I[word]\n",
    "            M[currentWordIdx,contextWordIdx] += 1\n",
    "        curIdx += 1\n",
    "    return M,W2I,I2W"
   ]
  },
  {
   "cell_type": "code",
   "execution_count": null,
   "id": "1b8be03c-a294-4e4b-9dea-ad81a02644cb",
   "metadata": {},
   "outputs": [],
   "source": [
    "M,W2I,I2W = computeWordContextMatrix(processedCorpus_list,vocab)"
   ]
  },
  {
   "cell_type": "code",
   "execution_count": null,
   "id": "89e36d4f-730e-484e-8b9a-694d08640205",
   "metadata": {},
   "outputs": [],
   "source": [
    "M.shape"
   ]
  },
  {
   "cell_type": "code",
   "execution_count": null,
   "id": "8bcab1ce-3cda-4093-b7c2-c08dc2b558a7",
   "metadata": {},
   "outputs": [],
   "source": [
    "word = 'good'\n",
    "print(W2I[word],I2W[190])"
   ]
  },
  {
   "cell_type": "code",
   "execution_count": null,
   "id": "e729034e-2543-4383-b24a-520730061ef8",
   "metadata": {},
   "outputs": [],
   "source": [
    "v = M[W2I['good'],:]\n",
    "print(v)"
   ]
  },
  {
   "cell_type": "code",
   "execution_count": null,
   "id": "8b02d9f3-7083-44fb-be77-b6705e8b5ad9",
   "metadata": {},
   "outputs": [],
   "source": [
    "v.shape"
   ]
  },
  {
   "cell_type": "code",
   "execution_count": null,
   "id": "cff26f5a-e40a-4865-bc07-ac2a1ebf924f",
   "metadata": {},
   "outputs": [],
   "source": []
  }
 ],
 "metadata": {
  "kernelspec": {
   "display_name": "Python 3 (ipykernel)",
   "language": "python",
   "name": "python3"
  },
  "language_info": {
   "codemirror_mode": {
    "name": "ipython",
    "version": 3
   },
   "file_extension": ".py",
   "mimetype": "text/x-python",
   "name": "python",
   "nbconvert_exporter": "python",
   "pygments_lexer": "ipython3",
   "version": "3.12.7"
  }
 },
 "nbformat": 4,
 "nbformat_minor": 5
}
