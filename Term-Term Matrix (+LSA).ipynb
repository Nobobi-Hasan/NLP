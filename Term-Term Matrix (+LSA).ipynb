{
 "cells": [
  {
   "cell_type": "code",
   "execution_count": 1,
   "id": "d9f9b07b-f986-4be0-8fed-8a8b2d0f71bc",
   "metadata": {},
   "outputs": [],
   "source": [
    "import warnings\n",
    "warnings.filterwarnings('ignore')\n",
    "import re\n",
    "import numpy as np"
   ]
  },
  {
   "cell_type": "code",
   "execution_count": 2,
   "id": "dbd85442-e9b3-4ad8-a27a-1e41a9ee3d0c",
   "metadata": {},
   "outputs": [],
   "source": [
    "doc = open('../DataSets/text8','r').read().lower()"
   ]
  },
  {
   "cell_type": "code",
   "execution_count": 3,
   "id": "877383d6-14dc-40a1-a540-b545ebef04a0",
   "metadata": {},
   "outputs": [
    {
     "data": {
      "text/plain": [
       "100000000"
      ]
     },
     "execution_count": 3,
     "metadata": {},
     "output_type": "execute_result"
    }
   ],
   "source": [
    "len(doc)"
   ]
  },
  {
   "cell_type": "code",
   "execution_count": 4,
   "id": "3bad3ef1-be43-47ec-b6ba-68d0efab43e0",
   "metadata": {},
   "outputs": [],
   "source": [
    "corpus_list = re.split('\\W+', doc)"
   ]
  },
  {
   "cell_type": "code",
   "execution_count": 5,
   "id": "d436048a-479f-4a89-a1eb-83d8fd25f9ae",
   "metadata": {},
   "outputs": [
    {
     "data": {
      "text/plain": [
       "17005208"
      ]
     },
     "execution_count": 5,
     "metadata": {},
     "output_type": "execute_result"
    }
   ],
   "source": [
    "len(corpus_list)"
   ]
  },
  {
   "cell_type": "code",
   "execution_count": 6,
   "id": "f76cfc81-7feb-4e4f-92d6-978662fa5120",
   "metadata": {},
   "outputs": [],
   "source": [
    "cutOffValue = 100\n",
    "from collections import defaultdict\n",
    "frequency = defaultdict(int)\n",
    "for token in corpus_list:\n",
    "    frequency[token] += 1\n",
    "processedCorpus_list = [token for token in corpus_list \n",
    "                        if frequency[token] >= cutOffValue]"
   ]
  },
  {
   "cell_type": "code",
   "execution_count": 7,
   "id": "5fdeb08a-c085-4f52-885b-0a495d587cf2",
   "metadata": {},
   "outputs": [
    {
     "data": {
      "text/plain": [
       "15471435"
      ]
     },
     "execution_count": 7,
     "metadata": {},
     "output_type": "execute_result"
    }
   ],
   "source": [
    "len(processedCorpus_list)"
   ]
  },
  {
   "cell_type": "code",
   "execution_count": 8,
   "id": "7c6f6fc0-d36e-44cb-965c-6890e3dd0b56",
   "metadata": {},
   "outputs": [
    {
     "data": {
      "text/plain": [
       "1533773"
      ]
     },
     "execution_count": 8,
     "metadata": {},
     "output_type": "execute_result"
    }
   ],
   "source": [
    "len(corpus_list)-len(processedCorpus_list)"
   ]
  },
  {
   "cell_type": "code",
   "execution_count": 9,
   "id": "47fe188e-4047-4b05-a263-2344f9065682",
   "metadata": {},
   "outputs": [
    {
     "data": {
      "text/plain": [
       "253855"
      ]
     },
     "execution_count": 9,
     "metadata": {},
     "output_type": "execute_result"
    }
   ],
   "source": [
    "len(frequency)"
   ]
  },
  {
   "cell_type": "code",
   "execution_count": 10,
   "id": "e86a6769-3391-43c6-8482-41021c5dcca6",
   "metadata": {},
   "outputs": [],
   "source": [
    "allWords = np.array(list(frequency.keys()))\n",
    "allCounts = np.array(list(frequency.values()))"
   ]
  },
  {
   "cell_type": "code",
   "execution_count": 11,
   "id": "c2b90cfb-edc8-4292-b01c-d1abb15c3847",
   "metadata": {},
   "outputs": [
    {
     "data": {
      "text/plain": [
       "253855"
      ]
     },
     "execution_count": 11,
     "metadata": {},
     "output_type": "execute_result"
    }
   ],
   "source": [
    "len(allWords)"
   ]
  },
  {
   "cell_type": "code",
   "execution_count": 12,
   "id": "4ce83ae0-208f-4531-8bd7-893834542292",
   "metadata": {},
   "outputs": [],
   "source": [
    "vocab = allWords[allCounts >= cutOffValue]\n",
    "wordCounts = allCounts[allCounts >= cutOffValue]"
   ]
  },
  {
   "cell_type": "code",
   "execution_count": 13,
   "id": "37f2052a-0426-475b-be9f-11ea8c5c992b",
   "metadata": {},
   "outputs": [
    {
     "data": {
      "text/plain": [
       "11815"
      ]
     },
     "execution_count": 13,
     "metadata": {},
     "output_type": "execute_result"
    }
   ],
   "source": [
    "len(vocab)"
   ]
  },
  {
   "cell_type": "code",
   "execution_count": 14,
   "id": "158dcbb0-eb91-4070-84d1-d119724df178",
   "metadata": {},
   "outputs": [],
   "source": [
    "from scipy.sparse import lil_matrix"
   ]
  },
  {
   "cell_type": "code",
   "execution_count": 15,
   "id": "fd12e525-6580-452c-a09e-810ac3d8743c",
   "metadata": {},
   "outputs": [],
   "source": [
    "def computeWordContextMatrix(corpus_list,vocab=None,windowSize=2):\n",
    "    if vocab is None:\n",
    "        vocab = sorted(list(set(cospus_list)))\n",
    "    numWords = len(vocab)\n",
    "    M = np.zeros((numWords,numWords))\n",
    "    # M = lil_matrix((numWords,numWords)) #for computing big matrix by splitting into pieces\n",
    "    W2I = dict(zip(vocab,np.arange(numWords)))\n",
    "    I2W = dict(zip(np.arange(numWords),vocab))\n",
    "    doc = corpus_list\n",
    "    docLen = len(doc)\n",
    "    curIdx = 0\n",
    "    while curIdx < docLen:\n",
    "        left = max(curIdx-windowSize,0)\n",
    "        right = min(curIdx+windowSize+1,docLen)\n",
    "        wordsInContext = doc[left:curIdx] + doc[curIdx+1:right]\n",
    "        currentWord = doc[curIdx]\n",
    "        currentWordIdx = W2I[currentWord]\n",
    "        for word in wordsInContext:\n",
    "            contextWordIdx = W2I[word]\n",
    "            M[currentWordIdx,contextWordIdx] += 1\n",
    "        curIdx += 1\n",
    "    return M,W2I,I2W"
   ]
  },
  {
   "cell_type": "code",
   "execution_count": 16,
   "id": "1b8be03c-a294-4e4b-9dea-ad81a02644cb",
   "metadata": {},
   "outputs": [],
   "source": [
    "M,W2I,I2W = computeWordContextMatrix(processedCorpus_list,vocab)"
   ]
  },
  {
   "cell_type": "code",
   "execution_count": 17,
   "id": "89e36d4f-730e-484e-8b9a-694d08640205",
   "metadata": {},
   "outputs": [
    {
     "data": {
      "text/plain": [
       "(11815, 11815)"
      ]
     },
     "execution_count": 17,
     "metadata": {},
     "output_type": "execute_result"
    }
   ],
   "source": [
    "M.shape"
   ]
  },
  {
   "cell_type": "code",
   "execution_count": 18,
   "id": "8bcab1ce-3cda-4093-b7c2-c08dc2b558a7",
   "metadata": {},
   "outputs": [
    {
     "name": "stdout",
     "output_type": "stream",
     "text": [
      "190 good\n"
     ]
    }
   ],
   "source": [
    "word = 'good'\n",
    "print(W2I[word],I2W[190])"
   ]
  },
  {
   "cell_type": "code",
   "execution_count": 19,
   "id": "e729034e-2543-4383-b24a-520730061ef8",
   "metadata": {},
   "outputs": [
    {
     "name": "stdout",
     "output_type": "stream",
     "text": [
      "[  0.   0. 214. ...   0.   0.   0.]\n"
     ]
    }
   ],
   "source": [
    "v = M[W2I['good'],:]\n",
    "print(v)"
   ]
  },
  {
   "cell_type": "code",
   "execution_count": 20,
   "id": "8b02d9f3-7083-44fb-be77-b6705e8b5ad9",
   "metadata": {},
   "outputs": [
    {
     "data": {
      "text/plain": [
       "(11815,)"
      ]
     },
     "execution_count": 20,
     "metadata": {},
     "output_type": "execute_result"
    }
   ],
   "source": [
    "v.shape"
   ]
  },
  {
   "cell_type": "code",
   "execution_count": 21,
   "id": "cff26f5a-e40a-4865-bc07-ac2a1ebf924f",
   "metadata": {},
   "outputs": [],
   "source": [
    "def pmi(M, positive=True):\n",
    "    col_totals = np.sum(M,axis=0)\n",
    "    total = col_totals.sum()\n",
    "    row_totals = np.sum(M,axis=1)\n",
    "    expected = np.outer(row_totals, col_totals) / total\n",
    "    M = M / expected    \n",
    "    with np.errstate(divide='ignore'):\n",
    "        M = np.log(M)\n",
    "    M[np.isinf(M)] = 0.0  \n",
    "    if positive:\n",
    "        M[M < 0] = 0.0\n",
    "    return M"
   ]
  },
  {
   "cell_type": "code",
   "execution_count": 22,
   "id": "5f1efedf-cc9f-4871-b409-607c4ca116d4",
   "metadata": {},
   "outputs": [],
   "source": [
    "M = pmi(M)"
   ]
  },
  {
   "cell_type": "code",
   "execution_count": 23,
   "id": "718d8672-e5da-4df1-81e0-dde51050972d",
   "metadata": {},
   "outputs": [
    {
     "data": {
      "text/plain": [
       "array([0.       , 0.       , 0.4605286, ..., 0.       , 0.       ,\n",
       "       0.       ])"
      ]
     },
     "execution_count": 23,
     "metadata": {},
     "output_type": "execute_result"
    }
   ],
   "source": [
    "M[W2I['good'],:]"
   ]
  },
  {
   "cell_type": "markdown",
   "id": "d60f0b0a-74fc-4e26-8662-88cd961a3e3d",
   "metadata": {},
   "source": [
    "# Latent Semantic Analysis (LSA)"
   ]
  },
  {
   "cell_type": "code",
   "execution_count": 24,
   "id": "58c8abbd-7c34-42f1-9c74-98ff6064eec3",
   "metadata": {},
   "outputs": [],
   "source": [
    "from sklearn.decomposition import TruncatedSVD, PCA, IncrementalPCA # IncrementalPCA is used when the matrix is very-very large"
   ]
  },
  {
   "cell_type": "code",
   "execution_count": 25,
   "id": "ee9800e0-d5c5-4ced-a877-3a6b0c456c2a",
   "metadata": {},
   "outputs": [],
   "source": [
    "transformer = TruncatedSVD(n_components=100)  # new dimention size = 100"
   ]
  },
  {
   "cell_type": "code",
   "execution_count": 26,
   "id": "5fe3486a-b968-485c-bab3-9e48cd8ccbf5",
   "metadata": {},
   "outputs": [],
   "source": [
    "M_reduced = transformer.fit_transform(M)"
   ]
  },
  {
   "cell_type": "code",
   "execution_count": 27,
   "id": "62d41834-cae6-4a0a-a11a-c26cd6160ac3",
   "metadata": {},
   "outputs": [
    {
     "name": "stdout",
     "output_type": "stream",
     "text": [
      "(11815, 11815)\n",
      "(11815, 100)\n"
     ]
    }
   ],
   "source": [
    "print(M.shape)\n",
    "print(M_reduced.shape)"
   ]
  },
  {
   "cell_type": "code",
   "execution_count": 28,
   "id": "5324c89a-bdfc-4d22-bdc0-77c345948e86",
   "metadata": {},
   "outputs": [
    {
     "data": {
      "text/plain": [
       "array([ 2.35845596e+01, -3.84230767e+00, -3.72714440e+00, -4.18267360e+00,\n",
       "       -4.50621183e+00, -7.88498438e+00, -1.00248338e+00, -3.38178649e+00,\n",
       "        5.66312607e-02, -2.34171237e+00,  7.71473461e+00,  2.24912448e+00,\n",
       "       -2.86819658e+00,  3.30272978e+00,  5.33119719e-01, -1.45164127e-01,\n",
       "       -6.91936354e+00,  4.46569982e+00, -8.78329180e-01, -3.48499065e-01,\n",
       "        1.34578743e+00,  7.97692179e-01,  1.88126280e+00,  3.97660440e+00,\n",
       "       -2.33375571e+00,  8.54554669e-01, -1.33064684e+00,  2.24457510e+00,\n",
       "        1.39802373e+00,  1.40547140e-01, -4.07373072e+00,  3.85558679e+00,\n",
       "       -5.16711997e-01,  4.50430274e+00,  8.07001580e-01,  1.38853462e+00,\n",
       "       -1.11276087e+00, -3.19178905e+00,  1.83431130e+00, -2.41861855e+00,\n",
       "       -2.85582748e-01, -1.80668488e+00, -1.46053076e+00,  2.41503461e+00,\n",
       "       -6.09839636e-01, -1.65615022e+00,  1.21798658e+00,  1.75512603e+00,\n",
       "       -3.58298274e-01,  8.97585270e-01,  2.84503991e+00,  2.04183897e+00,\n",
       "       -1.67567526e-01,  2.57994983e+00, -1.33405078e+00, -2.28520638e+00,\n",
       "        8.69659287e-01, -1.88611953e+00, -2.52284318e+00, -3.11652024e+00,\n",
       "       -1.86634028e+00, -8.20853504e-01, -1.20160132e+00,  9.89140766e-01,\n",
       "       -7.91834029e-01, -2.28165629e-01,  1.46152785e-01,  1.56630405e+00,\n",
       "        1.20536780e+00, -7.53370230e-01, -1.19121425e+00,  1.25657936e+00,\n",
       "       -3.88092746e-01, -6.41724990e-01,  4.17665951e-01, -2.37312318e+00,\n",
       "       -2.29071252e+00, -7.82806766e-02, -1.72296755e+00,  3.63395779e+00,\n",
       "        2.21005205e+00, -3.58596222e-01,  4.46719052e-03,  2.24880413e-01,\n",
       "       -5.98437262e-01,  1.88584050e+00, -7.53159716e-01, -7.36547191e-01,\n",
       "        2.57943857e+00, -1.42627863e-01, -4.96482699e-01, -3.44686774e-02,\n",
       "       -1.83397955e+00,  1.90296783e+00, -1.48995576e+00,  1.21062610e+00,\n",
       "       -1.40825902e+00,  2.11707263e+00,  9.86604880e-01, -2.92892379e+00])"
      ]
     },
     "execution_count": 28,
     "metadata": {},
     "output_type": "execute_result"
    }
   ],
   "source": [
    "M_reduced[W2I['good'],:]"
   ]
  },
  {
   "cell_type": "code",
   "execution_count": null,
   "id": "f8b3d497-3da9-4f5f-816f-2214ba886c9d",
   "metadata": {},
   "outputs": [],
   "source": []
  }
 ],
 "metadata": {
  "kernelspec": {
   "display_name": "Python 3 (ipykernel)",
   "language": "python",
   "name": "python3"
  },
  "language_info": {
   "codemirror_mode": {
    "name": "ipython",
    "version": 3
   },
   "file_extension": ".py",
   "mimetype": "text/x-python",
   "name": "python",
   "nbconvert_exporter": "python",
   "pygments_lexer": "ipython3",
   "version": "3.12.7"
  }
 },
 "nbformat": 4,
 "nbformat_minor": 5
}
