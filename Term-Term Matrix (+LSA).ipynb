{
 "cells": [
  {
   "cell_type": "code",
   "execution_count": 1,
   "id": "d9f9b07b-f986-4be0-8fed-8a8b2d0f71bc",
   "metadata": {},
   "outputs": [],
   "source": [
    "import warnings\n",
    "warnings.filterwarnings('ignore')\n",
    "import re\n",
    "import numpy as np"
   ]
  },
  {
   "cell_type": "code",
   "execution_count": 2,
   "id": "dbd85442-e9b3-4ad8-a27a-1e41a9ee3d0c",
   "metadata": {},
   "outputs": [],
   "source": [
    "doc = open('../DataSets/text8','r').read().lower()"
   ]
  },
  {
   "cell_type": "code",
   "execution_count": 3,
   "id": "877383d6-14dc-40a1-a540-b545ebef04a0",
   "metadata": {},
   "outputs": [
    {
     "data": {
      "text/plain": [
       "100000000"
      ]
     },
     "execution_count": 3,
     "metadata": {},
     "output_type": "execute_result"
    }
   ],
   "source": [
    "len(doc)"
   ]
  },
  {
   "cell_type": "code",
   "execution_count": 4,
   "id": "3bad3ef1-be43-47ec-b6ba-68d0efab43e0",
   "metadata": {},
   "outputs": [],
   "source": [
    "corpus_list = re.split('\\W+', doc)"
   ]
  },
  {
   "cell_type": "code",
   "execution_count": 5,
   "id": "d436048a-479f-4a89-a1eb-83d8fd25f9ae",
   "metadata": {},
   "outputs": [
    {
     "data": {
      "text/plain": [
       "17005208"
      ]
     },
     "execution_count": 5,
     "metadata": {},
     "output_type": "execute_result"
    }
   ],
   "source": [
    "len(corpus_list)"
   ]
  },
  {
   "cell_type": "code",
   "execution_count": 6,
   "id": "f76cfc81-7feb-4e4f-92d6-978662fa5120",
   "metadata": {},
   "outputs": [],
   "source": [
    "cutOffValue = 100\n",
    "from collections import defaultdict\n",
    "frequency = defaultdict(int)\n",
    "for token in corpus_list:\n",
    "    frequency[token] += 1\n",
    "processedCorpus_list = [token for token in corpus_list \n",
    "                        if frequency[token] >= cutOffValue]"
   ]
  },
  {
   "cell_type": "code",
   "execution_count": 7,
   "id": "5fdeb08a-c085-4f52-885b-0a495d587cf2",
   "metadata": {},
   "outputs": [
    {
     "data": {
      "text/plain": [
       "15471435"
      ]
     },
     "execution_count": 7,
     "metadata": {},
     "output_type": "execute_result"
    }
   ],
   "source": [
    "len(processedCorpus_list)"
   ]
  },
  {
   "cell_type": "code",
   "execution_count": 8,
   "id": "7c6f6fc0-d36e-44cb-965c-6890e3dd0b56",
   "metadata": {},
   "outputs": [
    {
     "data": {
      "text/plain": [
       "1533773"
      ]
     },
     "execution_count": 8,
     "metadata": {},
     "output_type": "execute_result"
    }
   ],
   "source": [
    "len(corpus_list)-len(processedCorpus_list)"
   ]
  },
  {
   "cell_type": "code",
   "execution_count": 9,
   "id": "47fe188e-4047-4b05-a263-2344f9065682",
   "metadata": {},
   "outputs": [
    {
     "data": {
      "text/plain": [
       "253855"
      ]
     },
     "execution_count": 9,
     "metadata": {},
     "output_type": "execute_result"
    }
   ],
   "source": [
    "len(frequency)"
   ]
  },
  {
   "cell_type": "code",
   "execution_count": 10,
   "id": "e86a6769-3391-43c6-8482-41021c5dcca6",
   "metadata": {},
   "outputs": [],
   "source": [
    "allWords = np.array(list(frequency.keys()))\n",
    "allCounts = np.array(list(frequency.values()))"
   ]
  },
  {
   "cell_type": "code",
   "execution_count": 11,
   "id": "c2b90cfb-edc8-4292-b01c-d1abb15c3847",
   "metadata": {},
   "outputs": [
    {
     "data": {
      "text/plain": [
       "253855"
      ]
     },
     "execution_count": 11,
     "metadata": {},
     "output_type": "execute_result"
    }
   ],
   "source": [
    "len(allWords)"
   ]
  },
  {
   "cell_type": "code",
   "execution_count": 12,
   "id": "4ce83ae0-208f-4531-8bd7-893834542292",
   "metadata": {},
   "outputs": [],
   "source": [
    "vocab = allWords[allCounts >= cutOffValue]\n",
    "wordCounts = allCounts[allCounts >= cutOffValue]"
   ]
  },
  {
   "cell_type": "code",
   "execution_count": 13,
   "id": "37f2052a-0426-475b-be9f-11ea8c5c992b",
   "metadata": {},
   "outputs": [
    {
     "data": {
      "text/plain": [
       "11815"
      ]
     },
     "execution_count": 13,
     "metadata": {},
     "output_type": "execute_result"
    }
   ],
   "source": [
    "len(vocab)"
   ]
  },
  {
   "cell_type": "code",
   "execution_count": 14,
   "id": "158dcbb0-eb91-4070-84d1-d119724df178",
   "metadata": {},
   "outputs": [],
   "source": [
    "from scipy.sparse import lil_matrix"
   ]
  },
  {
   "cell_type": "code",
   "execution_count": 15,
   "id": "fd12e525-6580-452c-a09e-810ac3d8743c",
   "metadata": {},
   "outputs": [],
   "source": [
    "def computeWordContextMatrix(corpus_list,vocab=None,windowSize=2):\n",
    "    if vocab is None:\n",
    "        vocab = sorted(list(set(cospus_list)))\n",
    "    numWords = len(vocab)\n",
    "    M = np.zeros((numWords,numWords))\n",
    "    # M = lil_matrix((numWords,numWords)) #for computing big matrix by splitting into pieces\n",
    "    W2I = dict(zip(vocab,np.arange(numWords)))\n",
    "    I2W = dict(zip(np.arange(numWords),vocab))\n",
    "    doc = corpus_list\n",
    "    docLen = len(doc)\n",
    "    curIdx = 0\n",
    "    while curIdx < docLen:\n",
    "        left = max(curIdx-windowSize,0)\n",
    "        right = min(curIdx+windowSize+1,docLen)\n",
    "        wordsInContext = doc[left:curIdx] + doc[curIdx+1:right]\n",
    "        currentWord = doc[curIdx]\n",
    "        currentWordIdx = W2I[currentWord]\n",
    "        for word in wordsInContext:\n",
    "            contextWordIdx = W2I[word]\n",
    "            M[currentWordIdx,contextWordIdx] += 1\n",
    "        curIdx += 1\n",
    "    return M,W2I,I2W"
   ]
  },
  {
   "cell_type": "code",
   "execution_count": 16,
   "id": "1b8be03c-a294-4e4b-9dea-ad81a02644cb",
   "metadata": {},
   "outputs": [],
   "source": [
    "M,W2I,I2W = computeWordContextMatrix(processedCorpus_list,vocab)"
   ]
  },
  {
   "cell_type": "code",
   "execution_count": 17,
   "id": "89e36d4f-730e-484e-8b9a-694d08640205",
   "metadata": {},
   "outputs": [
    {
     "data": {
      "text/plain": [
       "(11815, 11815)"
      ]
     },
     "execution_count": 17,
     "metadata": {},
     "output_type": "execute_result"
    }
   ],
   "source": [
    "M.shape"
   ]
  },
  {
   "cell_type": "code",
   "execution_count": 18,
   "id": "8bcab1ce-3cda-4093-b7c2-c08dc2b558a7",
   "metadata": {},
   "outputs": [
    {
     "name": "stdout",
     "output_type": "stream",
     "text": [
      "190 good\n"
     ]
    }
   ],
   "source": [
    "word = 'good'\n",
    "print(W2I[word],I2W[190])"
   ]
  },
  {
   "cell_type": "code",
   "execution_count": 19,
   "id": "e729034e-2543-4383-b24a-520730061ef8",
   "metadata": {},
   "outputs": [
    {
     "name": "stdout",
     "output_type": "stream",
     "text": [
      "[  0.   0. 214. ...   0.   0.   0.]\n"
     ]
    }
   ],
   "source": [
    "v = M[W2I['good'],:]\n",
    "print(v)"
   ]
  },
  {
   "cell_type": "code",
   "execution_count": 20,
   "id": "8b02d9f3-7083-44fb-be77-b6705e8b5ad9",
   "metadata": {},
   "outputs": [
    {
     "data": {
      "text/plain": [
       "(11815,)"
      ]
     },
     "execution_count": 20,
     "metadata": {},
     "output_type": "execute_result"
    }
   ],
   "source": [
    "v.shape"
   ]
  },
  {
   "cell_type": "code",
   "execution_count": 21,
   "id": "cff26f5a-e40a-4865-bc07-ac2a1ebf924f",
   "metadata": {},
   "outputs": [],
   "source": [
    "def pmi(M, positive=True):\n",
    "    col_totals = np.sum(M,axis=0)\n",
    "    total = col_totals.sum()\n",
    "    row_totals = np.sum(M,axis=1)\n",
    "    expected = np.outer(row_totals, col_totals) / total\n",
    "    M = M / expected    \n",
    "    with np.errstate(divide='ignore'):\n",
    "        M = np.log(M)\n",
    "    M[np.isinf(M)] = 0.0  \n",
    "    if positive:\n",
    "        M[M < 0] = 0.0\n",
    "    return M"
   ]
  },
  {
   "cell_type": "code",
   "execution_count": 22,
   "id": "5f1efedf-cc9f-4871-b409-607c4ca116d4",
   "metadata": {},
   "outputs": [],
   "source": [
    "M = pmi(M)"
   ]
  },
  {
   "cell_type": "code",
   "execution_count": 23,
   "id": "718d8672-e5da-4df1-81e0-dde51050972d",
   "metadata": {},
   "outputs": [
    {
     "data": {
      "text/plain": [
       "array([0.       , 0.       , 0.4605286, ..., 0.       , 0.       ,\n",
       "       0.       ])"
      ]
     },
     "execution_count": 23,
     "metadata": {},
     "output_type": "execute_result"
    }
   ],
   "source": [
    "M[W2I['good'],:]"
   ]
  },
  {
   "cell_type": "markdown",
   "id": "d60f0b0a-74fc-4e26-8662-88cd961a3e3d",
   "metadata": {},
   "source": [
    "# Latent Semantic Analysis (LSA)"
   ]
  },
  {
   "cell_type": "code",
   "execution_count": 24,
   "id": "58c8abbd-7c34-42f1-9c74-98ff6064eec3",
   "metadata": {},
   "outputs": [],
   "source": [
    "from sklearn.decomposition import TruncatedSVD, PCA, IncrementalPCA # IncrementalPCA is used when the matrix is very-very large"
   ]
  },
  {
   "cell_type": "code",
   "execution_count": 25,
   "id": "ee9800e0-d5c5-4ced-a877-3a6b0c456c2a",
   "metadata": {},
   "outputs": [],
   "source": [
    "transformer = TruncatedSVD(n_components=100)  # new dimention size = 100"
   ]
  },
  {
   "cell_type": "code",
   "execution_count": 26,
   "id": "5fe3486a-b968-485c-bab3-9e48cd8ccbf5",
   "metadata": {},
   "outputs": [],
   "source": [
    "M_reduced = transformer.fit_transform(M)"
   ]
  },
  {
   "cell_type": "code",
   "execution_count": 27,
   "id": "62d41834-cae6-4a0a-a11a-c26cd6160ac3",
   "metadata": {},
   "outputs": [
    {
     "name": "stdout",
     "output_type": "stream",
     "text": [
      "(11815, 11815)\n",
      "(11815, 100)\n"
     ]
    }
   ],
   "source": [
    "print(M.shape)\n",
    "print(M_reduced.shape)"
   ]
  },
  {
   "cell_type": "code",
   "execution_count": 28,
   "id": "5324c89a-bdfc-4d22-bdc0-77c345948e86",
   "metadata": {},
   "outputs": [
    {
     "data": {
      "text/plain": [
       "array([ 2.35845596e+01, -3.84230767e+00, -3.72714382e+00, -4.18267227e+00,\n",
       "       -4.50620860e+00, -7.88498267e+00, -1.00250679e+00, -3.38179848e+00,\n",
       "        5.66383617e-02, -2.34153819e+00,  7.71481499e+00,  2.24923434e+00,\n",
       "       -2.86809213e+00,  3.30206685e+00,  5.34319894e-01, -1.45753630e-01,\n",
       "       -6.91953826e+00,  4.47009982e+00, -8.77516881e-01, -3.41816223e-01,\n",
       "        1.34011207e+00,  7.91244899e-01,  1.87614785e+00,  3.97524597e+00,\n",
       "       -2.32709745e+00,  8.43940858e-01, -1.32130813e+00,  2.26466713e+00,\n",
       "        1.38199081e+00,  1.32274875e-01, -4.03627737e+00,  3.90541555e+00,\n",
       "       -4.48808236e-01,  4.52999645e+00,  7.98620985e-01,  1.36358028e+00,\n",
       "       -1.10799523e+00, -3.11078507e+00,  1.79666804e+00, -2.51067837e+00,\n",
       "       -3.60075139e-01, -1.86699839e+00, -1.32702197e+00,  2.59448927e+00,\n",
       "       -1.20815749e+00, -1.90374782e+00,  1.35565159e+00,  1.72011108e+00,\n",
       "       -2.90397363e-01,  9.35469145e-01,  3.23722582e+00,  1.38203420e+00,\n",
       "       -3.38730214e-01,  3.10179717e+00,  7.62538106e-01,  1.89792604e+00,\n",
       "       -9.04248967e-01, -1.72770864e-01, -3.64753518e+00, -1.21991985e+00,\n",
       "       -1.39493241e+00, -2.94984164e+00,  1.12581553e+00,  3.13264477e-01,\n",
       "        9.50355791e-01,  3.92095358e-02, -5.94401371e-01, -2.42688641e+00,\n",
       "       -1.40635522e-01, -5.21351543e-01,  8.45596629e-01,  8.21259015e-01,\n",
       "        1.28850313e+00, -1.95608056e+00,  2.95276971e+00,  2.86452824e+00,\n",
       "       -1.40124276e+00,  1.29677089e+00,  2.67773763e+00, -1.51145757e+00,\n",
       "        1.59183984e+00,  5.76741272e-01,  4.72844824e-02,  8.39066518e-01,\n",
       "        1.18592827e+00,  2.78605576e-03, -2.52332937e+00,  7.40472061e-01,\n",
       "       -2.66871350e-01,  1.09258337e+00,  1.55114086e-01, -5.63305512e-01,\n",
       "        2.66507943e-01, -9.20595702e-01,  2.34567687e+00,  1.28344158e+00,\n",
       "        2.91348346e-01,  1.41323894e+00, -3.24207494e+00,  2.15635738e+00])"
      ]
     },
     "execution_count": 28,
     "metadata": {},
     "output_type": "execute_result"
    }
   ],
   "source": [
    "M_reduced[W2I['good'],:]"
   ]
  },
  {
   "cell_type": "markdown",
   "id": "fcb4d67e-c55b-4a1d-927d-6e66282c8dc1",
   "metadata": {},
   "source": [
    "# Word Semantics"
   ]
  },
  {
   "cell_type": "markdown",
   "id": "767aaeb7-0f03-4228-b7a4-e29df70c654f",
   "metadata": {},
   "source": [
    "## Cosine Similarity"
   ]
  },
  {
   "cell_type": "code",
   "execution_count": 29,
   "id": "517610d7-fd0a-458d-bd27-7d24125ac871",
   "metadata": {},
   "outputs": [],
   "source": [
    "def getNorms(E):  # e = single row vector or multiple row matrix\n",
    "    if E.ndim == 1:\n",
    "        E = E[np.newaxis,:]\n",
    "    nrms = np.sum(E**2,axis=1)**0.5  # calculate magnitude ( ||E|| )\n",
    "    return nrms"
   ]
  },
  {
   "cell_type": "code",
   "execution_count": 30,
   "id": "0329c3a7-b69d-477c-b145-06c67cb41a40",
   "metadata": {},
   "outputs": [
    {
     "name": "stdout",
     "output_type": "stream",
     "text": [
      "(100,)\n",
      "(1, 100)\n",
      "[33.57804637]\n"
     ]
    }
   ],
   "source": [
    "v = M_reduced[W2I['good'],:]\n",
    "print(v.shape)\n",
    "\n",
    "v = v[np.newaxis,:]\n",
    "print(v.shape)\n",
    "\n",
    "print(getNorms(v))"
   ]
  },
  {
   "cell_type": "code",
   "execution_count": 31,
   "id": "f1a883a1-20f8-4b20-b083-8af527c23b18",
   "metadata": {},
   "outputs": [
    {
     "name": "stdout",
     "output_type": "stream",
     "text": [
      "(3, 100)\n",
      "[20.38316302 39.12603251 34.56945578]\n"
     ]
    }
   ],
   "source": [
    "v = M_reduced[[1,3,5],:]\n",
    "print(v.shape)\n",
    "print(getNorms(v))"
   ]
  },
  {
   "cell_type": "code",
   "execution_count": 32,
   "id": "348d1c22-d12f-42c7-8d7e-b626c20d1900",
   "metadata": {},
   "outputs": [],
   "source": [
    "def normalize(E):  # e = single row vector or multiple row matrix\n",
    "    if E.ndim == 1:\n",
    "        E = E[np.newaxis,:]\n",
    "    nrms = getNorms(E)\n",
    "    return E/nrms[:,np.newaxis]"
   ]
  },
  {
   "cell_type": "code",
   "execution_count": 33,
   "id": "0419649f-02c4-4be7-9113-acb846d17c76",
   "metadata": {},
   "outputs": [
    {
     "name": "stdout",
     "output_type": "stream",
     "text": [
      "[1. 1. 1.] [20.38316302 39.12603251 34.56945578]\n"
     ]
    }
   ],
   "source": [
    "# v = M_reduced[1,:]\n",
    "v = M_reduced[[1,3,5],:]\n",
    "v2 = normalize(v)\n",
    "print(getNorms(v2), getNorms(v)) # normalize makes it 1"
   ]
  },
  {
   "cell_type": "code",
   "execution_count": 34,
   "id": "051b17b3-4dee-418c-b4d6-192c477cc9b9",
   "metadata": {},
   "outputs": [],
   "source": [
    "# Measuring cosine similarity of 'v' with all the vectors of 'E'.\n",
    "\n",
    "def cosineSimilarity(E,v): # here vector v is always a single vector; E can be single or multiple\n",
    "    E = normalize(E)\n",
    "    v = normalize(v)\n",
    "    scores = E.dot(v.T)\n",
    "    return scores"
   ]
  },
  {
   "cell_type": "code",
   "execution_count": 35,
   "id": "c46b2cf1-165b-44c2-90ac-2d99c703b929",
   "metadata": {},
   "outputs": [
    {
     "name": "stdout",
     "output_type": "stream",
     "text": [
      "[[0.62979723]]\n"
     ]
    }
   ],
   "source": [
    "E = M_reduced[W2I['good'],:]\n",
    "v = M_reduced[W2I['nice'],:]\n",
    "\n",
    "print(cosineSimilarity(E,v))"
   ]
  },
  {
   "cell_type": "code",
   "execution_count": 36,
   "id": "b1620a57-0cd9-4d62-9444-eecf29ea1d70",
   "metadata": {},
   "outputs": [
    {
     "name": "stdout",
     "output_type": "stream",
     "text": [
      "[[0.44298945]\n",
      " [0.44520478]\n",
      " [0.30407804]]\n",
      "(3, 1)\n",
      "[0.44298945 0.44520478 0.30407804]\n",
      "(3,)\n"
     ]
    }
   ],
   "source": [
    "E = M_reduced[[1,3,5],:]\n",
    "v = M_reduced[W2I['nice'],:]\n",
    "\n",
    "scores = cosineSimilarity(E,v)\n",
    "print(scores)\n",
    "print(scores.shape)\n",
    "\n",
    "scores = scores.squeeze()\n",
    "print(scores)\n",
    "print(scores.shape)"
   ]
  },
  {
   "cell_type": "code",
   "execution_count": 37,
   "id": "a2efce06-5e5f-4bac-add6-009cbb7040dc",
   "metadata": {},
   "outputs": [
    {
     "name": "stdout",
     "output_type": "stream",
     "text": [
      "[0.30155857 0.44298945 0.28930459 ... 0.41516238 0.22871733 0.3565078 ]\n",
      "(11815,)\n"
     ]
    }
   ],
   "source": [
    "E = M_reduced\n",
    "v = M_reduced[W2I['nice'],:]\n",
    "\n",
    "scores = cosineSimilarity(E,v)\n",
    "scores = scores.squeeze()\n",
    "print(scores)\n",
    "print(scores.shape)"
   ]
  },
  {
   "cell_type": "code",
   "execution_count": 38,
   "id": "a4187116-d156-4a08-b037-c4885a1c50d3",
   "metadata": {},
   "outputs": [],
   "source": [
    "def getMostSimilarWords(E, word, W2I, topn = 10):\n",
    "    if type(word) is str:\n",
    "        v = E[W2I[word],:]\n",
    "    else:\n",
    "        v = word\n",
    "    scores = cosineSimilarity(E, v)\n",
    "    scores = scores.squeeze()\n",
    "    sortedScores = np.sort(scores)[::-1]\n",
    "    sortedIdx = np.argsort(scores)[::-1]\n",
    "    topNScores = sortedScores[:topn]\n",
    "    topNScoreIdx = sortedIdx[:topn]\n",
    "    return topNScores, topNScoreIdx"
   ]
  },
  {
   "cell_type": "code",
   "execution_count": 39,
   "id": "58b3c57e-71fd-4c55-94d4-196814cbf206",
   "metadata": {},
   "outputs": [],
   "source": [
    "t10Scores, t10idx = getMostSimilarWords(M_reduced, 'nice', W2I)"
   ]
  },
  {
   "cell_type": "code",
   "execution_count": 40,
   "id": "a555973a-14e9-4a63-8a44-c283bfb28264",
   "metadata": {},
   "outputs": [
    {
     "name": "stdout",
     "output_type": "stream",
     "text": [
      "[1.         0.72842868 0.71886702 0.70862623 0.7038367  0.70305251\n",
      " 0.69787531 0.6876513  0.6836204  0.68339808]\n",
      "[ 1368  7548  3248  4441  9610  4375 10269  4631  3543  8678]\n"
     ]
    }
   ],
   "source": [
    "print(t10Scores)\n",
    "print(t10idx)"
   ]
  },
  {
   "cell_type": "code",
   "execution_count": 41,
   "id": "1b2ed565-573a-4125-a6d0-64387c27c451",
   "metadata": {},
   "outputs": [
    {
     "name": "stdout",
     "output_type": "stream",
     "text": [
      "1.0 nice\n",
      "0.7284286830108052 pretty\n",
      "0.7188670165041214 happy\n",
      "0.7086262325483703 stuff\n",
      "0.7038367007691811 dirty\n",
      "0.7030525050529061 likes\n",
      "0.6978753121229505 welcome\n",
      "0.6876512962680659 looks\n",
      "0.6836204026605797 boys\n",
      "0.6833980790175862 maybe\n"
     ]
    }
   ],
   "source": [
    "for s, i in zip(t10Scores, t10idx):\n",
    "    print(s, I2W[i])"
   ]
  },
  {
   "cell_type": "code",
   "execution_count": null,
   "id": "9d05f049-ddd5-4ea0-82ac-68f129a25625",
   "metadata": {},
   "outputs": [],
   "source": []
  }
 ],
 "metadata": {
  "kernelspec": {
   "display_name": "Python 3 (ipykernel)",
   "language": "python",
   "name": "python3"
  },
  "language_info": {
   "codemirror_mode": {
    "name": "ipython",
    "version": 3
   },
   "file_extension": ".py",
   "mimetype": "text/x-python",
   "name": "python",
   "nbconvert_exporter": "python",
   "pygments_lexer": "ipython3",
   "version": "3.12.7"
  }
 },
 "nbformat": 4,
 "nbformat_minor": 5
}
