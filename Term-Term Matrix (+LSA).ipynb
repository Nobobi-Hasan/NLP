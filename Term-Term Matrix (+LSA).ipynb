{
 "cells": [
  {
   "cell_type": "code",
   "execution_count": 1,
   "id": "d9f9b07b-f986-4be0-8fed-8a8b2d0f71bc",
   "metadata": {},
   "outputs": [],
   "source": [
    "import warnings\n",
    "warnings.filterwarnings('ignore')\n",
    "import re\n",
    "import numpy as np"
   ]
  },
  {
   "cell_type": "code",
   "execution_count": 2,
   "id": "dbd85442-e9b3-4ad8-a27a-1e41a9ee3d0c",
   "metadata": {},
   "outputs": [],
   "source": [
    "doc = open('../DataSets/text8','r').read().lower()"
   ]
  },
  {
   "cell_type": "code",
   "execution_count": 3,
   "id": "877383d6-14dc-40a1-a540-b545ebef04a0",
   "metadata": {},
   "outputs": [
    {
     "data": {
      "text/plain": [
       "100000000"
      ]
     },
     "execution_count": 3,
     "metadata": {},
     "output_type": "execute_result"
    }
   ],
   "source": [
    "len(doc)"
   ]
  },
  {
   "cell_type": "code",
   "execution_count": 4,
   "id": "3bad3ef1-be43-47ec-b6ba-68d0efab43e0",
   "metadata": {},
   "outputs": [],
   "source": [
    "corpus_list = re.split('\\W+', doc)"
   ]
  },
  {
   "cell_type": "code",
   "execution_count": 5,
   "id": "d436048a-479f-4a89-a1eb-83d8fd25f9ae",
   "metadata": {},
   "outputs": [
    {
     "data": {
      "text/plain": [
       "17005208"
      ]
     },
     "execution_count": 5,
     "metadata": {},
     "output_type": "execute_result"
    }
   ],
   "source": [
    "len(corpus_list)"
   ]
  },
  {
   "cell_type": "code",
   "execution_count": 6,
   "id": "f76cfc81-7feb-4e4f-92d6-978662fa5120",
   "metadata": {},
   "outputs": [],
   "source": [
    "cutOffValue = 100\n",
    "from collections import defaultdict\n",
    "frequency = defaultdict(int)\n",
    "for token in corpus_list:\n",
    "    frequency[token] += 1\n",
    "processedCorpus_list = [token for token in corpus_list \n",
    "                        if frequency[token] >= cutOffValue]"
   ]
  },
  {
   "cell_type": "code",
   "execution_count": 7,
   "id": "5fdeb08a-c085-4f52-885b-0a495d587cf2",
   "metadata": {},
   "outputs": [
    {
     "data": {
      "text/plain": [
       "15471435"
      ]
     },
     "execution_count": 7,
     "metadata": {},
     "output_type": "execute_result"
    }
   ],
   "source": [
    "len(processedCorpus_list)"
   ]
  },
  {
   "cell_type": "code",
   "execution_count": 8,
   "id": "7c6f6fc0-d36e-44cb-965c-6890e3dd0b56",
   "metadata": {},
   "outputs": [
    {
     "data": {
      "text/plain": [
       "1533773"
      ]
     },
     "execution_count": 8,
     "metadata": {},
     "output_type": "execute_result"
    }
   ],
   "source": [
    "len(corpus_list)-len(processedCorpus_list)"
   ]
  },
  {
   "cell_type": "code",
   "execution_count": 9,
   "id": "47fe188e-4047-4b05-a263-2344f9065682",
   "metadata": {},
   "outputs": [
    {
     "data": {
      "text/plain": [
       "253855"
      ]
     },
     "execution_count": 9,
     "metadata": {},
     "output_type": "execute_result"
    }
   ],
   "source": [
    "len(frequency)"
   ]
  },
  {
   "cell_type": "code",
   "execution_count": 10,
   "id": "e86a6769-3391-43c6-8482-41021c5dcca6",
   "metadata": {},
   "outputs": [],
   "source": [
    "allWords = np.array(list(frequency.keys()))\n",
    "allCounts = np.array(list(frequency.values()))"
   ]
  },
  {
   "cell_type": "code",
   "execution_count": 11,
   "id": "c2b90cfb-edc8-4292-b01c-d1abb15c3847",
   "metadata": {},
   "outputs": [
    {
     "data": {
      "text/plain": [
       "253855"
      ]
     },
     "execution_count": 11,
     "metadata": {},
     "output_type": "execute_result"
    }
   ],
   "source": [
    "len(allWords)"
   ]
  },
  {
   "cell_type": "code",
   "execution_count": 12,
   "id": "4ce83ae0-208f-4531-8bd7-893834542292",
   "metadata": {},
   "outputs": [],
   "source": [
    "vocab = allWords[allCounts >= cutOffValue]\n",
    "wordCounts = allCounts[allCounts >= cutOffValue]"
   ]
  },
  {
   "cell_type": "code",
   "execution_count": 13,
   "id": "37f2052a-0426-475b-be9f-11ea8c5c992b",
   "metadata": {},
   "outputs": [
    {
     "data": {
      "text/plain": [
       "11815"
      ]
     },
     "execution_count": 13,
     "metadata": {},
     "output_type": "execute_result"
    }
   ],
   "source": [
    "len(vocab)"
   ]
  },
  {
   "cell_type": "code",
   "execution_count": 14,
   "id": "158dcbb0-eb91-4070-84d1-d119724df178",
   "metadata": {},
   "outputs": [],
   "source": [
    "from scipy.sparse import lil_matrix"
   ]
  },
  {
   "cell_type": "code",
   "execution_count": 15,
   "id": "fd12e525-6580-452c-a09e-810ac3d8743c",
   "metadata": {},
   "outputs": [],
   "source": [
    "def computeWordContextMatrix(corpus_list,vocab=None,windowSize=2):\n",
    "    if vocab is None:\n",
    "        vocab = sorted(list(set(cospus_list)))\n",
    "    numWords = len(vocab)\n",
    "    M = np.zeros((numWords,numWords))\n",
    "    # M = lil_matrix((numWords,numWords)) #for computing big matrix by splitting into pieces\n",
    "    W2I = dict(zip(vocab,np.arange(numWords)))\n",
    "    I2W = dict(zip(np.arange(numWords),vocab))\n",
    "    doc = corpus_list\n",
    "    docLen = len(doc)\n",
    "    curIdx = 0\n",
    "    while curIdx < docLen:\n",
    "        left = max(curIdx-windowSize,0)\n",
    "        right = min(curIdx+windowSize+1,docLen)\n",
    "        wordsInContext = doc[left:curIdx] + doc[curIdx+1:right]\n",
    "        currentWord = doc[curIdx]\n",
    "        currentWordIdx = W2I[currentWord]\n",
    "        for word in wordsInContext:\n",
    "            contextWordIdx = W2I[word]\n",
    "            M[currentWordIdx,contextWordIdx] += 1\n",
    "        curIdx += 1\n",
    "    return M,W2I,I2W"
   ]
  },
  {
   "cell_type": "code",
   "execution_count": 16,
   "id": "1b8be03c-a294-4e4b-9dea-ad81a02644cb",
   "metadata": {},
   "outputs": [],
   "source": [
    "M,W2I,I2W = computeWordContextMatrix(processedCorpus_list,vocab)"
   ]
  },
  {
   "cell_type": "code",
   "execution_count": 17,
   "id": "89e36d4f-730e-484e-8b9a-694d08640205",
   "metadata": {},
   "outputs": [
    {
     "data": {
      "text/plain": [
       "(11815, 11815)"
      ]
     },
     "execution_count": 17,
     "metadata": {},
     "output_type": "execute_result"
    }
   ],
   "source": [
    "M.shape"
   ]
  },
  {
   "cell_type": "code",
   "execution_count": 18,
   "id": "8bcab1ce-3cda-4093-b7c2-c08dc2b558a7",
   "metadata": {},
   "outputs": [
    {
     "name": "stdout",
     "output_type": "stream",
     "text": [
      "190 good\n"
     ]
    }
   ],
   "source": [
    "word = 'good'\n",
    "print(W2I[word],I2W[190])"
   ]
  },
  {
   "cell_type": "code",
   "execution_count": 19,
   "id": "e729034e-2543-4383-b24a-520730061ef8",
   "metadata": {},
   "outputs": [
    {
     "name": "stdout",
     "output_type": "stream",
     "text": [
      "[  0.   0. 214. ...   0.   0.   0.]\n"
     ]
    }
   ],
   "source": [
    "v = M[W2I['good'],:]\n",
    "print(v)"
   ]
  },
  {
   "cell_type": "code",
   "execution_count": 20,
   "id": "8b02d9f3-7083-44fb-be77-b6705e8b5ad9",
   "metadata": {},
   "outputs": [
    {
     "data": {
      "text/plain": [
       "(11815,)"
      ]
     },
     "execution_count": 20,
     "metadata": {},
     "output_type": "execute_result"
    }
   ],
   "source": [
    "v.shape"
   ]
  },
  {
   "cell_type": "code",
   "execution_count": 21,
   "id": "cff26f5a-e40a-4865-bc07-ac2a1ebf924f",
   "metadata": {},
   "outputs": [],
   "source": [
    "def pmi(M, positive=True):\n",
    "    col_totals = np.sum(M,axis=0)\n",
    "    total = col_totals.sum()\n",
    "    row_totals = np.sum(M,axis=1)\n",
    "    expected = np.outer(row_totals, col_totals) / total\n",
    "    M = M / expected    \n",
    "    with np.errstate(divide='ignore'):\n",
    "        M = np.log(M)\n",
    "    M[np.isinf(M)] = 0.0  \n",
    "    if positive:\n",
    "        M[M < 0] = 0.0\n",
    "    return M"
   ]
  },
  {
   "cell_type": "code",
   "execution_count": 22,
   "id": "5f1efedf-cc9f-4871-b409-607c4ca116d4",
   "metadata": {},
   "outputs": [],
   "source": [
    "M = pmi(M)"
   ]
  },
  {
   "cell_type": "code",
   "execution_count": 23,
   "id": "718d8672-e5da-4df1-81e0-dde51050972d",
   "metadata": {},
   "outputs": [
    {
     "data": {
      "text/plain": [
       "array([0.       , 0.       , 0.4605286, ..., 0.       , 0.       ,\n",
       "       0.       ])"
      ]
     },
     "execution_count": 23,
     "metadata": {},
     "output_type": "execute_result"
    }
   ],
   "source": [
    "M[W2I['good'],:]"
   ]
  },
  {
   "cell_type": "markdown",
   "id": "d60f0b0a-74fc-4e26-8662-88cd961a3e3d",
   "metadata": {},
   "source": [
    "# Latent Semantic Analysis (LSA)"
   ]
  },
  {
   "cell_type": "code",
   "execution_count": 24,
   "id": "58c8abbd-7c34-42f1-9c74-98ff6064eec3",
   "metadata": {},
   "outputs": [],
   "source": [
    "from sklearn.decomposition import TruncatedSVD, PCA, IncrementalPCA # IncrementalPCA is used when the matrix is very-very large"
   ]
  },
  {
   "cell_type": "code",
   "execution_count": 25,
   "id": "ee9800e0-d5c5-4ced-a877-3a6b0c456c2a",
   "metadata": {},
   "outputs": [],
   "source": [
    "transformer = TruncatedSVD(n_components=100)  # new dimention size = 100"
   ]
  },
  {
   "cell_type": "code",
   "execution_count": 26,
   "id": "5fe3486a-b968-485c-bab3-9e48cd8ccbf5",
   "metadata": {},
   "outputs": [],
   "source": [
    "M_reduced = transformer.fit_transform(M)"
   ]
  },
  {
   "cell_type": "code",
   "execution_count": 27,
   "id": "62d41834-cae6-4a0a-a11a-c26cd6160ac3",
   "metadata": {},
   "outputs": [
    {
     "name": "stdout",
     "output_type": "stream",
     "text": [
      "(11815, 11815)\n",
      "(11815, 100)\n"
     ]
    }
   ],
   "source": [
    "print(M.shape)\n",
    "print(M_reduced.shape)"
   ]
  },
  {
   "cell_type": "code",
   "execution_count": 28,
   "id": "5324c89a-bdfc-4d22-bdc0-77c345948e86",
   "metadata": {},
   "outputs": [
    {
     "data": {
      "text/plain": [
       "array([23.58455957, -3.8423077 , -3.72714351, -4.18267233, -4.50621002,\n",
       "       -7.88498872, -1.00249971, -3.38180004,  0.05664366, -2.34174871,\n",
       "        7.71469125,  2.24882069, -2.86780642,  3.30200205,  0.53384913,\n",
       "       -0.14569241, -6.91960857,  4.46809021, -0.8755531 , -0.34500788,\n",
       "        1.34560167,  0.79551278,  1.87837834,  3.9746138 , -2.33946718,\n",
       "        0.8474359 , -1.33399106,  2.25228635,  1.39781154,  0.14331482,\n",
       "       -4.07431885,  3.8831578 , -0.46791531,  4.52465607,  0.76319028,\n",
       "        1.39283559, -1.07396367, -3.21065598,  1.79307994, -2.53299039,\n",
       "        0.36871564, -1.79526926, -1.4885172 ,  2.53918751, -1.05685913,\n",
       "       -1.84037764,  1.33169383,  1.7401961 ,  0.50275634,  0.73807678,\n",
       "        3.12272093, -2.10664928, -0.65899296,  2.43593886,  0.47679139,\n",
       "       -2.46336953, -0.45362913, -0.27381993, -2.73473166, -1.53080227,\n",
       "        2.61645934, -2.2146987 ,  0.94687627,  0.1860499 ,  1.30529361,\n",
       "       -0.06189316,  0.41889557, -2.69064681, -0.39613722, -0.67069432,\n",
       "        0.45982973, -0.04770034,  0.83313241, -0.92529712, -5.41161014,\n",
       "        1.32105746,  2.97175641, -1.27257813, -1.34836253, -0.64611971,\n",
       "       -1.35376981, -0.11849197, -0.24623534,  0.5769237 , -2.88268929,\n",
       "        0.13599039, -0.15970533,  0.74407359, -0.40406404, -0.78290537,\n",
       "       -2.02798246,  0.77411374,  3.9410168 ,  1.13276102, -1.58801587,\n",
       "       -2.0184618 , -1.11809068,  0.29901816,  1.84440676, -3.43590766])"
      ]
     },
     "execution_count": 28,
     "metadata": {},
     "output_type": "execute_result"
    }
   ],
   "source": [
    "M_reduced[W2I['good'],:]"
   ]
  },
  {
   "cell_type": "markdown",
   "id": "fcb4d67e-c55b-4a1d-927d-6e66282c8dc1",
   "metadata": {},
   "source": [
    "# Word Semantics"
   ]
  },
  {
   "cell_type": "markdown",
   "id": "767aaeb7-0f03-4228-b7a4-e29df70c654f",
   "metadata": {},
   "source": [
    "## Cosine Similarity"
   ]
  },
  {
   "cell_type": "code",
   "execution_count": 29,
   "id": "517610d7-fd0a-458d-bd27-7d24125ac871",
   "metadata": {},
   "outputs": [],
   "source": [
    "def getNorms(E):  # e = single row vector or multiple row matrix\n",
    "    if E.ndim == 1:\n",
    "        E = E[np.newaxis,:]\n",
    "    nrms = np.sum(E**2,axis=1)**0.5  # calculate magnitude ( ||E|| )\n",
    "    return nrms"
   ]
  },
  {
   "cell_type": "code",
   "execution_count": 30,
   "id": "0329c3a7-b69d-477c-b145-06c67cb41a40",
   "metadata": {},
   "outputs": [
    {
     "name": "stdout",
     "output_type": "stream",
     "text": [
      "(100,)\n",
      "(1, 100)\n",
      "[33.93916095]\n"
     ]
    }
   ],
   "source": [
    "v = M_reduced[W2I['good'],:]\n",
    "print(v.shape)\n",
    "\n",
    "v = v[np.newaxis,:]\n",
    "print(v.shape)\n",
    "\n",
    "print(getNorms(v))"
   ]
  },
  {
   "cell_type": "code",
   "execution_count": 31,
   "id": "f1a883a1-20f8-4b20-b083-8af527c23b18",
   "metadata": {},
   "outputs": [
    {
     "name": "stdout",
     "output_type": "stream",
     "text": [
      "(3, 100)\n",
      "[20.33368051 39.04578875 34.47907708]\n"
     ]
    }
   ],
   "source": [
    "v = M_reduced[[1,3,5],:]\n",
    "print(v.shape)\n",
    "print(getNorms(v))"
   ]
  },
  {
   "cell_type": "code",
   "execution_count": 32,
   "id": "348d1c22-d12f-42c7-8d7e-b626c20d1900",
   "metadata": {},
   "outputs": [],
   "source": [
    "def normalize(E):  # e = single row vector or multiple row matrix\n",
    "    if E.ndim == 1:\n",
    "        E = E[np.newaxis,:]\n",
    "    nrms = getNorms(E)\n",
    "    return E/nrms[:,np.newaxis]"
   ]
  },
  {
   "cell_type": "code",
   "execution_count": 33,
   "id": "0419649f-02c4-4be7-9113-acb846d17c76",
   "metadata": {},
   "outputs": [
    {
     "name": "stdout",
     "output_type": "stream",
     "text": [
      "[1. 1. 1.] [20.33368051 39.04578875 34.47907708]\n"
     ]
    }
   ],
   "source": [
    "# v = M_reduced[1,:]\n",
    "v = M_reduced[[1,3,5],:]\n",
    "v2 = normalize(v)\n",
    "print(getNorms(v2), getNorms(v)) # normalize makes it 1"
   ]
  },
  {
   "cell_type": "code",
   "execution_count": 34,
   "id": "051b17b3-4dee-418c-b4d6-192c477cc9b9",
   "metadata": {},
   "outputs": [],
   "source": [
    "# Measuring cosine similarity of 'v' with all the vectors of 'E'.\n",
    "\n",
    "def cosineSimilarity(E,v): # here vector v is always a single vector; E can be single or multiple\n",
    "    E = normalize(E)\n",
    "    v = normalize(v)\n",
    "    scores = E.dot(v.T)\n",
    "    return scores"
   ]
  },
  {
   "cell_type": "code",
   "execution_count": 35,
   "id": "c46b2cf1-165b-44c2-90ac-2d99c703b929",
   "metadata": {},
   "outputs": [
    {
     "name": "stdout",
     "output_type": "stream",
     "text": [
      "[[0.65836494]]\n"
     ]
    }
   ],
   "source": [
    "E = M_reduced[W2I['good'],:]\n",
    "v = M_reduced[W2I['nice'],:]\n",
    "\n",
    "print(cosineSimilarity(E,v))"
   ]
  },
  {
   "cell_type": "code",
   "execution_count": 37,
   "id": "b1620a57-0cd9-4d62-9444-eecf29ea1d70",
   "metadata": {},
   "outputs": [
    {
     "name": "stdout",
     "output_type": "stream",
     "text": [
      "[[0.42788438]\n",
      " [0.44684201]\n",
      " [0.30168014]]\n"
     ]
    }
   ],
   "source": [
    " E = M_reduced[[1,3,5],:]\n",
    "v = M_reduced[W2I['nice'],:]\n",
    "\n",
    "print(cosineSimilarity(E,v))"
   ]
  },
  {
   "cell_type": "code",
   "execution_count": null,
   "id": "5bb089c4-e096-4531-a60c-89a1465b08df",
   "metadata": {},
   "outputs": [],
   "source": []
  }
 ],
 "metadata": {
  "kernelspec": {
   "display_name": "Python 3 (ipykernel)",
   "language": "python",
   "name": "python3"
  },
  "language_info": {
   "codemirror_mode": {
    "name": "ipython",
    "version": 3
   },
   "file_extension": ".py",
   "mimetype": "text/x-python",
   "name": "python",
   "nbconvert_exporter": "python",
   "pygments_lexer": "ipython3",
   "version": "3.12.7"
  }
 },
 "nbformat": 4,
 "nbformat_minor": 5
}
