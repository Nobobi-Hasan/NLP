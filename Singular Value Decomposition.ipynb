{
 "cells": [
  {
   "cell_type": "code",
   "execution_count": 1,
   "id": "4b5817e2-80e7-4f52-b116-def242af7d5b",
   "metadata": {},
   "outputs": [],
   "source": [
    "import numpy as np\n",
    "from numpy import linalg as LA"
   ]
  },
  {
   "cell_type": "code",
   "execution_count": 2,
   "id": "5f3a7808-3730-490a-9525-b220115f8ce7",
   "metadata": {},
   "outputs": [],
   "source": [
    "A = np.random.rand(3,4)"
   ]
  },
  {
   "cell_type": "code",
   "execution_count": 3,
   "id": "451e1fe3-5ee0-4bf7-8972-f59d7758ba5a",
   "metadata": {},
   "outputs": [
    {
     "data": {
      "text/plain": [
       "array([[0.18332301, 0.46540736, 0.89748204, 0.94901883],\n",
       "       [0.643083  , 0.23485914, 0.0204858 , 0.76593001],\n",
       "       [0.54155563, 0.00154791, 0.26097949, 0.0645092 ]])"
      ]
     },
     "execution_count": 3,
     "metadata": {},
     "output_type": "execute_result"
    }
   ],
   "source": [
    "A"
   ]
  },
  {
   "cell_type": "code",
   "execution_count": 4,
   "id": "8b3721d1-c248-4d7c-b434-ef800b0af2ea",
   "metadata": {},
   "outputs": [],
   "source": [
    "ATA = A.T.dot(A)\n",
    "AAt = A.dot(A.T)"
   ]
  },
  {
   "cell_type": "code",
   "execution_count": 5,
   "id": "ae478fca-82c5-4a93-8c7e-f1b265cfeb9b",
   "metadata": {},
   "outputs": [
    {
     "data": {
      "text/plain": [
       "array([[0.74044556, 0.23719208, 0.31903808, 0.70146887],\n",
       "       [0.23719208, 0.27176522, 0.42291   , 0.62166587],\n",
       "       [0.31903808, 0.42291   , 0.87400398, 0.88425362],\n",
       "       [0.70146887, 0.62166587, 0.88425362, 1.49144696]])"
      ]
     },
     "execution_count": 5,
     "metadata": {},
     "output_type": "execute_result"
    }
   ],
   "source": [
    "ATA"
   ]
  },
  {
   "cell_type": "code",
   "execution_count": 6,
   "id": "7acb1214-8e23-4fdc-aba4-a7e0bd4d432f",
   "metadata": {},
   "outputs": [
    {
     "data": {
      "text/plain": [
       "array([[1.95632209, 0.97246472, 0.39544486],\n",
       "       [0.97246472, 1.05578301, 0.40338466],\n",
       "       [0.39544486, 0.40338466, 0.36555662]])"
      ]
     },
     "execution_count": 6,
     "metadata": {},
     "output_type": "execute_result"
    }
   ],
   "source": [
    "AAt"
   ]
  },
  {
   "cell_type": "code",
   "execution_count": 7,
   "id": "6f90ebe8-99b0-4f82-90ed-515ffb808ab2",
   "metadata": {},
   "outputs": [],
   "source": [
    "d1,V = LA.eig(ATA)"
   ]
  },
  {
   "cell_type": "code",
   "execution_count": 8,
   "id": "2cea87ae-d17d-4f0d-978a-8bb22cb71b73",
   "metadata": {},
   "outputs": [
    {
     "data": {
      "text/plain": [
       "array([2.70746231e+00, 4.93429462e-01, 1.76769945e-01, 9.29293597e-17])"
      ]
     },
     "execution_count": 8,
     "metadata": {},
     "output_type": "execute_result"
    }
   ],
   "source": [
    "d1"
   ]
  },
  {
   "cell_type": "code",
   "execution_count": 9,
   "id": "b33fc988-1c7a-4732-b32a-3d4d7204f1d6",
   "metadata": {},
   "outputs": [
    {
     "data": {
      "text/plain": [
       "array([[-0.37514385, -0.812732  , -0.43526408, -0.09632739],\n",
       "       [-0.30656897,  0.14835409,  0.1909561 , -0.9206206 ],\n",
       "       [-0.48660495,  0.56307659, -0.6577411 ,  0.11634871],\n",
       "       [-0.7269788 , -0.02006276,  0.58434373,  0.36005793]])"
      ]
     },
     "execution_count": 9,
     "metadata": {},
     "output_type": "execute_result"
    }
   ],
   "source": [
    "V"
   ]
  },
  {
   "cell_type": "code",
   "execution_count": 10,
   "id": "184e8829-32e0-4a51-a3a8-83da3918c5a9",
   "metadata": {},
   "outputs": [
    {
     "data": {
      "text/plain": [
       "array([-0.40102591,  0.07320228,  0.27783858, -0.00989956])"
      ]
     },
     "execution_count": 10,
     "metadata": {},
     "output_type": "execute_result"
    }
   ],
   "source": [
    "ATA.dot(V[:,1])"
   ]
  },
  {
   "cell_type": "code",
   "execution_count": 11,
   "id": "b07aa5b6-41dc-4642-8558-c3348cbfc940",
   "metadata": {},
   "outputs": [
    {
     "data": {
      "text/plain": [
       "array([-0.40102591,  0.07320228,  0.27783858, -0.00989956])"
      ]
     },
     "execution_count": 11,
     "metadata": {},
     "output_type": "execute_result"
    }
   ],
   "source": [
    "d1[1]*V[:,1]"
   ]
  },
  {
   "cell_type": "code",
   "execution_count": null,
   "id": "f0a48c2e-81df-48d8-8397-a3570f493821",
   "metadata": {},
   "outputs": [],
   "source": []
  }
 ],
 "metadata": {
  "kernelspec": {
   "display_name": "Python 3 (ipykernel)",
   "language": "python",
   "name": "python3"
  },
  "language_info": {
   "codemirror_mode": {
    "name": "ipython",
    "version": 3
   },
   "file_extension": ".py",
   "mimetype": "text/x-python",
   "name": "python",
   "nbconvert_exporter": "python",
   "pygments_lexer": "ipython3",
   "version": "3.12.7"
  }
 },
 "nbformat": 4,
 "nbformat_minor": 5
}
