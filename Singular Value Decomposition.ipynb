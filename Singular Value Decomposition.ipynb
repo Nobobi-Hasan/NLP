{
 "cells": [
  {
   "cell_type": "code",
   "execution_count": 1,
   "id": "4b5817e2-80e7-4f52-b116-def242af7d5b",
   "metadata": {},
   "outputs": [],
   "source": [
    "import numpy as np\n",
    "from numpy import linalg as LA"
   ]
  },
  {
   "cell_type": "code",
   "execution_count": 2,
   "id": "5f3a7808-3730-490a-9525-b220115f8ce7",
   "metadata": {},
   "outputs": [],
   "source": [
    "A = np.random.rand(3,4)"
   ]
  },
  {
   "cell_type": "code",
   "execution_count": 3,
   "id": "451e1fe3-5ee0-4bf7-8972-f59d7758ba5a",
   "metadata": {},
   "outputs": [
    {
     "data": {
      "text/plain": [
       "array([[0.43392066, 0.43202624, 0.33803855, 0.98223217],\n",
       "       [0.87838   , 0.4042427 , 0.80896591, 0.47674113],\n",
       "       [0.73387048, 0.61275416, 0.52627535, 0.25799393]])"
      ]
     },
     "execution_count": 3,
     "metadata": {},
     "output_type": "execute_result"
    }
   ],
   "source": [
    "A"
   ]
  },
  {
   "cell_type": "code",
   "execution_count": 4,
   "id": "8b3721d1-c248-4d7c-b434-ef800b0af2ea",
   "metadata": {},
   "outputs": [],
   "source": [
    "ATA = A.T.dot(A)\n",
    "AAT = A.dot(A.T)"
   ]
  },
  {
   "cell_type": "code",
   "execution_count": 5,
   "id": "ae478fca-82c5-4a93-8c7e-f1b265cfeb9b",
   "metadata": {},
   "outputs": [
    {
     "data": {
      "text/plain": [
       "array([[1.49840446, 0.992226  , 1.24347933, 1.03430484],\n",
       "       [0.992226  , 0.72552649, 0.79553749, 0.77515605],\n",
       "       [1.24347933, 0.79553749, 1.04566164, 0.85347551],\n",
       "       [1.03430484, 0.77515605, 0.85347551, 1.25862301]])"
      ]
     },
     "execution_count": 5,
     "metadata": {},
     "output_type": "execute_result"
    }
   ],
   "source": [
    "ATA"
   ]
  },
  {
   "cell_type": "code",
   "execution_count": 6,
   "id": "7acb1214-8e23-4fdc-aba4-a7e0bd4d432f",
   "metadata": {},
   "outputs": [
    {
     "data": {
      "text/plain": [
       "array([[1.45398391, 1.29752283, 1.01447874],\n",
       "       [1.29752283, 1.81667154, 1.44105368],\n",
       "       [1.01447874, 1.44105368, 1.25756015]])"
      ]
     },
     "execution_count": 6,
     "metadata": {},
     "output_type": "execute_result"
    }
   ],
   "source": [
    "AAT"
   ]
  },
  {
   "cell_type": "code",
   "execution_count": 7,
   "id": "6f90ebe8-99b0-4f82-90ed-515ffb808ab2",
   "metadata": {},
   "outputs": [],
   "source": [
    "d1,V = LA.eig(ATA)"
   ]
  },
  {
   "cell_type": "code",
   "execution_count": 8,
   "id": "2cea87ae-d17d-4f0d-978a-8bb22cb71b73",
   "metadata": {},
   "outputs": [
    {
     "data": {
      "text/plain": [
       "array([4.04962470e+00, 4.13327083e-01, 5.42934390e-16, 6.52638164e-02])"
      ]
     },
     "execution_count": 8,
     "metadata": {},
     "output_type": "execute_result"
    }
   ],
   "source": [
    "d1"
   ]
  },
  {
   "cell_type": "code",
   "execution_count": 9,
   "id": "b33fc988-1c7a-4732-b32a-3d4d7204f1d6",
   "metadata": {},
   "outputs": [
    {
     "data": {
      "text/plain": [
       "array([[-0.59575431, -0.38405144,  0.70392872,  0.04544937],\n",
       "       [-0.40883224, -0.05301386, -0.31985025, -0.85307769],\n",
       "       [-0.49267229, -0.33641204, -0.63240636,  0.49412867],\n",
       "       [-0.48498146,  0.85820799,  0.04735359,  0.1613371 ]])"
      ]
     },
     "execution_count": 9,
     "metadata": {},
     "output_type": "execute_result"
    }
   ],
   "source": [
    "V"
   ]
  },
  {
   "cell_type": "code",
   "execution_count": 10,
   "id": "184e8829-32e0-4a51-a3a8-83da3918c5a9",
   "metadata": {},
   "outputs": [
    {
     "data": {
      "text/plain": [
       "array([-2.41258138, -1.65561713, -1.99513786, -1.96399291])"
      ]
     },
     "execution_count": 10,
     "metadata": {},
     "output_type": "execute_result"
    }
   ],
   "source": [
    "ATA.dot(V[:,0])"
   ]
  },
  {
   "cell_type": "code",
   "execution_count": 11,
   "id": "b07aa5b6-41dc-4642-8558-c3348cbfc940",
   "metadata": {},
   "outputs": [
    {
     "data": {
      "text/plain": [
       "array([-2.41258138, -1.65561713, -1.99513786, -1.96399291])"
      ]
     },
     "execution_count": 11,
     "metadata": {},
     "output_type": "execute_result"
    }
   ],
   "source": [
    "d1[0]*V[:,0]"
   ]
  },
  {
   "cell_type": "code",
   "execution_count": 12,
   "id": "f0a48c2e-81df-48d8-8397-a3570f493821",
   "metadata": {},
   "outputs": [],
   "source": [
    "idx = np.argsort(d1)[::-1]\n",
    "d1 = d1[idx]\n",
    "V = V[:,idx]"
   ]
  },
  {
   "cell_type": "code",
   "execution_count": 13,
   "id": "e143a975-ced6-4ecc-b76c-db17efc4d178",
   "metadata": {},
   "outputs": [
    {
     "data": {
      "text/plain": [
       "array([4.04962470e+00, 4.13327083e-01, 6.52638164e-02, 5.42934390e-16])"
      ]
     },
     "execution_count": 13,
     "metadata": {},
     "output_type": "execute_result"
    }
   ],
   "source": [
    "d1"
   ]
  },
  {
   "cell_type": "code",
   "execution_count": 14,
   "id": "cca652db-1a96-47ba-a541-a48732028141",
   "metadata": {},
   "outputs": [
    {
     "data": {
      "text/plain": [
       "array([[-0.59575431, -0.38405144,  0.04544937,  0.70392872],\n",
       "       [-0.40883224, -0.05301386, -0.85307769, -0.31985025],\n",
       "       [-0.49267229, -0.33641204,  0.49412867, -0.63240636],\n",
       "       [-0.48498146,  0.85820799,  0.1613371 ,  0.04735359]])"
      ]
     },
     "execution_count": 14,
     "metadata": {},
     "output_type": "execute_result"
    }
   ],
   "source": [
    "V"
   ]
  },
  {
   "cell_type": "code",
   "execution_count": 15,
   "id": "5ae19784-c114-4138-943d-a8b67fba3fe5",
   "metadata": {},
   "outputs": [],
   "source": [
    "d2,U = LA.eig(AAT)\n",
    "idx = np.argsort(d2)[::-1]\n",
    "d2 = d2[idx]\n",
    "U = U[:,idx]"
   ]
  },
  {
   "cell_type": "code",
   "execution_count": 16,
   "id": "7851cede-648c-4d0c-a521-594927845aa0",
   "metadata": {},
   "outputs": [
    {
     "data": {
      "text/plain": [
       "array([4.04962470e+00, 4.13327083e-01, 6.52638164e-02, 5.42934390e-16])"
      ]
     },
     "execution_count": 16,
     "metadata": {},
     "output_type": "execute_result"
    }
   ],
   "source": [
    "d1"
   ]
  },
  {
   "cell_type": "code",
   "execution_count": 17,
   "id": "59d72a42-e015-4618-a84f-c10718dc0333",
   "metadata": {},
   "outputs": [
    {
     "data": {
      "text/plain": [
       "array([4.0496247 , 0.41332708, 0.06526382])"
      ]
     },
     "execution_count": 17,
     "metadata": {},
     "output_type": "execute_result"
    }
   ],
   "source": [
    "d2"
   ]
  },
  {
   "cell_type": "code",
   "execution_count": 18,
   "id": "9a4bea87-4a0d-4e66-a6ec-a4911560f483",
   "metadata": {},
   "outputs": [
    {
     "data": {
      "text/plain": [
       "array([[ 0.53570869,  0.83945196,  0.09130503],\n",
       "       [ 0.6551147 , -0.34495972, -0.67218117],\n",
       "       [ 0.53276724, -0.41990856,  0.73473524]])"
      ]
     },
     "execution_count": 18,
     "metadata": {},
     "output_type": "execute_result"
    }
   ],
   "source": [
    "U"
   ]
  },
  {
   "cell_type": "code",
   "execution_count": 19,
   "id": "a5bcb682-bda7-4525-ae38-ea221a4da3bb",
   "metadata": {},
   "outputs": [
    {
     "data": {
      "text/plain": [
       "array([[-0.59575431, -0.38405144,  0.04544937,  0.70392872],\n",
       "       [-0.40883224, -0.05301386, -0.85307769, -0.31985025],\n",
       "       [-0.49267229, -0.33641204,  0.49412867, -0.63240636],\n",
       "       [-0.48498146,  0.85820799,  0.1613371 ,  0.04735359]])"
      ]
     },
     "execution_count": 19,
     "metadata": {},
     "output_type": "execute_result"
    }
   ],
   "source": [
    "V"
   ]
  },
  {
   "cell_type": "markdown",
   "id": "b634a5b7-1163-4745-a590-bf0f2b66a8bc",
   "metadata": {},
   "source": [
    "## Now do this(SVD) using builtin np function"
   ]
  },
  {
   "cell_type": "code",
   "execution_count": 20,
   "id": "1236798b-8746-449b-8ac0-9064860d896e",
   "metadata": {},
   "outputs": [],
   "source": [
    "U2,S2,V2 = LA.svd(A)"
   ]
  },
  {
   "cell_type": "code",
   "execution_count": 21,
   "id": "76a7fd99-5cf5-40b2-be33-f7fa5b53004a",
   "metadata": {},
   "outputs": [
    {
     "data": {
      "text/plain": [
       "array([[ 0.53570869,  0.83945196,  0.09130503],\n",
       "       [ 0.6551147 , -0.34495972, -0.67218117],\n",
       "       [ 0.53276724, -0.41990856,  0.73473524]])"
      ]
     },
     "execution_count": 21,
     "metadata": {},
     "output_type": "execute_result"
    }
   ],
   "source": [
    "U"
   ]
  },
  {
   "cell_type": "code",
   "execution_count": 22,
   "id": "b6e31309-e340-4433-a85e-e148c2e716c3",
   "metadata": {},
   "outputs": [
    {
     "data": {
      "text/plain": [
       "array([[ 0.53570869,  0.83945196,  0.09130503],\n",
       "       [ 0.6551147 , -0.34495972, -0.67218117],\n",
       "       [ 0.53276724, -0.41990856,  0.73473524]])"
      ]
     },
     "execution_count": 22,
     "metadata": {},
     "output_type": "execute_result"
    }
   ],
   "source": [
    "U2"
   ]
  },
  {
   "cell_type": "code",
   "execution_count": 26,
   "id": "c72cadc2-1879-493c-b1a0-293966ccd3f2",
   "metadata": {},
   "outputs": [
    {
     "data": {
      "text/plain": [
       "array([4.0496247 , 0.41332708, 0.06526382])"
      ]
     },
     "execution_count": 26,
     "metadata": {},
     "output_type": "execute_result"
    }
   ],
   "source": [
    "d2"
   ]
  },
  {
   "cell_type": "code",
   "execution_count": 27,
   "id": "79775430-4506-454d-a77f-de2d25863bff",
   "metadata": {},
   "outputs": [
    {
     "data": {
      "text/plain": [
       "array([2.01236793, 0.64290519, 0.25546784])"
      ]
     },
     "execution_count": 27,
     "metadata": {},
     "output_type": "execute_result"
    }
   ],
   "source": [
    "S2 #here S2 is small than d2 because it is showing after square rooting the d2"
   ]
  },
  {
   "cell_type": "code",
   "execution_count": 30,
   "id": "8aa103ce-6846-4064-912a-3628f4342123",
   "metadata": {},
   "outputs": [
    {
     "data": {
      "text/plain": [
       "array([2.01236793, 0.64290519, 0.25546784])"
      ]
     },
     "execution_count": 30,
     "metadata": {},
     "output_type": "execute_result"
    }
   ],
   "source": [
    "d2**.5"
   ]
  },
  {
   "cell_type": "code",
   "execution_count": 31,
   "id": "2e984fd2-30be-4cc7-8a55-92a87a5ca866",
   "metadata": {},
   "outputs": [
    {
     "data": {
      "text/plain": [
       "array([[-0.59575431, -0.38405144,  0.04544937,  0.70392872],\n",
       "       [-0.40883224, -0.05301386, -0.85307769, -0.31985025],\n",
       "       [-0.49267229, -0.33641204,  0.49412867, -0.63240636],\n",
       "       [-0.48498146,  0.85820799,  0.1613371 ,  0.04735359]])"
      ]
     },
     "execution_count": 31,
     "metadata": {},
     "output_type": "execute_result"
    }
   ],
   "source": [
    "V"
   ]
  },
  {
   "cell_type": "code",
   "execution_count": 32,
   "id": "f66568c9-d371-496d-98c7-d9dd1c86ff5f",
   "metadata": {},
   "outputs": [
    {
     "data": {
      "text/plain": [
       "array([[ 0.59575431,  0.40883224,  0.49267229,  0.48498146],\n",
       "       [-0.38405144, -0.05301386, -0.33641204,  0.85820799],\n",
       "       [-0.04544937,  0.85307769, -0.49412867, -0.1613371 ],\n",
       "       [-0.70392872,  0.31985025,  0.63240636, -0.04735359]])"
      ]
     },
     "execution_count": 32,
     "metadata": {},
     "output_type": "execute_result"
    }
   ],
   "source": [
    "V2 #is is transpose of V"
   ]
  },
  {
   "cell_type": "code",
   "execution_count": null,
   "id": "788b7948-f0b6-4c04-ada5-62f0655e60fa",
   "metadata": {},
   "outputs": [],
   "source": []
  }
 ],
 "metadata": {
  "kernelspec": {
   "display_name": "Python 3 (ipykernel)",
   "language": "python",
   "name": "python3"
  },
  "language_info": {
   "codemirror_mode": {
    "name": "ipython",
    "version": 3
   },
   "file_extension": ".py",
   "mimetype": "text/x-python",
   "name": "python",
   "nbconvert_exporter": "python",
   "pygments_lexer": "ipython3",
   "version": "3.12.7"
  }
 },
 "nbformat": 4,
 "nbformat_minor": 5
}
