{
 "cells": [
  {
   "cell_type": "code",
   "execution_count": 1,
   "id": "4b5817e2-80e7-4f52-b116-def242af7d5b",
   "metadata": {},
   "outputs": [],
   "source": [
    "import numpy as np\n",
    "from numpy import linalg as LA"
   ]
  },
  {
   "cell_type": "code",
   "execution_count": 2,
   "id": "5f3a7808-3730-490a-9525-b220115f8ce7",
   "metadata": {},
   "outputs": [],
   "source": [
    "A = np.random.rand(3,4)"
   ]
  },
  {
   "cell_type": "code",
   "execution_count": 3,
   "id": "451e1fe3-5ee0-4bf7-8972-f59d7758ba5a",
   "metadata": {},
   "outputs": [
    {
     "data": {
      "text/plain": [
       "array([[0.01066073, 0.29016479, 0.46729183, 0.35822118],\n",
       "       [0.50721996, 0.44444832, 0.24693091, 0.51093238],\n",
       "       [0.19591039, 0.82386755, 0.14793672, 0.75921747]])"
      ]
     },
     "execution_count": 3,
     "metadata": {},
     "output_type": "execute_result"
    }
   ],
   "source": [
    "A"
   ]
  },
  {
   "cell_type": "code",
   "execution_count": 4,
   "id": "8b3721d1-c248-4d7c-b434-ef800b0af2ea",
   "metadata": {},
   "outputs": [],
   "source": [
    "ATA = A.T.dot(A)\n",
    "AAT = A.dot(A.T)"
   ]
  },
  {
   "cell_type": "code",
   "execution_count": 5,
   "id": "ae478fca-82c5-4a93-8c7e-f1b265cfeb9b",
   "metadata": {},
   "outputs": [
    {
     "data": {
      "text/plain": [
       "array([[0.29576662, 0.38993064, 0.1592123 , 0.41171259],\n",
       "       [0.38993064, 0.96048766, 0.36721993, 0.95652086],\n",
       "       [0.1592123 , 0.36721993, 0.3012218 , 0.40587497],\n",
       "       [0.41171259, 0.95652086, 0.40587497, 0.96578549]])"
      ]
     },
     "execution_count": 5,
     "metadata": {},
     "output_type": "execute_result"
    }
   ],
   "source": [
    "ATA"
   ]
  },
  {
   "cell_type": "code",
   "execution_count": 6,
   "id": "7acb1214-8e23-4fdc-aba4-a7e0bd4d432f",
   "metadata": {},
   "outputs": [
    {
     "data": {
      "text/plain": [
       "array([[0.43099332, 0.43278618, 0.58224331],\n",
       "       [0.43278618, 0.77683317, 0.88997515],\n",
       "       [0.58224331, 0.88997515, 1.31543507]])"
      ]
     },
     "execution_count": 6,
     "metadata": {},
     "output_type": "execute_result"
    }
   ],
   "source": [
    "AAT"
   ]
  },
  {
   "cell_type": "code",
   "execution_count": 7,
   "id": "6f90ebe8-99b0-4f82-90ed-515ffb808ab2",
   "metadata": {},
   "outputs": [],
   "source": [
    "d1,V = LA.eig(ATA)"
   ]
  },
  {
   "cell_type": "code",
   "execution_count": 8,
   "id": "2cea87ae-d17d-4f0d-978a-8bb22cb71b73",
   "metadata": {},
   "outputs": [
    {
     "data": {
      "text/plain": [
       "array([ 2.26321436e+00, -7.87046641e-17,  1.16298141e-01,  1.43749069e-01])"
      ]
     },
     "execution_count": 8,
     "metadata": {},
     "output_type": "execute_result"
    }
   ],
   "source": [
    "d1"
   ]
  },
  {
   "cell_type": "code",
   "execution_count": 9,
   "id": "b33fc988-1c7a-4732-b32a-3d4d7204f1d6",
   "metadata": {},
   "outputs": [
    {
     "data": {
      "text/plain": [
       "array([[ 0.28667903,  0.11395446, -0.86002209, -0.40643758],\n",
       "       [ 0.64357472,  0.62942386,  0.38973863, -0.19427041],\n",
       "       [ 0.27872977,  0.17951312, -0.30519134,  0.89271664],\n",
       "       [ 0.65263805, -0.74740553,  0.12379034, -0.01115787]])"
      ]
     },
     "execution_count": 9,
     "metadata": {},
     "output_type": "execute_result"
    }
   ],
   "source": [
    "V"
   ]
  },
  {
   "cell_type": "code",
   "execution_count": 10,
   "id": "184e8829-32e0-4a51-a3a8-83da3918c5a9",
   "metadata": {},
   "outputs": [
    {
     "data": {
      "text/plain": [
       "array([0.6488161 , 1.45654755, 0.63082522, 1.47705981])"
      ]
     },
     "execution_count": 10,
     "metadata": {},
     "output_type": "execute_result"
    }
   ],
   "source": [
    "ATA.dot(V[:,0])"
   ]
  },
  {
   "cell_type": "code",
   "execution_count": 11,
   "id": "b07aa5b6-41dc-4642-8558-c3348cbfc940",
   "metadata": {},
   "outputs": [
    {
     "data": {
      "text/plain": [
       "array([0.6488161 , 1.45654755, 0.63082522, 1.47705981])"
      ]
     },
     "execution_count": 11,
     "metadata": {},
     "output_type": "execute_result"
    }
   ],
   "source": [
    "d1[0]*V[:,0]"
   ]
  },
  {
   "cell_type": "code",
   "execution_count": 12,
   "id": "f0a48c2e-81df-48d8-8397-a3570f493821",
   "metadata": {},
   "outputs": [],
   "source": [
    "idx = np.argsort(d1)[::-1]\n",
    "d1 = d1[idx]\n",
    "V = V[:,idx]"
   ]
  },
  {
   "cell_type": "code",
   "execution_count": 13,
   "id": "e143a975-ced6-4ecc-b76c-db17efc4d178",
   "metadata": {},
   "outputs": [
    {
     "data": {
      "text/plain": [
       "array([ 2.26321436e+00,  1.43749069e-01,  1.16298141e-01, -7.87046641e-17])"
      ]
     },
     "execution_count": 13,
     "metadata": {},
     "output_type": "execute_result"
    }
   ],
   "source": [
    "d1"
   ]
  },
  {
   "cell_type": "code",
   "execution_count": 14,
   "id": "cca652db-1a96-47ba-a541-a48732028141",
   "metadata": {},
   "outputs": [
    {
     "data": {
      "text/plain": [
       "array([[ 0.28667903, -0.40643758, -0.86002209,  0.11395446],\n",
       "       [ 0.64357472, -0.19427041,  0.38973863,  0.62942386],\n",
       "       [ 0.27872977,  0.89271664, -0.30519134,  0.17951312],\n",
       "       [ 0.65263805, -0.01115787,  0.12379034, -0.74740553]])"
      ]
     },
     "execution_count": 14,
     "metadata": {},
     "output_type": "execute_result"
    }
   ],
   "source": [
    "V"
   ]
  },
  {
   "cell_type": "code",
   "execution_count": 15,
   "id": "5ae19784-c114-4138-943d-a8b67fba3fe5",
   "metadata": {},
   "outputs": [],
   "source": [
    "d2,U = LA.eig(AAT)\n",
    "idx = np.argsort(d2)[::-1]\n",
    "d2 = d2[idx]\n",
    "U = U[:,idx]"
   ]
  },
  {
   "cell_type": "code",
   "execution_count": 16,
   "id": "7851cede-648c-4d0c-a521-594927845aa0",
   "metadata": {},
   "outputs": [
    {
     "data": {
      "text/plain": [
       "array([ 2.26321436e+00,  1.43749069e-01,  1.16298141e-01, -7.87046641e-17])"
      ]
     },
     "execution_count": 16,
     "metadata": {},
     "output_type": "execute_result"
    }
   ],
   "source": [
    "d1"
   ]
  },
  {
   "cell_type": "code",
   "execution_count": 17,
   "id": "59d72a42-e015-4618-a84f-c10718dc0333",
   "metadata": {},
   "outputs": [
    {
     "data": {
      "text/plain": [
       "array([2.26321436, 0.14374907, 0.11629814])"
      ]
     },
     "execution_count": 17,
     "metadata": {},
     "output_type": "execute_result"
    }
   ],
   "source": [
    "d2"
   ]
  },
  {
   "cell_type": "code",
   "execution_count": 18,
   "id": "9a4bea87-4a0d-4e66-a6ec-a4911560f483",
   "metadata": {},
   "outputs": [
    {
     "data": {
      "text/plain": [
       "array([[ 0.36814442,  0.92962095,  0.01657025],\n",
       "       [ 0.55419228, -0.20508909, -0.80672758],\n",
       "       [ 0.74655248, -0.30617536,  0.59069116]])"
      ]
     },
     "execution_count": 18,
     "metadata": {},
     "output_type": "execute_result"
    }
   ],
   "source": [
    "U"
   ]
  },
  {
   "cell_type": "code",
   "execution_count": 19,
   "id": "a5bcb682-bda7-4525-ae38-ea221a4da3bb",
   "metadata": {},
   "outputs": [
    {
     "data": {
      "text/plain": [
       "array([[ 0.28667903, -0.40643758, -0.86002209,  0.11395446],\n",
       "       [ 0.64357472, -0.19427041,  0.38973863,  0.62942386],\n",
       "       [ 0.27872977,  0.89271664, -0.30519134,  0.17951312],\n",
       "       [ 0.65263805, -0.01115787,  0.12379034, -0.74740553]])"
      ]
     },
     "execution_count": 19,
     "metadata": {},
     "output_type": "execute_result"
    }
   ],
   "source": [
    "V"
   ]
  },
  {
   "cell_type": "markdown",
   "id": "b634a5b7-1163-4745-a590-bf0f2b66a8bc",
   "metadata": {},
   "source": [
    "## Now do this(SVD) using builtin np function"
   ]
  },
  {
   "cell_type": "code",
   "execution_count": 20,
   "id": "1236798b-8746-449b-8ac0-9064860d896e",
   "metadata": {},
   "outputs": [],
   "source": [
    "U2,S2,V2 = LA.svd(A)"
   ]
  },
  {
   "cell_type": "code",
   "execution_count": 21,
   "id": "76a7fd99-5cf5-40b2-be33-f7fa5b53004a",
   "metadata": {},
   "outputs": [
    {
     "data": {
      "text/plain": [
       "array([[ 0.36814442,  0.92962095,  0.01657025],\n",
       "       [ 0.55419228, -0.20508909, -0.80672758],\n",
       "       [ 0.74655248, -0.30617536,  0.59069116]])"
      ]
     },
     "execution_count": 21,
     "metadata": {},
     "output_type": "execute_result"
    }
   ],
   "source": [
    "U"
   ]
  },
  {
   "cell_type": "code",
   "execution_count": 22,
   "id": "b6e31309-e340-4433-a85e-e148c2e716c3",
   "metadata": {},
   "outputs": [
    {
     "data": {
      "text/plain": [
       "array([[ 0.36814442,  0.92962095,  0.01657025],\n",
       "       [ 0.55419228, -0.20508909, -0.80672758],\n",
       "       [ 0.74655248, -0.30617536,  0.59069116]])"
      ]
     },
     "execution_count": 22,
     "metadata": {},
     "output_type": "execute_result"
    }
   ],
   "source": [
    "U2"
   ]
  },
  {
   "cell_type": "code",
   "execution_count": 23,
   "id": "c72cadc2-1879-493c-b1a0-293966ccd3f2",
   "metadata": {},
   "outputs": [
    {
     "data": {
      "text/plain": [
       "array([2.26321436, 0.14374907, 0.11629814])"
      ]
     },
     "execution_count": 23,
     "metadata": {},
     "output_type": "execute_result"
    }
   ],
   "source": [
    "d2"
   ]
  },
  {
   "cell_type": "code",
   "execution_count": 24,
   "id": "79775430-4506-454d-a77f-de2d25863bff",
   "metadata": {},
   "outputs": [
    {
     "data": {
      "text/plain": [
       "array([1.50439834, 0.37914254, 0.34102513])"
      ]
     },
     "execution_count": 24,
     "metadata": {},
     "output_type": "execute_result"
    }
   ],
   "source": [
    "S2 #here S2 is small than d2 because it is showing after square rooting the d2"
   ]
  },
  {
   "cell_type": "code",
   "execution_count": 25,
   "id": "8aa103ce-6846-4064-912a-3628f4342123",
   "metadata": {},
   "outputs": [
    {
     "data": {
      "text/plain": [
       "array([1.50439834, 0.37914254, 0.34102513])"
      ]
     },
     "execution_count": 25,
     "metadata": {},
     "output_type": "execute_result"
    }
   ],
   "source": [
    "d2**.5"
   ]
  },
  {
   "cell_type": "code",
   "execution_count": 26,
   "id": "2e984fd2-30be-4cc7-8a55-92a87a5ca866",
   "metadata": {},
   "outputs": [
    {
     "data": {
      "text/plain": [
       "array([[ 0.28667903, -0.40643758, -0.86002209,  0.11395446],\n",
       "       [ 0.64357472, -0.19427041,  0.38973863,  0.62942386],\n",
       "       [ 0.27872977,  0.89271664, -0.30519134,  0.17951312],\n",
       "       [ 0.65263805, -0.01115787,  0.12379034, -0.74740553]])"
      ]
     },
     "execution_count": 26,
     "metadata": {},
     "output_type": "execute_result"
    }
   ],
   "source": [
    "V"
   ]
  },
  {
   "cell_type": "code",
   "execution_count": 27,
   "id": "f66568c9-d371-496d-98c7-d9dd1c86ff5f",
   "metadata": {},
   "outputs": [
    {
     "data": {
      "text/plain": [
       "array([[ 0.28667903,  0.64357472,  0.27872977,  0.65263805],\n",
       "       [-0.40643758, -0.19427041,  0.89271664, -0.01115787],\n",
       "       [-0.86002209,  0.38973863, -0.30519134,  0.12379034],\n",
       "       [-0.11395446, -0.62942386, -0.17951312,  0.74740553]])"
      ]
     },
     "execution_count": 27,
     "metadata": {},
     "output_type": "execute_result"
    }
   ],
   "source": [
    "V2 #is is transpose of V"
   ]
  },
  {
   "cell_type": "code",
   "execution_count": 28,
   "id": "788b7948-f0b6-4c04-ada5-62f0655e60fa",
   "metadata": {},
   "outputs": [
    {
     "data": {
      "text/plain": [
       "array([[ 0.28667903, -0.40643758, -0.86002209, -0.11395446],\n",
       "       [ 0.64357472, -0.19427041,  0.38973863, -0.62942386],\n",
       "       [ 0.27872977,  0.89271664, -0.30519134, -0.17951312],\n",
       "       [ 0.65263805, -0.01115787,  0.12379034,  0.74740553]])"
      ]
     },
     "execution_count": 28,
     "metadata": {},
     "output_type": "execute_result"
    }
   ],
   "source": [
    "V2.T"
   ]
  },
  {
   "cell_type": "markdown",
   "id": "81228cdd-058d-4224-aad9-8dc36f485d95",
   "metadata": {},
   "source": [
    "## Testing the builtin one"
   ]
  },
  {
   "cell_type": "code",
   "execution_count": 29,
   "id": "705c7eff-a7f7-4c3e-bb45-9bf2bfd853c9",
   "metadata": {},
   "outputs": [],
   "source": [
    "D2 = np.hstack((np.diag(S2),np.zeros((3,1))))"
   ]
  },
  {
   "cell_type": "code",
   "execution_count": 30,
   "id": "9de7c430-62d9-499e-bf16-1b5a04a40210",
   "metadata": {},
   "outputs": [
    {
     "data": {
      "text/plain": [
       "array([1.50439834, 0.37914254, 0.34102513])"
      ]
     },
     "execution_count": 30,
     "metadata": {},
     "output_type": "execute_result"
    }
   ],
   "source": [
    "S2"
   ]
  },
  {
   "cell_type": "code",
   "execution_count": 31,
   "id": "c85b65d9-2c44-44b3-9d47-3ed532679248",
   "metadata": {},
   "outputs": [
    {
     "data": {
      "text/plain": [
       "array([[1.50439834, 0.        , 0.        , 0.        ],\n",
       "       [0.        , 0.37914254, 0.        , 0.        ],\n",
       "       [0.        , 0.        , 0.34102513, 0.        ]])"
      ]
     },
     "execution_count": 31,
     "metadata": {},
     "output_type": "execute_result"
    }
   ],
   "source": [
    "D2"
   ]
  },
  {
   "cell_type": "code",
   "execution_count": 32,
   "id": "cb61e2d2-814d-47bb-9581-478f981483ed",
   "metadata": {},
   "outputs": [
    {
     "data": {
      "text/plain": [
       "array([[0.01066073, 0.29016479, 0.46729183, 0.35822118],\n",
       "       [0.50721996, 0.44444832, 0.24693091, 0.51093238],\n",
       "       [0.19591039, 0.82386755, 0.14793672, 0.75921747]])"
      ]
     },
     "execution_count": 32,
     "metadata": {},
     "output_type": "execute_result"
    }
   ],
   "source": [
    "test = U2.dot(D2).dot(V2)\n",
    "test"
   ]
  },
  {
   "cell_type": "code",
   "execution_count": 33,
   "id": "ee2a77b1-ff8e-4949-abfd-0f20c99d49aa",
   "metadata": {},
   "outputs": [
    {
     "data": {
      "text/plain": [
       "array([[0.01066073, 0.29016479, 0.46729183, 0.35822118],\n",
       "       [0.50721996, 0.44444832, 0.24693091, 0.51093238],\n",
       "       [0.19591039, 0.82386755, 0.14793672, 0.75921747]])"
      ]
     },
     "execution_count": 33,
     "metadata": {},
     "output_type": "execute_result"
    }
   ],
   "source": [
    "A"
   ]
  },
  {
   "cell_type": "markdown",
   "id": "6d5d88d5-e691-416f-bd19-d33fdfa4e338",
   "metadata": {},
   "source": [
    "## testing the manual one"
   ]
  },
  {
   "cell_type": "code",
   "execution_count": 34,
   "id": "efc8b788-bcda-49f9-a562-066d63a5d84f",
   "metadata": {},
   "outputs": [
    {
     "data": {
      "text/plain": [
       "array([[1.50439834, 0.        , 0.        , 0.        ],\n",
       "       [0.        , 0.37914254, 0.        , 0.        ],\n",
       "       [0.        , 0.        , 0.34102513, 0.        ]])"
      ]
     },
     "execution_count": 34,
     "metadata": {},
     "output_type": "execute_result"
    }
   ],
   "source": [
    "d2_Matrix = np.hstack((np.diag(d2**.5),np.zeros((3,1))))\n",
    "d2_Matrix"
   ]
  },
  {
   "cell_type": "code",
   "execution_count": 35,
   "id": "aca410d7-c491-4a5f-9a63-cd59c887241f",
   "metadata": {},
   "outputs": [],
   "source": [
    "test2 = U.dot(d2_Matrix).dot(V.T)"
   ]
  },
  {
   "cell_type": "code",
   "execution_count": 36,
   "id": "45a85658-b828-4a1a-ab73-4c3ce8ac124b",
   "metadata": {},
   "outputs": [
    {
     "data": {
      "text/plain": [
       "array([[0.01066073, 0.29016479, 0.46729183, 0.35822118],\n",
       "       [0.50721996, 0.44444832, 0.24693091, 0.51093238],\n",
       "       [0.19591039, 0.82386755, 0.14793672, 0.75921747]])"
      ]
     },
     "execution_count": 36,
     "metadata": {},
     "output_type": "execute_result"
    }
   ],
   "source": [
    "test2"
   ]
  },
  {
   "cell_type": "code",
   "execution_count": 37,
   "id": "1478a4c9-48f3-4402-b7ee-c1a68f00d0cf",
   "metadata": {},
   "outputs": [
    {
     "data": {
      "text/plain": [
       "array([[0.01066073, 0.29016479, 0.46729183, 0.35822118],\n",
       "       [0.50721996, 0.44444832, 0.24693091, 0.51093238],\n",
       "       [0.19591039, 0.82386755, 0.14793672, 0.75921747]])"
      ]
     },
     "execution_count": 37,
     "metadata": {},
     "output_type": "execute_result"
    }
   ],
   "source": [
    "A"
   ]
  },
  {
   "cell_type": "code",
   "execution_count": null,
   "id": "b9d78f6c-ad57-4c84-bd4b-aa3187f70279",
   "metadata": {},
   "outputs": [],
   "source": []
  }
 ],
 "metadata": {
  "kernelspec": {
   "display_name": "Python 3 (ipykernel)",
   "language": "python",
   "name": "python3"
  },
  "language_info": {
   "codemirror_mode": {
    "name": "ipython",
    "version": 3
   },
   "file_extension": ".py",
   "mimetype": "text/x-python",
   "name": "python",
   "nbconvert_exporter": "python",
   "pygments_lexer": "ipython3",
   "version": "3.12.7"
  }
 },
 "nbformat": 4,
 "nbformat_minor": 5
}
