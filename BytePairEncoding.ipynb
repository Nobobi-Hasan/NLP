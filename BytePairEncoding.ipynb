{
 "cells": [
  {
   "cell_type": "code",
   "execution_count": 1,
   "id": "bdbb0b8c-b62b-4ba7-b6e2-35f7989fb3c1",
   "metadata": {},
   "outputs": [],
   "source": [
    "import numpy as np\n",
    "import re\n",
    "from operator import itemgetter"
   ]
  },
  {
   "cell_type": "code",
   "execution_count": 2,
   "id": "f8f4ed2f-f050-4090-8247-269d239afef2",
   "metadata": {},
   "outputs": [],
   "source": [
    "Corpus = {\n",
    "    'l o w _':5,\n",
    "    'l o w e r _':2,\n",
    "    'n e w e s t _':6,\n",
    "    'w i d e s t _':3,\n",
    "    'h a p p i e r _':2\n",
    "}"
   ]
  },
  {
   "cell_type": "code",
   "execution_count": 3,
   "id": "17a8f000-4fe0-4a8f-acf5-8ee53f82b9ec",
   "metadata": {},
   "outputs": [],
   "source": [
    "def getPairCounts(Corpus):\n",
    "    pairs = {}\n",
    "    for word, fr in Corpus.items(): #fr = freequency\n",
    "        symbols = word.split(' ')\n",
    "        for i in range(len(symbols)-1):\n",
    "            pair = (symbols[i], symbols[i+1])\n",
    "            cfr = pairs.get(pair, 0) #cfr = current freequency\n",
    "            pairs[pair] = cfr + fr\n",
    "    return pairs"
   ]
  },
  {
   "cell_type": "code",
   "execution_count": 4,
   "id": "3c5f7736-be7b-4242-a002-eb01ca3b450c",
   "metadata": {},
   "outputs": [],
   "source": [
    "pairCounts = getPairCounts(Corpus)"
   ]
  },
  {
   "cell_type": "code",
   "execution_count": 5,
   "id": "9e505cd2-5096-4230-9415-fc3505dab0bc",
   "metadata": {},
   "outputs": [
    {
     "data": {
      "text/plain": [
       "{('l', 'o'): 7,\n",
       " ('o', 'w'): 7,\n",
       " ('w', '_'): 5,\n",
       " ('w', 'e'): 8,\n",
       " ('e', 'r'): 4,\n",
       " ('r', '_'): 4,\n",
       " ('n', 'e'): 6,\n",
       " ('e', 'w'): 6,\n",
       " ('e', 's'): 9,\n",
       " ('s', 't'): 9,\n",
       " ('t', '_'): 9,\n",
       " ('w', 'i'): 3,\n",
       " ('i', 'd'): 3,\n",
       " ('d', 'e'): 3,\n",
       " ('h', 'a'): 2,\n",
       " ('a', 'p'): 2,\n",
       " ('p', 'p'): 2,\n",
       " ('p', 'i'): 2,\n",
       " ('i', 'e'): 2}"
      ]
     },
     "execution_count": 5,
     "metadata": {},
     "output_type": "execute_result"
    }
   ],
   "source": [
    "pairCounts"
   ]
  },
  {
   "cell_type": "code",
   "execution_count": null,
   "id": "f430e406-8537-4b1b-9fcb-18dcbb89c53b",
   "metadata": {},
   "outputs": [],
   "source": []
  }
 ],
 "metadata": {
  "kernelspec": {
   "display_name": "Python 3 (ipykernel)",
   "language": "python",
   "name": "python3"
  },
  "language_info": {
   "codemirror_mode": {
    "name": "ipython",
    "version": 3
   },
   "file_extension": ".py",
   "mimetype": "text/x-python",
   "name": "python",
   "nbconvert_exporter": "python",
   "pygments_lexer": "ipython3",
   "version": "3.12.7"
  }
 },
 "nbformat": 4,
 "nbformat_minor": 5
}
