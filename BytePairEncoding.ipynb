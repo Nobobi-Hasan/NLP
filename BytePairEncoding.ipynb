{
 "cells": [
  {
   "cell_type": "code",
   "execution_count": 1,
   "id": "bdbb0b8c-b62b-4ba7-b6e2-35f7989fb3c1",
   "metadata": {},
   "outputs": [],
   "source": [
    "import numpy as np\n",
    "import re\n",
    "from operator import itemgetter"
   ]
  },
  {
   "cell_type": "code",
   "execution_count": 2,
   "id": "f8f4ed2f-f050-4090-8247-269d239afef2",
   "metadata": {},
   "outputs": [],
   "source": [
    "Corpus = {\n",
    "    'l o w _':5,\n",
    "    'l o w e r _':2,\n",
    "    'n e w e s t _':6,\n",
    "    'w i d e s t _':3,\n",
    "    'h a p p i e r _':2\n",
    "}"
   ]
  },
  {
   "cell_type": "code",
   "execution_count": 3,
   "id": "17a8f000-4fe0-4a8f-acf5-8ee53f82b9ec",
   "metadata": {},
   "outputs": [],
   "source": [
    "def getPairCounts(Corpus):\n",
    "    pairs = {}\n",
    "    for word, fr in Corpus.items(): #fr = freequency\n",
    "        symbols = word.split(' ')\n",
    "        for i in range(len(symbols)-1):\n",
    "            pair = (symbols[i], symbols[i+1])\n",
    "            cfr = pairs.get(pair, 0) #cfr = current freequency\n",
    "            pairs[pair] = cfr + fr\n",
    "    return pairs"
   ]
  },
  {
   "cell_type": "code",
   "execution_count": 4,
   "id": "3c5f7736-be7b-4242-a002-eb01ca3b450c",
   "metadata": {},
   "outputs": [],
   "source": [
    "pairsCounts = getPairCounts(Corpus)"
   ]
  },
  {
   "cell_type": "code",
   "execution_count": 5,
   "id": "9e505cd2-5096-4230-9415-fc3505dab0bc",
   "metadata": {},
   "outputs": [
    {
     "data": {
      "text/plain": [
       "{('l', 'o'): 7,\n",
       " ('o', 'w'): 7,\n",
       " ('w', '_'): 5,\n",
       " ('w', 'e'): 8,\n",
       " ('e', 'r'): 4,\n",
       " ('r', '_'): 4,\n",
       " ('n', 'e'): 6,\n",
       " ('e', 'w'): 6,\n",
       " ('e', 's'): 9,\n",
       " ('s', 't'): 9,\n",
       " ('t', '_'): 9,\n",
       " ('w', 'i'): 3,\n",
       " ('i', 'd'): 3,\n",
       " ('d', 'e'): 3,\n",
       " ('h', 'a'): 2,\n",
       " ('a', 'p'): 2,\n",
       " ('p', 'p'): 2,\n",
       " ('p', 'i'): 2,\n",
       " ('i', 'e'): 2}"
      ]
     },
     "execution_count": 5,
     "metadata": {},
     "output_type": "execute_result"
    }
   ],
   "source": [
    "pairsCounts"
   ]
  },
  {
   "cell_type": "code",
   "execution_count": 6,
   "id": "f430e406-8537-4b1b-9fcb-18dcbb89c53b",
   "metadata": {},
   "outputs": [],
   "source": [
    "def getBestPair(pairsCounts):\n",
    "    return max(pairsCounts, key = pairsCounts.get)"
   ]
  },
  {
   "cell_type": "code",
   "execution_count": 7,
   "id": "72a9efb8-61f9-4a0b-9e6c-93e728e03a30",
   "metadata": {},
   "outputs": [
    {
     "data": {
      "text/plain": [
       "('e', 's')"
      ]
     },
     "execution_count": 7,
     "metadata": {},
     "output_type": "execute_result"
    }
   ],
   "source": [
    "bestPair = getBestPair(pairsCounts)\n",
    "bestPair"
   ]
  },
  {
   "cell_type": "code",
   "execution_count": 8,
   "id": "50298706-a4ed-452b-b635-a8905fe31f57",
   "metadata": {},
   "outputs": [],
   "source": [
    "def mergeInCorpus(Corpus, bestPair):\n",
    "    newCorpus = {}\n",
    "    for word in Corpus:\n",
    "        newWord = re.sub(' '.join(bestPair), ''.join(bestPair), word)\n",
    "        newCorpus[newWord] = Corpus[word]\n",
    "    return newCorpus"
   ]
  },
  {
   "cell_type": "code",
   "execution_count": 9,
   "id": "aa0e55b1-8918-4193-bdac-6cb26c04f737",
   "metadata": {},
   "outputs": [],
   "source": [
    "# bestPair = getBestPair(pairsCounts)\n",
    "newCorpus = mergeInCorpus(Corpus, bestPair)"
   ]
  },
  {
   "cell_type": "code",
   "execution_count": 10,
   "id": "eda27974-e2cd-4477-b5db-6dcc18ba77cd",
   "metadata": {},
   "outputs": [
    {
     "data": {
      "text/plain": [
       "{'l o w _': 5,\n",
       " 'l o w e r _': 2,\n",
       " 'n e w es t _': 6,\n",
       " 'w i d es t _': 3,\n",
       " 'h a p p i e r _': 2}"
      ]
     },
     "execution_count": 10,
     "metadata": {},
     "output_type": "execute_result"
    }
   ],
   "source": [
    "newCorpus"
   ]
  },
  {
   "cell_type": "code",
   "execution_count": 11,
   "id": "e09be897-a764-4c8e-a5ff-e52d4f785bf0",
   "metadata": {},
   "outputs": [],
   "source": [
    "def runBPE(Corpus, k):\n",
    "    bpeStats = {}\n",
    "    for i in range (k):\n",
    "        pairsCounts = getPairCounts(Corpus)\n",
    "        if not pairsCounts:\n",
    "            break\n",
    "        bestPair = getBestPair(pairsCounts)\n",
    "        bpeStats[bestPair] = i\n",
    "        Corpus = mergeInCorpus(Corpus, bestPair)\n",
    "    return Corpus, bpeStats"
   ]
  },
  {
   "cell_type": "code",
   "execution_count": 12,
   "id": "5a2e4401-4cfb-45ee-b8fe-d87c2fd4666f",
   "metadata": {},
   "outputs": [],
   "source": [
    "Corpus = {\n",
    "    'l o w _':5,\n",
    "    'l o w e r _':2,\n",
    "    'n e w e s t _':6,\n",
    "    'w i d e s t _':3,\n",
    "    'h a p p i e r _':2\n",
    "}\n",
    "\n",
    "newCorpus, bpeStats = runBPE(Corpus, 10)"
   ]
  },
  {
   "cell_type": "code",
   "execution_count": 13,
   "id": "698a00a0-ce05-419e-9e67-46f13d97a2e4",
   "metadata": {},
   "outputs": [
    {
     "data": {
      "text/plain": [
       "{'low_': 5, 'low er _': 2, 'newest_': 6, 'w i d est_': 3, 'h a p p i er _': 2}"
      ]
     },
     "execution_count": 13,
     "metadata": {},
     "output_type": "execute_result"
    }
   ],
   "source": [
    "newCorpus"
   ]
  },
  {
   "cell_type": "code",
   "execution_count": 14,
   "id": "0a4afa5a-481e-4957-9fc6-ab09fef72842",
   "metadata": {},
   "outputs": [
    {
     "data": {
      "text/plain": [
       "{('e', 's'): 0,\n",
       " ('es', 't'): 1,\n",
       " ('est', '_'): 2,\n",
       " ('l', 'o'): 3,\n",
       " ('lo', 'w'): 4,\n",
       " ('n', 'e'): 5,\n",
       " ('ne', 'w'): 6,\n",
       " ('new', 'est_'): 7,\n",
       " ('low', '_'): 8,\n",
       " ('e', 'r'): 9}"
      ]
     },
     "execution_count": 14,
     "metadata": {},
     "output_type": "execute_result"
    }
   ],
   "source": [
    "bpeStats"
   ]
  },
  {
   "cell_type": "code",
   "execution_count": 15,
   "id": "7dac88ec-d75c-4eb2-8466-a4e79ffce7e3",
   "metadata": {},
   "outputs": [],
   "source": [
    "newWord = 'lowest'\n",
    "newWord2 = ' '.join(list(newWord))+' _'\n",
    "\n",
    "word3 = newWord2.split(' ')\n",
    "word4 = list(newWord+'_')\n",
    "l1 = word3[2]\n",
    "l2 = word4[2]"
   ]
  },
  {
   "cell_type": "code",
   "execution_count": 16,
   "id": "41236f27-4b8d-4747-911a-1d51f5f39cde",
   "metadata": {},
   "outputs": [
    {
     "name": "stdout",
     "output_type": "stream",
     "text": [
      "lowest\n",
      "l o w e s t _\n",
      "['l', 'o', 'w', 'e', 's', 't', '_']\n",
      "['l', 'o', 'w', 'e', 's', 't', '_']\n",
      "w\n",
      "w\n"
     ]
    }
   ],
   "source": [
    "print(newWord)\n",
    "print(newWord2)\n",
    "print(word3)\n",
    "print(word4)\n",
    "print(l1)\n",
    "print(l2)"
   ]
  },
  {
   "cell_type": "code",
   "execution_count": 17,
   "id": "e1e7c6de-f498-4fc2-83f2-5db79f12acf4",
   "metadata": {},
   "outputs": [],
   "source": [
    "def getAllPairs(word):\n",
    "    pairs = []\n",
    "    # word = list(word)\n",
    "    word = word.split(' ') #if sent splitted word\n",
    "    # word = list(word+'_') #if sent direct word\n",
    "    prevChar = word[0]\n",
    "    for char in word[1:]:\n",
    "        pairs.append((prevChar, char))\n",
    "        prevChar = char\n",
    "    return pairs"
   ]
  },
  {
   "cell_type": "code",
   "execution_count": 18,
   "id": "71a1eae2-28f5-4c9c-bd99-a31ee59bcc9a",
   "metadata": {},
   "outputs": [],
   "source": [
    "pairs = getAllPairs(newWord2) #if sent splitted word\n",
    "# pairs = getAllPairs(newWord) #if sent direct word"
   ]
  },
  {
   "cell_type": "code",
   "execution_count": 19,
   "id": "34386de3-7ddd-48c7-84b9-ed082cb07cc2",
   "metadata": {},
   "outputs": [
    {
     "data": {
      "text/plain": [
       "[('l', 'o'), ('o', 'w'), ('w', 'e'), ('e', 's'), ('s', 't'), ('t', '_')]"
      ]
     },
     "execution_count": 19,
     "metadata": {},
     "output_type": "execute_result"
    }
   ],
   "source": [
    "pairs"
   ]
  },
  {
   "cell_type": "code",
   "execution_count": 20,
   "id": "738ba35c-648f-40ff-8088-ad986b045fbf",
   "metadata": {},
   "outputs": [],
   "source": [
    "def getPairToBeMerged(bpeStats, pairs):\n",
    "    # bpeCodes = []\n",
    "    # for pair in pairs:\n",
    "    #     if pair in bpeStats:\n",
    "    #         bpeCodes.append((pair, bpeStats[pair]))\n",
    "        \n",
    "    bpeCodes = [(pair, bpeStats[pair]) for pair in pairs if pair in bpeStats]\n",
    "    if len(bpeCodes) == 0:\n",
    "        return (-1,-1)\n",
    "    pairToBeMerged = min(bpeCodes, key=itemgetter(1))[0]\n",
    "    return pairToBeMerged"
   ]
  },
  {
   "cell_type": "code",
   "execution_count": 21,
   "id": "a2330573-cdc1-49ab-a513-a2219e65cd79",
   "metadata": {},
   "outputs": [
    {
     "data": {
      "text/plain": [
       "('e', 's')"
      ]
     },
     "execution_count": 21,
     "metadata": {},
     "output_type": "execute_result"
    }
   ],
   "source": [
    "pairToBeMerged = getPairToBeMerged(bpeStats, pairs)\n",
    "pairToBeMerged"
   ]
  },
  {
   "cell_type": "code",
   "execution_count": 22,
   "id": "1bcd623a-3e6a-466f-b8cb-93701f184c18",
   "metadata": {},
   "outputs": [],
   "source": [
    "def mergeLetters(word, pairToBeMerged):\n",
    "    # word = ' '.join(list(word))+' _' #if sent direct word\n",
    "    newWord = re.sub(' '.join(pairToBeMerged), ''.join(pairToBeMerged), word)\n",
    "    return newWord"
   ]
  },
  {
   "cell_type": "code",
   "execution_count": 23,
   "id": "c6374b00-fc66-4bd3-be28-e0b800771c2b",
   "metadata": {},
   "outputs": [
    {
     "data": {
      "text/plain": [
       "'l o w es t _'"
      ]
     },
     "execution_count": 23,
     "metadata": {},
     "output_type": "execute_result"
    }
   ],
   "source": [
    "mergeLetters(newWord2, pairToBeMerged)\n",
    "# mergeLetters(newWord, pairToBeMerged) #if sent direct word"
   ]
  },
  {
   "cell_type": "code",
   "execution_count": 24,
   "id": "5279d789-f4af-49ac-9702-3c210bcd6792",
   "metadata": {},
   "outputs": [],
   "source": [
    "def bpeTokenize(word, bpeStats):\n",
    "    if len(word) == 1:\n",
    "        return word\n",
    "    word = ' '.join(list(word))+' _' #if sent direct word\n",
    "\n",
    "    while True:\n",
    "        pairs = getAllPairs(word)\n",
    "        pairToBeMerged = getPairToBeMerged(bpeStats, pairs)\n",
    "        if pairToBeMerged[0] == -1:\n",
    "            break\n",
    "        word = mergeLetters(Word, pairToBeMerged)\n",
    "    return word        "
   ]
  },
  {
   "cell_type": "code",
   "execution_count": 25,
   "id": "b21a3819-5ce3-40c0-99a1-e27bdc7935af",
   "metadata": {},
   "outputs": [
    {
     "ename": "NameError",
     "evalue": "name 'Word' is not defined",
     "output_type": "error",
     "traceback": [
      "\u001b[1;31m---------------------------------------------------------------------------\u001b[0m",
      "\u001b[1;31mNameError\u001b[0m                                 Traceback (most recent call last)",
      "Cell \u001b[1;32mIn[25], line 1\u001b[0m\n\u001b[1;32m----> 1\u001b[0m \u001b[43mbpeTokenize\u001b[49m\u001b[43m(\u001b[49m\u001b[38;5;124;43m'\u001b[39;49m\u001b[38;5;124;43mlowest\u001b[39;49m\u001b[38;5;124;43m'\u001b[39;49m\u001b[43m,\u001b[49m\u001b[43m \u001b[49m\u001b[43mbpeStats\u001b[49m\u001b[43m)\u001b[49m\n",
      "Cell \u001b[1;32mIn[24], line 11\u001b[0m, in \u001b[0;36mbpeTokenize\u001b[1;34m(word, bpeStats)\u001b[0m\n\u001b[0;32m      9\u001b[0m     \u001b[38;5;28;01mif\u001b[39;00m pairToBeMerged[\u001b[38;5;241m0\u001b[39m] \u001b[38;5;241m==\u001b[39m \u001b[38;5;241m-\u001b[39m\u001b[38;5;241m1\u001b[39m:\n\u001b[0;32m     10\u001b[0m         \u001b[38;5;28;01mbreak\u001b[39;00m\n\u001b[1;32m---> 11\u001b[0m     word \u001b[38;5;241m=\u001b[39m mergeLetters(\u001b[43mWord\u001b[49m, pairToBeMerged)\n\u001b[0;32m     12\u001b[0m \u001b[38;5;28;01mreturn\u001b[39;00m word\n",
      "\u001b[1;31mNameError\u001b[0m: name 'Word' is not defined"
     ]
    }
   ],
   "source": [
    "bpeTokenize('lowest', bpeStats)"
   ]
  },
  {
   "cell_type": "code",
   "execution_count": null,
   "id": "7bcd7adb-21ae-4bbb-8801-60eb9ecc0698",
   "metadata": {},
   "outputs": [],
   "source": []
  }
 ],
 "metadata": {
  "kernelspec": {
   "display_name": "Python 3 (ipykernel)",
   "language": "python",
   "name": "python3"
  },
  "language_info": {
   "codemirror_mode": {
    "name": "ipython",
    "version": 3
   },
   "file_extension": ".py",
   "mimetype": "text/x-python",
   "name": "python",
   "nbconvert_exporter": "python",
   "pygments_lexer": "ipython3",
   "version": "3.12.7"
  }
 },
 "nbformat": 4,
 "nbformat_minor": 5
}
