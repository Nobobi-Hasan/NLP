{
 "cells": [
  {
   "cell_type": "code",
   "execution_count": 1,
   "id": "65d183bf-cbd2-49cc-b265-8c9305298619",
   "metadata": {},
   "outputs": [],
   "source": [
    "import spacy"
   ]
  },
  {
   "cell_type": "code",
   "execution_count": 2,
   "id": "0070c6d5-0d48-4086-ac9d-a57bd672d3e9",
   "metadata": {},
   "outputs": [],
   "source": [
    "nlp = spacy.load('en_core_web_sm')"
   ]
  },
  {
   "cell_type": "code",
   "execution_count": 3,
   "id": "528d8eff-2892-4c0b-b35d-0423f9b86183",
   "metadata": {},
   "outputs": [],
   "source": [
    "proc = nlp('Shammi is reading books while using her mobile.')"
   ]
  },
  {
   "cell_type": "code",
   "execution_count": 7,
   "id": "4ae76eb8-b990-49a2-aabe-2a41f3c49531",
   "metadata": {},
   "outputs": [
    {
     "name": "stdout",
     "output_type": "stream",
     "text": [
      "Shammi Shammi False\n",
      "is be True\n",
      "reading read False\n",
      "books book False\n",
      "while while True\n",
      "using use True\n",
      "her her True\n",
      "mobile mobile False\n",
      ". . False\n"
     ]
    }
   ],
   "source": [
    "for token in proc:\n",
    "    print(token.text, token.lemma_, token.is_stop) #stop words = most frequent words. "
   ]
  },
  {
   "cell_type": "code",
   "execution_count": null,
   "id": "da9f4b3f-5097-4ee6-8d03-e61c928ee95a",
   "metadata": {},
   "outputs": [],
   "source": []
  }
 ],
 "metadata": {
  "kernelspec": {
   "display_name": "Python 3 (ipykernel)",
   "language": "python",
   "name": "python3"
  },
  "language_info": {
   "codemirror_mode": {
    "name": "ipython",
    "version": 3
   },
   "file_extension": ".py",
   "mimetype": "text/x-python",
   "name": "python",
   "nbconvert_exporter": "python",
   "pygments_lexer": "ipython3",
   "version": "3.12.7"
  }
 },
 "nbformat": 4,
 "nbformat_minor": 5
}
