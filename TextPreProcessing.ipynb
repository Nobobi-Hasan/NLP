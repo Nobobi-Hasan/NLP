{
 "cells": [
  {
   "cell_type": "markdown",
   "id": "6359f317-d6d6-4b83-9803-c061836607da",
   "metadata": {},
   "source": [
    "# All dependent installations"
   ]
  },
  {
   "cell_type": "code",
   "execution_count": 1,
   "id": "b3d405c1-ef5a-4817-9d6f-a05000325557",
   "metadata": {},
   "outputs": [],
   "source": [
    "# !pip install filelock\n",
    "# pip install --upgrade spacy\n",
    "# !pip install ipywidgets"
   ]
  },
  {
   "cell_type": "code",
   "execution_count": 2,
   "id": "539f8ce1-6121-4e6a-8a80-1f227178cc9a",
   "metadata": {},
   "outputs": [],
   "source": [
    "# !pip install regex\n",
    "# !pip install networkx\n",
    "# !pip install --upgrade transformers"
   ]
  },
  {
   "cell_type": "code",
   "execution_count": 3,
   "id": "72f887e6-2952-4150-a930-d30deaa30183",
   "metadata": {},
   "outputs": [],
   "source": [
    "# !pip install transformers -U\n",
    "# !pip install tokenizers==0.15.2\n",
    "# !pip install --upgrade transformers\n",
    "# !pip install transformers==4.36.0\n",
    "# !pip install --upgrade transformers tokenizers torch spacy"
   ]
  },
  {
   "cell_type": "markdown",
   "id": "f7f1ac01-f95f-43bf-915d-a3258e5775ba",
   "metadata": {},
   "source": [
    "# Code Start"
   ]
  },
  {
   "cell_type": "code",
   "execution_count": 4,
   "id": "f666f589-b275-4fd0-85b9-ea8319369ae1",
   "metadata": {},
   "outputs": [],
   "source": [
    "import warnings\n",
    "warnings.filterwarnings('ignore')\n",
    "import spacy\n",
    "import re\n",
    "nlp = spacy.load('en_core_web_sm')"
   ]
  },
  {
   "cell_type": "code",
   "execution_count": 5,
   "id": "d00e8422-f510-4578-bac6-f6ef91016f18",
   "metadata": {},
   "outputs": [],
   "source": [
    "doc = 'I always uh do the main um processing, I mean, the uh um data-processing.'"
   ]
  },
  {
   "cell_type": "code",
   "execution_count": 6,
   "id": "933033c0-7d48-4509-a9d2-8b85734ecf39",
   "metadata": {},
   "outputs": [
    {
     "data": {
      "text/plain": [
       "I always uh do the main um processing, I mean, the uh um data-processing."
      ]
     },
     "execution_count": 6,
     "metadata": {},
     "output_type": "execute_result"
    }
   ],
   "source": [
    "stats = nlp(doc)\n",
    "stats"
   ]
  },
  {
   "cell_type": "code",
   "execution_count": 7,
   "id": "cc508f3b-97e9-48f1-902f-b77a11d53fb6",
   "metadata": {},
   "outputs": [
    {
     "name": "stdout",
     "output_type": "stream",
     "text": [
      "I\n",
      "always\n",
      "uh\n",
      "do\n",
      "the\n",
      "main\n",
      "um\n",
      "processing\n",
      ",\n",
      "I\n",
      "mean\n",
      ",\n",
      "the\n",
      "uh\n",
      "um\n",
      "data\n",
      "-\n",
      "processing\n",
      ".\n"
     ]
    }
   ],
   "source": [
    "for token in stats:\n",
    "    print(token.text)"
   ]
  },
  {
   "cell_type": "code",
   "execution_count": 8,
   "id": "7b7fc2e5-575c-49a8-bfe3-c3b7e109a3d9",
   "metadata": {},
   "outputs": [
    {
     "name": "stdout",
     "output_type": "stream",
     "text": [
      "U.K.\n",
      "has\n",
      "a\n",
      "reasonable\n",
      "population\n"
     ]
    }
   ],
   "source": [
    "doc2 = 'U.K. has a reasonable population'\n",
    "stats = nlp(doc2)\n",
    "for token in stats:\n",
    "    print(token.text)"
   ]
  },
  {
   "cell_type": "code",
   "execution_count": 9,
   "id": "8897cee1-4be0-4f77-ab0e-f5b1c496cc3f",
   "metadata": {},
   "outputs": [
    {
     "name": "stdout",
     "output_type": "stream",
     "text": [
      "I\n",
      "always\n",
      "uh\n",
      "do\n",
      "the\n",
      "main\n",
      "um\n",
      "processing\n",
      "I\n",
      "mean\n",
      "the\n",
      "uh\n",
      "um\n",
      "data\n",
      "processing\n",
      "\n"
     ]
    }
   ],
   "source": [
    "# Using RegEx**\n",
    "\n",
    "for token in re.split('\\W+',doc):\n",
    "    print(token)"
   ]
  },
  {
   "cell_type": "code",
   "execution_count": 10,
   "id": "2e9e9f03-9fb2-4f5e-b92e-a047da03caaf",
   "metadata": {},
   "outputs": [
    {
     "name": "stdout",
     "output_type": "stream",
     "text": [
      "U\n",
      "K\n",
      "has\n",
      "a\n",
      "reasonable\n",
      "population\n"
     ]
    }
   ],
   "source": [
    "for token in re.split('\\W+',doc2):\n",
    "    print(token)"
   ]
  },
  {
   "cell_type": "markdown",
   "id": "22ee169c-cc8d-41e7-9940-22b121c35bfd",
   "metadata": {},
   "source": [
    "# Sentiment Classification"
   ]
  },
  {
   "cell_type": "code",
   "execution_count": 11,
   "id": "a339ab1f-440c-4d7e-889f-d7a6fef43e9e",
   "metadata": {},
   "outputs": [
    {
     "data": {
      "text/plain": [
       "84780"
      ]
     },
     "execution_count": 11,
     "metadata": {},
     "output_type": "execute_result"
    }
   ],
   "source": [
    "L = list(nlp.vocab.strings)\n",
    "len(L)"
   ]
  },
  {
   "cell_type": "code",
   "execution_count": 12,
   "id": "5bcf6c7c-57ee-4b03-9822-73a258838a73",
   "metadata": {},
   "outputs": [
    {
     "data": {
      "text/plain": [
       "'Arguably'"
      ]
     },
     "execution_count": 12,
     "metadata": {},
     "output_type": "execute_result"
    }
   ],
   "source": [
    "L[7300]"
   ]
  },
  {
   "cell_type": "code",
   "execution_count": 13,
   "id": "ac5a6e60-2759-4f5f-92b6-39e01214de7f",
   "metadata": {},
   "outputs": [],
   "source": [
    "# L"
   ]
  },
  {
   "cell_type": "code",
   "execution_count": null,
   "id": "1d27813e-c537-4a90-aeed-d98a479acb93",
   "metadata": {},
   "outputs": [],
   "source": []
  }
 ],
 "metadata": {
  "kernelspec": {
   "display_name": "Python 3 (ipykernel)",
   "language": "python",
   "name": "python3"
  },
  "language_info": {
   "codemirror_mode": {
    "name": "ipython",
    "version": 3
   },
   "file_extension": ".py",
   "mimetype": "text/x-python",
   "name": "python",
   "nbconvert_exporter": "python",
   "pygments_lexer": "ipython3",
   "version": "3.12.7"
  }
 },
 "nbformat": 4,
 "nbformat_minor": 5
}
