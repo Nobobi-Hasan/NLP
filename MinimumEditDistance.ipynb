{
 "cells": [
  {
   "cell_type": "code",
   "execution_count": 1,
   "id": "21b1d88c-5834-44b4-9b5e-3bde270be165",
   "metadata": {},
   "outputs": [],
   "source": [
    "import spacy"
   ]
  },
  {
   "cell_type": "code",
   "execution_count": 2,
   "id": "ade8fa37-2f46-45e8-87f1-051a2c46d5ae",
   "metadata": {},
   "outputs": [
    {
     "name": "stderr",
     "output_type": "stream",
     "text": [
      "C:\\Users\\Shatin\\AppData\\Roaming\\Python\\Python312\\site-packages\\transformers\\utils\\generic.py:441: FutureWarning: `torch.utils._pytree._register_pytree_node` is deprecated. Please use `torch.utils._pytree.register_pytree_node` instead.\n",
      "  _torch_pytree._register_pytree_node(\n",
      "C:\\Users\\Shatin\\AppData\\Roaming\\Python\\Python312\\site-packages\\transformers\\utils\\generic.py:309: FutureWarning: `torch.utils._pytree._register_pytree_node` is deprecated. Please use `torch.utils._pytree.register_pytree_node` instead.\n",
      "  _torch_pytree._register_pytree_node(\n"
     ]
    }
   ],
   "source": [
    "nlp = spacy.load('en_core_web_sm')"
   ]
  },
  {
   "cell_type": "code",
   "execution_count": 3,
   "id": "6cb4e9e1-2e0e-450e-ad0d-bbfc8db38307",
   "metadata": {},
   "outputs": [],
   "source": [
    "import numpy as np"
   ]
  },
  {
   "cell_type": "code",
   "execution_count": 4,
   "id": "70cb85e2-26f4-4ebe-9169-253d5e8406cc",
   "metadata": {},
   "outputs": [],
   "source": [
    "def computeMED(str1, str2, insCost=1, delCost=1, subCost=2):\n",
    "    M = len(str1)+1\n",
    "    N = len(str2)+1\n",
    "    D = np.zeros((M,N))\n",
    "\n",
    "    for i in range(M):\n",
    "        D[i,0] = i*delCost\n",
    "    for j in range(N):\n",
    "        D[0,j] = j*insCost\n",
    "\n",
    "    for i in range(1, M):\n",
    "        for j in range(1, N):\n",
    "            diag = subCost if str1[i-1]!=str2[j-1] else 0\n",
    "            D[i,j] = min(D[i-1,j]+delCost, D[i,j-1]+insCost, D[i-1,j-1]+diag)\n",
    "    print(D)\n",
    "    print('MED = ', D[M-1,N-1])\n",
    "    "
   ]
  },
  {
   "cell_type": "code",
   "execution_count": 5,
   "id": "1f620785-cf27-4ac0-b7ae-78084b1701bb",
   "metadata": {},
   "outputs": [
    {
     "name": "stdout",
     "output_type": "stream",
     "text": [
      "[[ 0.  1.  2.  3.  4.  5.  6.  7.  8.  9.]\n",
      " [ 1.  2.  3.  4.  5.  6.  7.  6.  7.  8.]\n",
      " [ 2.  3.  4.  5.  6.  7.  8.  7.  8.  7.]\n",
      " [ 3.  4.  5.  6.  7.  8.  7.  8.  9.  8.]\n",
      " [ 4.  3.  4.  5.  6.  7.  8.  9. 10.  9.]\n",
      " [ 5.  4.  5.  6.  7.  8.  9. 10. 11. 10.]\n",
      " [ 6.  5.  6.  7.  8.  9.  8.  9. 10. 11.]\n",
      " [ 7.  6.  7.  8.  9. 10.  9.  8.  9. 10.]\n",
      " [ 8.  7.  8.  9. 10. 11. 10.  9.  8.  9.]\n",
      " [ 9.  8.  9. 10. 11. 12. 11. 10.  9.  8.]]\n",
      "MED =  8.0\n"
     ]
    }
   ],
   "source": [
    "computeMED('INTENTION', 'EXECUTION')"
   ]
  },
  {
   "cell_type": "markdown",
   "id": "2498f343-7dfd-4d4e-8a73-849fa657ac39",
   "metadata": {},
   "source": [
    "# Spell Correction Project"
   ]
  },
  {
   "cell_type": "code",
   "execution_count": 6,
   "id": "c48e19a9-c89e-4e30-9026-4a4fb63639a3",
   "metadata": {},
   "outputs": [
    {
     "name": "stdout",
     "output_type": "stream",
     "text": [
      "Defaulting to user installation because normal site-packages is not writeable\n",
      "Requirement already satisfied: editdistance in c:\\users\\shatin\\appdata\\roaming\\python\\python312\\site-packages (0.8.1)\n"
     ]
    }
   ],
   "source": [
    "!pip install editdistance\n",
    "import editdistance"
   ]
  },
  {
   "cell_type": "code",
   "execution_count": 7,
   "id": "b8bc11ed-510b-41ea-8d7f-0b02449d581d",
   "metadata": {},
   "outputs": [
    {
     "data": {
      "text/plain": [
       "5"
      ]
     },
     "execution_count": 7,
     "metadata": {},
     "output_type": "execute_result"
    }
   ],
   "source": [
    "editdistance.eval('INTENTION', 'EXECUTION')"
   ]
  },
  {
   "cell_type": "code",
   "execution_count": 8,
   "id": "f9e4e606-84a4-4397-baaa-803d8d96d8b0",
   "metadata": {},
   "outputs": [
    {
     "data": {
      "text/plain": [
       "84780"
      ]
     },
     "execution_count": 8,
     "metadata": {},
     "output_type": "execute_result"
    }
   ],
   "source": [
    "L = list(nlp.vocab.strings)\n",
    "len(L)"
   ]
  },
  {
   "cell_type": "code",
   "execution_count": 9,
   "id": "2c6c521d-f673-4609-9221-6e0e788fa333",
   "metadata": {},
   "outputs": [],
   "source": [
    "def correctSpellings(word, L):\n",
    "    MED = [editdistance.eval(word, L[i]) for i in range(len(L))]\n",
    "    return L[np.argmin(MED)], min(MED)"
   ]
  },
  {
   "cell_type": "code",
   "execution_count": 12,
   "id": "e10e462d-0aa9-400b-afa0-d0448bf744cc",
   "metadata": {},
   "outputs": [
    {
     "name": "stdin",
     "output_type": "stream",
     "text": [
      "Type a word: anana\n"
     ]
    },
    {
     "name": "stdout",
     "output_type": "stream",
     "text": [
      "Did you mean Banana?\n",
      "MED =  1\n"
     ]
    }
   ],
   "source": [
    "word = input('Type a word:')\n",
    "corrWord, MED = correctSpellings(word, L)\n",
    "print('Did you mean '+corrWord+'?')\n",
    "print('MED = ', MED)"
   ]
  },
  {
   "cell_type": "code",
   "execution_count": null,
   "id": "25df8876-00da-4452-9b7f-738ef06cf371",
   "metadata": {},
   "outputs": [],
   "source": []
  }
 ],
 "metadata": {
  "kernelspec": {
   "display_name": "Python 3 (ipykernel)",
   "language": "python",
   "name": "python3"
  },
  "language_info": {
   "codemirror_mode": {
    "name": "ipython",
    "version": 3
   },
   "file_extension": ".py",
   "mimetype": "text/x-python",
   "name": "python",
   "nbconvert_exporter": "python",
   "pygments_lexer": "ipython3",
   "version": "3.12.7"
  }
 },
 "nbformat": 4,
 "nbformat_minor": 5
}
