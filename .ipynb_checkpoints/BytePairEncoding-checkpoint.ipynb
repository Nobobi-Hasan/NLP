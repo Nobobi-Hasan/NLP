{
 "cells": [
  {
   "cell_type": "code",
   "execution_count": 1,
   "id": "bdbb0b8c-b62b-4ba7-b6e2-35f7989fb3c1",
   "metadata": {},
   "outputs": [],
   "source": [
    "import numpy as np\n",
    "import re\n",
    "from operator import itemgetter"
   ]
  },
  {
   "cell_type": "code",
   "execution_count": 2,
   "id": "f8f4ed2f-f050-4090-8247-269d239afef2",
   "metadata": {},
   "outputs": [],
   "source": [
    "Corpus = {\n",
    "    'l o w _':5,\n",
    "    'l o w e r _':2,\n",
    "    'n e w e s t _':6,\n",
    "    'w i d e s t _':3,\n",
    "    'h a p p i e r _':2\n",
    "}"
   ]
  },
  {
   "cell_type": "code",
   "execution_count": 3,
   "id": "17a8f000-4fe0-4a8f-acf5-8ee53f82b9ec",
   "metadata": {},
   "outputs": [],
   "source": [
    "def getPairCounts(Corpus):\n",
    "    pairs = {}\n",
    "    for word, fr in Corpus.items(): #fr = freequency\n",
    "        symbols = word.split(' ')\n",
    "        for i in range(len(symbols)-1):\n",
    "            pair = (symbols[i], symbols[i+1])\n",
    "            cfr = pairs.get(pair, 0) #cfr = current freequency\n",
    "            pairs[pair] = cfr + fr\n",
    "    return pairs"
   ]
  },
  {
   "cell_type": "code",
   "execution_count": 4,
   "id": "3c5f7736-be7b-4242-a002-eb01ca3b450c",
   "metadata": {},
   "outputs": [],
   "source": [
    "pairsCounts = getPairCounts(Corpus)"
   ]
  },
  {
   "cell_type": "code",
   "execution_count": 5,
   "id": "9e505cd2-5096-4230-9415-fc3505dab0bc",
   "metadata": {},
   "outputs": [
    {
     "data": {
      "text/plain": [
       "{('l', 'o'): 7,\n",
       " ('o', 'w'): 7,\n",
       " ('w', '_'): 5,\n",
       " ('w', 'e'): 8,\n",
       " ('e', 'r'): 4,\n",
       " ('r', '_'): 4,\n",
       " ('n', 'e'): 6,\n",
       " ('e', 'w'): 6,\n",
       " ('e', 's'): 9,\n",
       " ('s', 't'): 9,\n",
       " ('t', '_'): 9,\n",
       " ('w', 'i'): 3,\n",
       " ('i', 'd'): 3,\n",
       " ('d', 'e'): 3,\n",
       " ('h', 'a'): 2,\n",
       " ('a', 'p'): 2,\n",
       " ('p', 'p'): 2,\n",
       " ('p', 'i'): 2,\n",
       " ('i', 'e'): 2}"
      ]
     },
     "execution_count": 5,
     "metadata": {},
     "output_type": "execute_result"
    }
   ],
   "source": [
    "pairsCounts"
   ]
  },
  {
   "cell_type": "code",
   "execution_count": 6,
   "id": "f430e406-8537-4b1b-9fcb-18dcbb89c53b",
   "metadata": {},
   "outputs": [],
   "source": [
    "def getBestPair(pairsCounts):\n",
    "    return max(pairsCounts, key = pairsCounts.get)"
   ]
  },
  {
   "cell_type": "code",
   "execution_count": 7,
   "id": "72a9efb8-61f9-4a0b-9e6c-93e728e03a30",
   "metadata": {},
   "outputs": [
    {
     "data": {
      "text/plain": [
       "('e', 's')"
      ]
     },
     "execution_count": 7,
     "metadata": {},
     "output_type": "execute_result"
    }
   ],
   "source": [
    "bestPair = getBestPair(pairsCounts)\n",
    "bestPair"
   ]
  },
  {
   "cell_type": "code",
   "execution_count": 8,
   "id": "50298706-a4ed-452b-b635-a8905fe31f57",
   "metadata": {},
   "outputs": [],
   "source": [
    "def mergeInCorpus(Corpus, bestPair):\n",
    "    newCorpus = {}\n",
    "    for word in Corpus:\n",
    "        newWord = re.sub(' '.join(bestPair), ''.join(bestPair), word)\n",
    "        newCorpus[newWord] = Corpus[word]\n",
    "    return newCorpus"
   ]
  },
  {
   "cell_type": "code",
   "execution_count": 9,
   "id": "aa0e55b1-8918-4193-bdac-6cb26c04f737",
   "metadata": {},
   "outputs": [],
   "source": [
    "bestPair = getBestPair(pairsCounts)\n",
    "newCorpus = mergeInCorpus(Corpus, bestPair)"
   ]
  },
  {
   "cell_type": "code",
   "execution_count": 10,
   "id": "eda27974-e2cd-4477-b5db-6dcc18ba77cd",
   "metadata": {},
   "outputs": [
    {
     "data": {
      "text/plain": [
       "{'l o w _': 5,\n",
       " 'l o w e r _': 2,\n",
       " 'n e w es t _': 6,\n",
       " 'w i d es t _': 3,\n",
       " 'h a p p i e r _': 2}"
      ]
     },
     "execution_count": 10,
     "metadata": {},
     "output_type": "execute_result"
    }
   ],
   "source": [
    "newCorpus"
   ]
  },
  {
   "cell_type": "code",
   "execution_count": 11,
   "id": "e09be897-a764-4c8e-a5ff-e52d4f785bf0",
   "metadata": {},
   "outputs": [],
   "source": [
    "def runBPE(Corpus, k):\n",
    "    bpeStats = {}\n",
    "    for i in range (k):\n",
    "        pairsCounts = getPairCounts(Corpus)\n",
    "        if not pairsCounts:\n",
    "            break\n",
    "        bestPair = getBestPair(pairsCounts)\n",
    "        bpeStats[bestPair] = i\n",
    "        Corpus = mergeInCorpus(Corpus, bestPair)\n",
    "    return Corpus, bpeStats"
   ]
  },
  {
   "cell_type": "code",
   "execution_count": 18,
   "id": "5a2e4401-4cfb-45ee-b8fe-d87c2fd4666f",
   "metadata": {},
   "outputs": [],
   "source": [
    "Corpus = {\n",
    "    'l o w _':5,\n",
    "    'l o w e r _':2,\n",
    "    'n e w e s t _':6,\n",
    "    'w i d e s t _':3,\n",
    "    'h a p p i e r _':2\n",
    "}\n",
    "\n",
    "newCorpus, bpeStats = runBPE(Corpus, 10)"
   ]
  },
  {
   "cell_type": "code",
   "execution_count": 19,
   "id": "698a00a0-ce05-419e-9e67-46f13d97a2e4",
   "metadata": {},
   "outputs": [
    {
     "data": {
      "text/plain": [
       "{'low_': 5, 'low er _': 2, 'newest_': 6, 'w i d est_': 3, 'h a p p i er _': 2}"
      ]
     },
     "execution_count": 19,
     "metadata": {},
     "output_type": "execute_result"
    }
   ],
   "source": [
    "newCorpus"
   ]
  },
  {
   "cell_type": "code",
   "execution_count": 20,
   "id": "0a4afa5a-481e-4957-9fc6-ab09fef72842",
   "metadata": {},
   "outputs": [
    {
     "data": {
      "text/plain": [
       "{('e', 's'): 0,\n",
       " ('es', 't'): 1,\n",
       " ('est', '_'): 2,\n",
       " ('l', 'o'): 3,\n",
       " ('lo', 'w'): 4,\n",
       " ('n', 'e'): 5,\n",
       " ('ne', 'w'): 6,\n",
       " ('new', 'est_'): 7,\n",
       " ('low', '_'): 8,\n",
       " ('e', 'r'): 9}"
      ]
     },
     "execution_count": 20,
     "metadata": {},
     "output_type": "execute_result"
    }
   ],
   "source": [
    "bpeStats"
   ]
  },
  {
   "cell_type": "code",
   "execution_count": 52,
   "id": "7dac88ec-d75c-4eb2-8466-a4e79ffce7e3",
   "metadata": {},
   "outputs": [],
   "source": [
    "newWord = 'lowest'\n",
    "newWord2 = ' '.join(list(newWord))+' _'"
   ]
  },
  {
   "cell_type": "code",
   "execution_count": 59,
   "id": "41236f27-4b8d-4747-911a-1d51f5f39cde",
   "metadata": {},
   "outputs": [
    {
     "name": "stdout",
     "output_type": "stream",
     "text": [
      "lowest\n",
      "l o w e s t _\n"
     ]
    }
   ],
   "source": [
    "print(newWord)\n",
    "print(newWord2)"
   ]
  },
  {
   "cell_type": "code",
   "execution_count": 60,
   "id": "e1e7c6de-f498-4fc2-83f2-5db79f12acf4",
   "metadata": {},
   "outputs": [],
   "source": [
    "def getAllPairs(word):\n",
    "    pairs = []\n",
    "    # word = list(word)\n",
    "    # word = word.split(' ')\n",
    "    word = ' '.join(list(word))+' _'\n",
    "    prevChar = word[0]\n",
    "    for char in word[1:]:\n",
    "        pairs.append((prevChar, char))\n",
    "        prevChar = char\n",
    "    return pairs"
   ]
  },
  {
   "cell_type": "code",
   "execution_count": 61,
   "id": "71a1eae2-28f5-4c9c-bd99-a31ee59bcc9a",
   "metadata": {},
   "outputs": [
    {
     "data": {
      "text/plain": [
       "[('l', 'o'), ('o', 'w'), ('w', 'e'), ('e', 's'), ('s', 't'), ('t', '_')]"
      ]
     },
     "execution_count": 61,
     "metadata": {},
     "output_type": "execute_result"
    }
   ],
   "source": [
    "getAllPairs(newWord2)"
   ]
  },
  {
   "cell_type": "code",
   "execution_count": null,
   "id": "738ba35c-648f-40ff-8088-ad986b045fbf",
   "metadata": {},
   "outputs": [],
   "source": []
  }
 ],
 "metadata": {
  "kernelspec": {
   "display_name": "Python 3 (ipykernel)",
   "language": "python",
   "name": "python3"
  },
  "language_info": {
   "codemirror_mode": {
    "name": "ipython",
    "version": 3
   },
   "file_extension": ".py",
   "mimetype": "text/x-python",
   "name": "python",
   "nbconvert_exporter": "python",
   "pygments_lexer": "ipython3",
   "version": "3.12.7"
  }
 },
 "nbformat": 4,
 "nbformat_minor": 5
}
