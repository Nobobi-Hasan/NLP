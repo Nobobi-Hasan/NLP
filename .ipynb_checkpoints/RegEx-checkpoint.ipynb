{
 "cells": [
  {
   "cell_type": "code",
   "execution_count": 1,
   "id": "e8492ae4-38ae-4e96-9f24-c366fd793d2f",
   "metadata": {},
   "outputs": [],
   "source": [
    "import re"
   ]
  },
  {
   "cell_type": "code",
   "execution_count": 2,
   "id": "1706bbba-2ca3-4bad-9a7e-1cd0b5c146e6",
   "metadata": {},
   "outputs": [
    {
     "data": {
      "text/plain": [
       "['abc']"
      ]
     },
     "execution_count": 2,
     "metadata": {},
     "output_type": "execute_result"
    }
   ],
   "source": [
    "re.findall('abc', 'vavdabcvyuytfdbxokcb;sfa')"
   ]
  },
  {
   "cell_type": "code",
   "execution_count": 3,
   "id": "24f66a84-2b45-43e3-a481-a1c66d9d2dae",
   "metadata": {},
   "outputs": [
    {
     "data": {
      "text/plain": [
       "['a', 'a', 'b', 'c', 'b', 'c', 'b', 'a']"
      ]
     },
     "execution_count": 3,
     "metadata": {},
     "output_type": "execute_result"
    }
   ],
   "source": [
    "re.findall('[abc]', 'vavdabcvyuytfdbxokcb;sfa')"
   ]
  },
  {
   "cell_type": "code",
   "execution_count": 4,
   "id": "da08b43f-ba86-4026-a4df-8d741ee11a36",
   "metadata": {},
   "outputs": [
    {
     "data": {
      "text/plain": [
       "['a', 'a', 'b', 'c', 'b', 'c', 'b', 'a']"
      ]
     },
     "execution_count": 4,
     "metadata": {},
     "output_type": "execute_result"
    }
   ],
   "source": [
    "re.findall('[a-c]', 'vavdabcvyuytfdbxokcb;sfa')"
   ]
  },
  {
   "cell_type": "code",
   "execution_count": 5,
   "id": "84a61d52-745b-4f0f-a80c-33ba522b0090",
   "metadata": {},
   "outputs": [
    {
     "data": {
      "text/plain": [
       "14"
      ]
     },
     "execution_count": 5,
     "metadata": {},
     "output_type": "execute_result"
    }
   ],
   "source": [
    "s = 'uasiu6d4fwekjsb86498sd4vsnjhbf894dsdhsd1vd48'\n",
    "L = re.findall('[0-9]', s)\n",
    "len(L)"
   ]
  },
  {
   "cell_type": "markdown",
   "id": "82076e8b-c130-4164-b42b-7a2564f92eba",
   "metadata": {},
   "source": [
    "## Consecutive 4 digits"
   ]
  },
  {
   "cell_type": "code",
   "execution_count": 8,
   "id": "6b685fc2-d362-4e4e-bf31-fde7cfa80378",
   "metadata": {},
   "outputs": [
    {
     "data": {
      "text/plain": [
       "['8649', '7894']"
      ]
     },
     "execution_count": 8,
     "metadata": {},
     "output_type": "execute_result"
    }
   ],
   "source": [
    "s = 'uasiu6d4fwekjsb86498sd4vs453njhb7894dsdhsd1vd48'\n",
    "L = re.findall('[0-9][0-9][0-9][0-9]', s)\n",
    "L"
   ]
  },
  {
   "cell_type": "markdown",
   "id": "d498aee9-24be-42d9-8f00-984d4711900c",
   "metadata": {},
   "source": [
    "## ^ (Complement)"
   ]
  },
  {
   "cell_type": "code",
   "execution_count": 10,
   "id": "d5c620ee-bb4a-4108-96e7-d7e82a5b0c2d",
   "metadata": {},
   "outputs": [
    {
     "data": {
      "text/plain": [
       "['j', 'h', 's', 'u', 'g', 'f', 'u', 's', 'y']"
      ]
     },
     "execution_count": 10,
     "metadata": {},
     "output_type": "execute_result"
    }
   ],
   "source": [
    "s = 'abjhasugfausycba'\n",
    "re.findall('[^abc]', s) #everything other than a,b, and c"
   ]
  },
  {
   "cell_type": "code",
   "execution_count": null,
   "id": "aa959c2c-4867-4c36-afbb-98a5def234b6",
   "metadata": {},
   "outputs": [],
   "source": []
  }
 ],
 "metadata": {
  "kernelspec": {
   "display_name": "Python 3 (ipykernel)",
   "language": "python",
   "name": "python3"
  },
  "language_info": {
   "codemirror_mode": {
    "name": "ipython",
    "version": 3
   },
   "file_extension": ".py",
   "mimetype": "text/x-python",
   "name": "python",
   "nbconvert_exporter": "python",
   "pygments_lexer": "ipython3",
   "version": "3.12.4"
  }
 },
 "nbformat": 4,
 "nbformat_minor": 5
}
