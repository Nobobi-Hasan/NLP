{
 "cells": [
  {
   "cell_type": "code",
   "execution_count": 1,
   "id": "f5478553-8f5c-4d9e-a3b1-4680b864b904",
   "metadata": {},
   "outputs": [],
   "source": [
    "import numpy as np\n",
    "from numpy import linalg as LA\n",
    "import matplotlib.pyplot as plt\n",
    "from sklearn.datasets import fetch_lfw_people"
   ]
  },
  {
   "cell_type": "code",
   "execution_count": 2,
   "id": "f7a79fc0-87c3-43b4-b955-97b4735ccfad",
   "metadata": {},
   "outputs": [],
   "source": [
    "faces = fetch_lfw_people(min_faces_per_person=80)"
   ]
  },
  {
   "cell_type": "code",
   "execution_count": 3,
   "id": "87f0f3d6-9fdc-4289-b576-3b4f579cbc4c",
   "metadata": {},
   "outputs": [
    {
     "data": {
      "text/plain": [
       "dict_keys(['data', 'images', 'target', 'target_names', 'DESCR'])"
      ]
     },
     "execution_count": 3,
     "metadata": {},
     "output_type": "execute_result"
    }
   ],
   "source": [
    "faces.keys()"
   ]
  },
  {
   "cell_type": "code",
   "execution_count": 4,
   "id": "d93abaaa-ae01-4dd4-ad43-4ca5d1f8f911",
   "metadata": {},
   "outputs": [
    {
     "data": {
      "text/plain": [
       "<matplotlib.image.AxesImage at 0x16261418e00>"
      ]
     },
     "execution_count": 4,
     "metadata": {},
     "output_type": "execute_result"
    },
    {
     "data": {
      "image/png": "[encoded data removed]",
      "text/plain": [
       "<Figure size 640x480 with 1 Axes>"
      ]
     },
     "metadata": {},
     "output_type": "display_data"
    }
   ],
   "source": [
    "plt .imshow(faces.images[0], cmap = 'bone')"
   ]
  },
  {
   "cell_type": "code",
   "execution_count": 5,
   "id": "87d0021d-e0f5-49b0-9997-9be7f8b8e565",
   "metadata": {},
   "outputs": [
    {
     "data": {
      "text/plain": [
       "(62, 47)"
      ]
     },
     "execution_count": 5,
     "metadata": {},
     "output_type": "execute_result"
    }
   ],
   "source": [
    "faces.images[0].shape"
   ]
  },
  {
   "cell_type": "code",
   "execution_count": 6,
   "id": "29f79a50-3d37-4068-bf4d-e67156b001e1",
   "metadata": {},
   "outputs": [
    {
     "data": {
      "text/plain": [
       "2914"
      ]
     },
     "execution_count": 6,
     "metadata": {},
     "output_type": "execute_result"
    }
   ],
   "source": [
    "62*47"
   ]
  },
  {
   "cell_type": "code",
   "execution_count": 7,
   "id": "084a836f-4dab-4732-b9c2-4457ed3d9fae",
   "metadata": {},
   "outputs": [],
   "source": [
    "X = faces.data.T ## data is the flatten form of these images"
   ]
  },
  {
   "cell_type": "code",
   "execution_count": 8,
   "id": "b96291f5-2fb2-4ccb-b85c-7712499dc23c",
   "metadata": {},
   "outputs": [
    {
     "data": {
      "text/plain": [
       "(2914, 1140)"
      ]
     },
     "execution_count": 8,
     "metadata": {},
     "output_type": "execute_result"
    }
   ],
   "source": [
    "X.shape # 1140 face data available here"
   ]
  },
  {
   "cell_type": "code",
   "execution_count": 9,
   "id": "ab884a95-cd8b-48ba-95d9-9f33d5ac4228",
   "metadata": {},
   "outputs": [],
   "source": [
    "m = X.mean(axis = 1)[:,np.newaxis]"
   ]
  },
  {
   "cell_type": "code",
   "execution_count": 10,
   "id": "23b79179-67e4-4e0a-9607-573bf8982884",
   "metadata": {},
   "outputs": [
    {
     "data": {
      "text/plain": [
       "array([[0.35198358],\n",
       "       [0.36399513],\n",
       "       [0.38627198],\n",
       "       ...,\n",
       "       [0.45471764],\n",
       "       [0.42580688],\n",
       "       [0.39794424]], dtype=float32)"
      ]
     },
     "execution_count": 10,
     "metadata": {},
     "output_type": "execute_result"
    }
   ],
   "source": [
    "m"
   ]
  },
  {
   "cell_type": "code",
   "execution_count": 11,
   "id": "c8fa2070-0617-4bee-8454-06f5b1420ef4",
   "metadata": {},
   "outputs": [
    {
     "data": {
      "text/plain": [
       "(2914, 1)"
      ]
     },
     "execution_count": 11,
     "metadata": {},
     "output_type": "execute_result"
    }
   ],
   "source": [
    "m.shape"
   ]
  },
  {
   "cell_type": "code",
   "execution_count": null,
   "id": "bf0a40c3-4528-4db7-b2c5-e56799559d78",
   "metadata": {},
   "outputs": [],
   "source": []
  }
 ],
 "metadata": {
  "kernelspec": {
   "display_name": "Python 3 (ipykernel)",
   "language": "python",
   "name": "python3"
  },
  "language_info": {
   "codemirror_mode": {
    "name": "ipython",
    "version": 3
   },
   "file_extension": ".py",
   "mimetype": "text/x-python",
   "name": "python",
   "nbconvert_exporter": "python",
   "pygments_lexer": "ipython3",
   "version": "3.12.7"
  }
 },
 "nbformat": 4,
 "nbformat_minor": 5
}
