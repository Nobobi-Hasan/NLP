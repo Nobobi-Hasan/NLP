{
 "cells": [
  {
   "cell_type": "code",
   "execution_count": 1,
   "id": "65d183bf-cbd2-49cc-b265-8c9305298619",
   "metadata": {},
   "outputs": [],
   "source": [
    "import spacy"
   ]
  },
  {
   "cell_type": "code",
   "execution_count": 2,
   "id": "0070c6d5-0d48-4086-ac9d-a57bd672d3e9",
   "metadata": {},
   "outputs": [],
   "source": [
    "nlp = spacy.load('en_core_web_sm')"
   ]
  },
  {
   "cell_type": "code",
   "execution_count": 3,
   "id": "528d8eff-2892-4c0b-b35d-0423f9b86183",
   "metadata": {},
   "outputs": [],
   "source": [
    "proc = nlp('Shammi is reading books while using her mobile.')"
   ]
  },
  {
   "cell_type": "code",
   "execution_count": 4,
   "id": "4ae76eb8-b990-49a2-aabe-2a41f3c49531",
   "metadata": {},
   "outputs": [
    {
     "name": "stdout",
     "output_type": "stream",
     "text": [
      "Text = Shammi Lemma = Shammi || Is_Stop? = False || Suffix = mmi || Prefix = S\n",
      "Text = is Lemma = be || Is_Stop? = True || Suffix = is || Prefix = i\n",
      "Text = reading Lemma = read || Is_Stop? = False || Suffix = ing || Prefix = r\n",
      "Text = books Lemma = book || Is_Stop? = False || Suffix = oks || Prefix = b\n",
      "Text = while Lemma = while || Is_Stop? = True || Suffix = ile || Prefix = w\n",
      "Text = using Lemma = use || Is_Stop? = True || Suffix = ing || Prefix = u\n",
      "Text = her Lemma = her || Is_Stop? = True || Suffix = her || Prefix = h\n",
      "Text = mobile Lemma = mobile || Is_Stop? = False || Suffix = ile || Prefix = m\n",
      "Text = . Lemma = . || Is_Stop? = False || Suffix = . || Prefix = .\n"
     ]
    }
   ],
   "source": [
    "for token in proc:\n",
    "    # print(token.text, token.lemma_, token.is_stop, token.suffix_) #stop words = most frequent words. \n",
    "    print('Text = ' + token.text, 'Lemma = ' + token.lemma_, '|| Is_Stop? = ' + str(token.is_stop), '|| Suffix = ' + token.suffix_, '|| Prefix = ' + token.prefix_) #stop words = most frequent words. "
   ]
  },
  {
   "cell_type": "code",
   "execution_count": null,
   "id": "da9f4b3f-5097-4ee6-8d03-e61c928ee95a",
   "metadata": {},
   "outputs": [],
   "source": []
  }
 ],
 "metadata": {
  "kernelspec": {
   "display_name": "Python 3 (ipykernel)",
   "language": "python",
   "name": "python3"
  },
  "language_info": {
   "codemirror_mode": {
    "name": "ipython",
    "version": 3
   },
   "file_extension": ".py",
   "mimetype": "text/x-python",
   "name": "python",
   "nbconvert_exporter": "python",
   "pygments_lexer": "ipython3",
   "version": "3.12.7"
  }
 },
 "nbformat": 4,
 "nbformat_minor": 5
}
