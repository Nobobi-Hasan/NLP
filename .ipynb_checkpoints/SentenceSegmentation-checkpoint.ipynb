{
 "cells": [
  {
   "cell_type": "code",
   "execution_count": 1,
   "id": "356e9aee-8d75-40c0-b286-e30e7a7079c9",
   "metadata": {},
   "outputs": [],
   "source": [
    "import spacy"
   ]
  },
  {
   "cell_type": "code",
   "execution_count": 2,
   "id": "0482f310-89cf-47c9-a312-be67ae36dcab",
   "metadata": {},
   "outputs": [],
   "source": [
    "nlp = spacy.load('en_core_web_sm')"
   ]
  },
  {
   "cell_type": "code",
   "execution_count": 3,
   "id": "ab280b53-b825-4e24-a2b0-5bbf5a4ac494",
   "metadata": {},
   "outputs": [
    {
     "name": "stdout",
     "output_type": "stream",
     "text": [
      "This is the first sentence.\n",
      "However, I am aiming for a Ph.D. in the US.\n",
      "And say, this is the second sentence.\n"
     ]
    }
   ],
   "source": [
    "txt = 'This is the first sentence. However, I am aiming for a Ph.D. in the US. And say, this is the second sentence.'\n",
    "proc = nlp(txt)\n",
    "\n",
    "for sentence in proc.sents:\n",
    "    print(sentence.sent)"
   ]
  },
  {
   "cell_type": "code",
   "execution_count": null,
   "id": "7bba2d0c-5823-4385-adb6-e574ceae0c85",
   "metadata": {},
   "outputs": [],
   "source": []
  }
 ],
 "metadata": {
  "kernelspec": {
   "display_name": "Python 3 (ipykernel)",
   "language": "python",
   "name": "python3"
  },
  "language_info": {
   "codemirror_mode": {
    "name": "ipython",
    "version": 3
   },
   "file_extension": ".py",
   "mimetype": "text/x-python",
   "name": "python",
   "nbconvert_exporter": "python",
   "pygments_lexer": "ipython3",
   "version": "3.12.7"
  }
 },
 "nbformat": 4,
 "nbformat_minor": 5
}
