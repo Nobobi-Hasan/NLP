{
 "cells": [
  {
   "cell_type": "code",
   "execution_count": 1,
   "id": "7dbb5acb-d324-497c-aab3-33727f480a4d",
   "metadata": {},
   "outputs": [],
   "source": []
  },
  {
   "cell_type": "code",
   "execution_count": 19,
   "id": "b3d405c1-ef5a-4817-9d6f-a05000325557",
   "metadata": {},
   "outputs": [],
   "source": [
    "# !pip install filelock\n",
    "# pip install --upgrade spacy\n",
    "# !pip install ipywidgets"
   ]
  },
  {
   "cell_type": "code",
   "execution_count": 20,
   "id": "539f8ce1-6121-4e6a-8a80-1f227178cc9a",
   "metadata": {},
   "outputs": [],
   "source": [
    "# !pip install regex\n",
    "# !pip install networkx\n",
    "# !pip install --upgrade transformers"
   ]
  },
  {
   "cell_type": "code",
   "execution_count": 37,
   "id": "72f887e6-2952-4150-a930-d30deaa30183",
   "metadata": {},
   "outputs": [],
   "source": [
    "# !pip install transformers -U\n",
    "# !pip install tokenizers==0.15.2\n",
    "# !pip install --upgrade transformers\n",
    "# !pip install transformers==4.36.0\n",
    "# !pip install --upgrade transformers tokenizers torch spacy"
   ]
  },
  {
   "cell_type": "code",
   "execution_count": 38,
   "id": "f666f589-b275-4fd0-85b9-ea8319369ae1",
   "metadata": {},
   "outputs": [],
   "source": [
    "import spacy\n",
    "import re\n",
    "nlp = spacy.load('en_core_web_sm')"
   ]
  },
  {
   "cell_type": "code",
   "execution_count": 39,
   "id": "d00e8422-f510-4578-bac6-f6ef91016f18",
   "metadata": {},
   "outputs": [],
   "source": [
    "doc = 'I always uh do the main um processing, I mean, the uh um data-processing.'"
   ]
  },
  {
   "cell_type": "code",
   "execution_count": 40,
   "id": "933033c0-7d48-4509-a9d2-8b85734ecf39",
   "metadata": {},
   "outputs": [],
   "source": [
    "stats = nlp(doc)"
   ]
  },
  {
   "cell_type": "code",
   "execution_count": 41,
   "id": "cc508f3b-97e9-48f1-902f-b77a11d53fb6",
   "metadata": {},
   "outputs": [
    {
     "name": "stdout",
     "output_type": "stream",
     "text": [
      "I\n",
      "always\n",
      "uh\n",
      "do\n",
      "the\n",
      "main\n",
      "um\n",
      "processing\n",
      ",\n",
      "I\n",
      "mean\n",
      ",\n",
      "the\n",
      "uh\n",
      "um\n",
      "data\n",
      "-\n",
      "processing\n",
      ".\n"
     ]
    }
   ],
   "source": [
    "for token in stats:\n",
    "    print(token.text)"
   ]
  },
  {
   "cell_type": "code",
   "execution_count": null,
   "id": "7b7fc2e5-575c-49a8-bfe3-c3b7e109a3d9",
   "metadata": {},
   "outputs": [],
   "source": []
  }
 ],
 "metadata": {
  "kernelspec": {
   "display_name": "Python 3 (ipykernel)",
   "language": "python",
   "name": "python3"
  },
  "language_info": {
   "codemirror_mode": {
    "name": "ipython",
    "version": 3
   },
   "file_extension": ".py",
   "mimetype": "text/x-python",
   "name": "python",
   "nbconvert_exporter": "python",
   "pygments_lexer": "ipython3",
   "version": "3.12.7"
  }
 },
 "nbformat": 4,
 "nbformat_minor": 5
}
