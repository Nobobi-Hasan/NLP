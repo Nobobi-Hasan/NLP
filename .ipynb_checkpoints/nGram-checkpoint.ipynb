{
 "cells": [
  {
   "cell_type": "code",
   "execution_count": 1,
   "id": "4be1fd63-fc51-49a4-969a-3124394178b2",
   "metadata": {},
   "outputs": [],
   "source": [
    "import spacy\n",
    "import numpy as np\n",
    "import re\n",
    "\n",
    "nlp = spacy.load('en_core_web_sm')"
   ]
  },
  {
   "cell_type": "code",
   "execution_count": 28,
   "id": "4fe52247-6387-421d-99b6-febe211c08c3",
   "metadata": {},
   "outputs": [],
   "source": [
    "def nGrams(doc, n, isTokenized):\n",
    "    if not isTokenized:\n",
    "        doc = [token.text for token in nlp(doc)]\n",
    "\n",
    "    doc = ' '.join(doc).lower().split(' ')\n",
    "    grams = [doc[i:i+n] for i in range(len(doc)-n+1)]\n",
    "    print (doc)\n",
    "    return grams"
   ]
  },
  {
   "cell_type": "code",
   "execution_count": 31,
   "id": "59ab760d-ba3c-4382-89d6-4af44116a680",
   "metadata": {},
   "outputs": [
    {
     "name": "stdout",
     "output_type": "stream",
     "text": [
      "['how', 'are', 'you', 'today']\n"
     ]
    },
    {
     "data": {
      "text/plain": [
       "[['how', 'are', 'you'], ['are', 'you', 'today']]"
      ]
     },
     "execution_count": 31,
     "metadata": {},
     "output_type": "execute_result"
    }
   ],
   "source": [
    "doc = 'How are you today'\n",
    "# doc = ['How', 'are', 'you', 'today']\n",
    "k = 3\n",
    "grams = nGrams(doc, k, False)\n",
    "grams"
   ]
  },
  {
   "cell_type": "code",
   "execution_count": null,
   "id": "0ea9a7dd-c922-4c95-8b8a-27aa6264af42",
   "metadata": {},
   "outputs": [],
   "source": []
  }
 ],
 "metadata": {
  "kernelspec": {
   "display_name": "Python 3 (ipykernel)",
   "language": "python",
   "name": "python3"
  },
  "language_info": {
   "codemirror_mode": {
    "name": "ipython",
    "version": 3
   },
   "file_extension": ".py",
   "mimetype": "text/x-python",
   "name": "python",
   "nbconvert_exporter": "python",
   "pygments_lexer": "ipython3",
   "version": "3.12.7"
  }
 },
 "nbformat": 4,
 "nbformat_minor": 5
}
