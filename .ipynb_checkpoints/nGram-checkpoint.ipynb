{
 "cells": [
  {
   "cell_type": "code",
   "execution_count": 1,
   "id": "4be1fd63-fc51-49a4-969a-3124394178b2",
   "metadata": {},
   "outputs": [],
   "source": [
    "import spacy\n",
    "import numpy as np\n",
    "import re\n",
    "\n",
    "nlp = spacy.load('en_core_web_sm')"
   ]
  },
  {
   "cell_type": "code",
   "execution_count": 28,
   "id": "4fe52247-6387-421d-99b6-febe211c08c3",
   "metadata": {},
   "outputs": [],
   "source": [
    "def nGrams(doc, n, isTokenized):\n",
    "    if not isTokenized:\n",
    "        doc = [token.text for token in nlp(doc)]\n",
    "\n",
    "    doc = ' '.join(doc).lower().split(' ')\n",
    "    grams = [doc[i:i+n] for i in range(len(doc)-n+1)]\n",
    "    print (doc)\n",
    "    return grams"
   ]
  },
  {
   "cell_type": "code",
   "execution_count": 46,
   "id": "59ab760d-ba3c-4382-89d6-4af44116a680",
   "metadata": {},
   "outputs": [
    {
     "name": "stdout",
     "output_type": "stream",
     "text": [
      "['how', 'old', 'are', 'you', 'today', 'or', 'can', 'you', 'tell', 'me', 'something', 'about', 'yourself']\n"
     ]
    },
    {
     "data": {
      "text/plain": [
       "[['how', 'old', 'are', 'you', 'today'],\n",
       " ['old', 'are', 'you', 'today', 'or'],\n",
       " ['are', 'you', 'today', 'or', 'can'],\n",
       " ['you', 'today', 'or', 'can', 'you'],\n",
       " ['today', 'or', 'can', 'you', 'tell'],\n",
       " ['or', 'can', 'you', 'tell', 'me'],\n",
       " ['can', 'you', 'tell', 'me', 'something'],\n",
       " ['you', 'tell', 'me', 'something', 'about'],\n",
       " ['tell', 'me', 'something', 'about', 'yourself']]"
      ]
     },
     "execution_count": 46,
     "metadata": {},
     "output_type": "execute_result"
    }
   ],
   "source": [
    "doc = 'How old are you today or can you tell me something about yourself'\n",
    "# doc = ['How', 'old', 'are', 'you', 'today']\n",
    "n = 5\n",
    "grams = nGrams(doc, n, False)\n",
    "grams"
   ]
  },
  {
   "cell_type": "code",
   "execution_count": 50,
   "id": "0ea9a7dd-c922-4c95-8b8a-27aa6264af42",
   "metadata": {},
   "outputs": [],
   "source": [
    "from collections import defaultdict"
   ]
  },
  {
   "cell_type": "code",
   "execution_count": 51,
   "id": "99e96fba-b420-48d7-b1b2-b9f873e3f79f",
   "metadata": {},
   "outputs": [],
   "source": [
    "def buildModel():\n",
    "    model = defaultdict(lambda: defaultdict(lambda: 0))\n",
    "    return model"
   ]
  },
  {
   "cell_type": "code",
   "execution_count": 57,
   "id": "c7a3b65c-a34b-4520-b04d-0aaf7e6c4ed7",
   "metadata": {},
   "outputs": [],
   "source": [
    "def updateCount(nGram, model):\n",
    "    w_1_to_n_minus_1 = tuple(nGram[:1])\n",
    "    w_n = nGram[-1]\n",
    "    model[w_1_to_n_minus_1][w_n] += 1\n",
    "    return model"
   ]
  },
  {
   "cell_type": "code",
   "execution_count": null,
   "id": "60cc78fc-5e3b-4ba8-92d8-2bdea8606b3c",
   "metadata": {},
   "outputs": [],
   "source": []
  }
 ],
 "metadata": {
  "kernelspec": {
   "display_name": "Python 3 (ipykernel)",
   "language": "python",
   "name": "python3"
  },
  "language_info": {
   "codemirror_mode": {
    "name": "ipython",
    "version": 3
   },
   "file_extension": ".py",
   "mimetype": "text/x-python",
   "name": "python",
   "nbconvert_exporter": "python",
   "pygments_lexer": "ipython3",
   "version": "3.12.7"
  }
 },
 "nbformat": 4,
 "nbformat_minor": 5
}
