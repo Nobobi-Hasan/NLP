{
 "cells": [
  {
   "cell_type": "code",
   "execution_count": 1,
   "id": "21b1d88c-5834-44b4-9b5e-3bde270be165",
   "metadata": {},
   "outputs": [],
   "source": [
    "import spacy"
   ]
  },
  {
   "cell_type": "code",
   "execution_count": 2,
   "id": "ade8fa37-2f46-45e8-87f1-051a2c46d5ae",
   "metadata": {},
   "outputs": [],
   "source": [
    "nlp = spacy.load('en_core_web_sm')"
   ]
  },
  {
   "cell_type": "code",
   "execution_count": 3,
   "id": "6cb4e9e1-2e0e-450e-ad0d-bbfc8db38307",
   "metadata": {},
   "outputs": [],
   "source": [
    "import numpy as np"
   ]
  },
  {
   "cell_type": "code",
   "execution_count": 4,
   "id": "70cb85e2-26f4-4ebe-9169-253d5e8406cc",
   "metadata": {},
   "outputs": [],
   "source": [
    "def computeMED(str1, str2, insCost=1, delCost=1, subCost=2):\n",
    "    M = len(str1)+1\n",
    "    N = len(str2)+1\n",
    "    D = np.zeros((M,N))\n",
    "\n",
    "    for i in range(M):\n",
    "        D[i,0] = i*delCost\n",
    "    for j in range(N):\n",
    "        D[0,j] = j*insCost\n",
    "\n",
    "    for i in range(1, M):\n",
    "        for j in range(1, N):\n",
    "            diag = subCost if str1[i-1]!=str2[j-1] else 0\n",
    "            D[i,j] = min(D[i-1,j]+delCost, D[i,j-1]+insCost, D[i-1,j-1]+diag)\n",
    "    print(D)\n",
    "    print('MED = ', D[M-1,N-1])\n",
    "    "
   ]
  },
  {
   "cell_type": "code",
   "execution_count": 5,
   "id": "1f620785-cf27-4ac0-b7ae-78084b1701bb",
   "metadata": {},
   "outputs": [
    {
     "name": "stdout",
     "output_type": "stream",
     "text": [
      "[[ 0.  1.  2.  3.  4.  5.  6.  7.  8.  9.]\n",
      " [ 1.  2.  3.  4.  5.  6.  7.  6.  7.  8.]\n",
      " [ 2.  3.  4.  5.  6.  7.  8.  7.  8.  7.]\n",
      " [ 3.  4.  5.  6.  7.  8.  7.  8.  9.  8.]\n",
      " [ 4.  3.  4.  5.  6.  7.  8.  9. 10.  9.]\n",
      " [ 5.  4.  5.  6.  7.  8.  9. 10. 11. 10.]\n",
      " [ 6.  5.  6.  7.  8.  9.  8.  9. 10. 11.]\n",
      " [ 7.  6.  7.  8.  9. 10.  9.  8.  9. 10.]\n",
      " [ 8.  7.  8.  9. 10. 11. 10.  9.  8.  9.]\n",
      " [ 9.  8.  9. 10. 11. 12. 11. 10.  9.  8.]]\n",
      "MED =  8.0\n"
     ]
    }
   ],
   "source": [
    "computeMED('INTENTION', 'EXECUTION')"
   ]
  },
  {
   "cell_type": "code",
   "execution_count": null,
   "id": "c48e19a9-c89e-4e30-9026-4a4fb63639a3",
   "metadata": {},
   "outputs": [],
   "source": []
  }
 ],
 "metadata": {
  "kernelspec": {
   "display_name": "Python 3 (ipykernel)",
   "language": "python",
   "name": "python3"
  },
  "language_info": {
   "codemirror_mode": {
    "name": "ipython",
    "version": 3
   },
   "file_extension": ".py",
   "mimetype": "text/x-python",
   "name": "python",
   "nbconvert_exporter": "python",
   "pygments_lexer": "ipython3",
   "version": "3.12.7"
  }
 },
 "nbformat": 4,
 "nbformat_minor": 5
}
