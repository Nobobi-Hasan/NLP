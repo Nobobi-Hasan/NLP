{
 "cells": [
  {
   "cell_type": "code",
   "execution_count": 1,
   "id": "4be1fd63-fc51-49a4-969a-3124394178b2",
   "metadata": {},
   "outputs": [],
   "source": [
    "import spacy\n",
    "import numpy as np\n",
    "import re\n",
    "\n",
    "nlp = spacy.load('en_core_web_sm')"
   ]
  },
  {
   "cell_type": "code",
   "execution_count": 2,
   "id": "4fe52247-6387-421d-99b6-febe211c08c3",
   "metadata": {},
   "outputs": [],
   "source": [
    "def nGrams(doc, n, isTokenized):\n",
    "    if not isTokenized:\n",
    "        doc = [token.text for token in nlp(doc)]\n",
    "\n",
    "    doc = ' '.join(doc).lower().split(' ') #convert all to lowercase\n",
    "    grams = [doc[i:i+n] for i in range(len(doc)-n+1)]\n",
    "    # print (doc)\n",
    "    return grams"
   ]
  },
  {
   "cell_type": "code",
   "execution_count": 3,
   "id": "59ab760d-ba3c-4382-89d6-4af44116a680",
   "metadata": {},
   "outputs": [
    {
     "data": {
      "text/plain": [
       "[['how', 'old', 'are', 'you'],\n",
       " ['old', 'are', 'you', 'today'],\n",
       " ['are', 'you', 'today', 'or'],\n",
       " ['you', 'today', 'or', 'can'],\n",
       " ['today', 'or', 'can', 'you'],\n",
       " ['or', 'can', 'you', 'tell'],\n",
       " ['can', 'you', 'tell', 'me'],\n",
       " ['you', 'tell', 'me', 'something'],\n",
       " ['tell', 'me', 'something', 'about'],\n",
       " ['me', 'something', 'about', 'yourself']]"
      ]
     },
     "execution_count": 3,
     "metadata": {},
     "output_type": "execute_result"
    }
   ],
   "source": [
    "doc = 'How old are you today or can you tell me something about yourself'\n",
    "# doc = ['How', 'old', 'are', 'you', 'today']\n",
    "n = 4\n",
    "grams = nGrams(doc, n, False)\n",
    "grams"
   ]
  },
  {
   "cell_type": "code",
   "execution_count": 4,
   "id": "0ea9a7dd-c922-4c95-8b8a-27aa6264af42",
   "metadata": {},
   "outputs": [],
   "source": [
    "from collections import defaultdict"
   ]
  },
  {
   "cell_type": "code",
   "execution_count": 5,
   "id": "99e96fba-b420-48d7-b1b2-b9f873e3f79f",
   "metadata": {},
   "outputs": [],
   "source": [
    "def buildModel():\n",
    "    model = defaultdict(lambda: defaultdict(lambda: 0)) #eg. {x: {y: 0}}\n",
    "    return model"
   ]
  },
  {
   "cell_type": "code",
   "execution_count": 6,
   "id": "c7a3b65c-a34b-4520-b04d-0aaf7e6c4ed7",
   "metadata": {},
   "outputs": [],
   "source": [
    "def updateCount(nGram, model):\n",
    "    w_1_to_n_minus_1 = tuple(nGram[:-1])\n",
    "    w_n = nGram[-1]\n",
    "    model[w_1_to_n_minus_1][w_n] += 1 #eg. {w_1_to_n_minus_1: {w_n: 1}}\n",
    "    return model"
   ]
  },
  {
   "cell_type": "code",
   "execution_count": 7,
   "id": "60cc78fc-5e3b-4ba8-92d8-2bdea8606b3c",
   "metadata": {},
   "outputs": [],
   "source": [
    "def computeProbability(model):\n",
    "    for w_1_to_n_minus_1 in model:\n",
    "        totalCount = float(sum(model[w_1_to_n_minus_1].values()))\n",
    "        for w_n in model[w_1_to_n_minus_1]:\n",
    "            model[w_1_to_n_minus_1][w_n] /= totalCount\n",
    "    return model"
   ]
  },
  {
   "cell_type": "code",
   "execution_count": 8,
   "id": "a05e3bfe-b53e-4fd7-a762-c9c0622041e5",
   "metadata": {},
   "outputs": [],
   "source": [
    "# !pip install dill #extention of pickle\n",
    "import dill"
   ]
  },
  {
   "cell_type": "code",
   "execution_count": 28,
   "id": "c5fcf7ae-4a65-4b9d-bd0c-4e5ed2f467cb",
   "metadata": {},
   "outputs": [],
   "source": [
    "def saveModel(model, fileName):\n",
    "    with open('../Models/'+fileName, 'wb') as f:\n",
    "        dill.dump(model, f)\n",
    "\n",
    "def loadModel(fileName):\n",
    "    with open(fileName, 'rb') as f:\n",
    "        model = dill.load(f)\n",
    "    return model"
   ]
  },
  {
   "cell_type": "code",
   "execution_count": 22,
   "id": "fb0b971c-ec91-4975-abdc-3dbdad94c2c1",
   "metadata": {},
   "outputs": [],
   "source": [
    "d1 = ['My name is Shatin', 'What is your name']\n",
    "d2 = ['My name is Arosh', 'What is your age']"
   ]
  },
  {
   "cell_type": "code",
   "execution_count": 23,
   "id": "1d0e7d89-054d-4417-8078-992e26bb5c33",
   "metadata": {},
   "outputs": [],
   "source": [
    "n = 3\n",
    "model = buildModel()"
   ]
  },
  {
   "cell_type": "code",
   "execution_count": 24,
   "id": "d0271cf0-383c-48ac-8295-03f6d836297f",
   "metadata": {
    "scrolled": true
   },
   "outputs": [],
   "source": [
    "for doc in d1:\n",
    "    for nGram in nGrams(doc, n, False):\n",
    "        model = updateCount(nGram, model)"
   ]
  },
  {
   "cell_type": "code",
   "execution_count": 25,
   "id": "5eb605b9-5feb-426e-8b3f-22b5b5a0bcba",
   "metadata": {
    "scrolled": true
   },
   "outputs": [],
   "source": [
    "for doc in d2:\n",
    "    for nGram in nGrams(doc, n, False):\n",
    "        model = updateCount(nGram, model)"
   ]
  },
  {
   "cell_type": "code",
   "execution_count": 26,
   "id": "5a3772cf-4e84-4df3-b837-6e244da953f6",
   "metadata": {},
   "outputs": [],
   "source": [
    "model = computeProbability(model)"
   ]
  },
  {
   "cell_type": "code",
   "execution_count": 33,
   "id": "40d4e883-999c-4aa0-b30d-880073fe03d9",
   "metadata": {},
   "outputs": [],
   "source": [
    "saveModel(model, 'test_model.pkl')"
   ]
  },
  {
   "cell_type": "code",
   "execution_count": 16,
   "id": "b2a77503-97dd-43bb-a75c-a40e635cce0c",
   "metadata": {},
   "outputs": [
    {
     "data": {
      "text/plain": [
       "defaultdict(<function __main__.buildModel.<locals>.<lambda>()>,\n",
       "            {('my',\n",
       "              'name'): defaultdict(<function __main__.buildModel.<locals>.<lambda>.<locals>.<lambda>()>,\n",
       "                         {'is': 1.0}),\n",
       "             ('name',\n",
       "              'is'): defaultdict(<function __main__.buildModel.<locals>.<lambda>.<locals>.<lambda>()>,\n",
       "                         {'shatin': 0.5, 'arosh': 0.5}),\n",
       "             ('what',\n",
       "              'is'): defaultdict(<function __main__.buildModel.<locals>.<lambda>.<locals>.<lambda>()>,\n",
       "                         {'your': 1.0}),\n",
       "             ('is',\n",
       "              'your'): defaultdict(<function __main__.buildModel.<locals>.<lambda>.<locals>.<lambda>()>,\n",
       "                         {'name': 0.5, 'age': 0.5})})"
      ]
     },
     "execution_count": 16,
     "metadata": {},
     "output_type": "execute_result"
    }
   ],
   "source": [
    "model"
   ]
  },
  {
   "cell_type": "code",
   "execution_count": 17,
   "id": "f56ca3eb-81bb-45aa-ac18-1ca688ec61ae",
   "metadata": {},
   "outputs": [],
   "source": [
    "text = ['what','is']\n",
    "nextWord = list(model[tuple(text[-n+1:])].keys())\n",
    "probs = list(model[tuple(text[-n+1:])].values())"
   ]
  },
  {
   "cell_type": "code",
   "execution_count": 18,
   "id": "b4a5a283-b536-4254-bac6-946320242c66",
   "metadata": {},
   "outputs": [
    {
     "data": {
      "text/plain": [
       "['your']"
      ]
     },
     "execution_count": 18,
     "metadata": {},
     "output_type": "execute_result"
    }
   ],
   "source": [
    "nextWord"
   ]
  }
 ],
 "metadata": {
  "kernelspec": {
   "display_name": "Python 3 (ipykernel)",
   "language": "python",
   "name": "python3"
  },
  "language_info": {
   "codemirror_mode": {
    "name": "ipython",
    "version": 3
   },
   "file_extension": ".py",
   "mimetype": "text/x-python",
   "name": "python",
   "nbconvert_exporter": "python",
   "pygments_lexer": "ipython3",
   "version": "3.12.7"
  }
 },
 "nbformat": 4,
 "nbformat_minor": 5
}
