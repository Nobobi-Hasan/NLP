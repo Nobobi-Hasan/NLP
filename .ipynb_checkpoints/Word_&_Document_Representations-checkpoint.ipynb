{
 "cells": [
  {
   "cell_type": "code",
   "execution_count": 1,
   "id": "b0ac6b3a-60d0-423a-abd5-1962673f9e6d",
   "metadata": {},
   "outputs": [],
   "source": [
    "import spacy\n",
    "import numpy as np\n",
    "nlp = spacy.load('en_core_web_sm')"
   ]
  },
  {
   "cell_type": "code",
   "execution_count": 2,
   "id": "a216c744-f063-45eb-b15a-5374b251c19d",
   "metadata": {},
   "outputs": [],
   "source": [
    "L = list(nlp.vocab.strings)"
   ]
  },
  {
   "cell_type": "code",
   "execution_count": 3,
   "id": "3930f927-791f-4cc0-adf6-f7119e91a87b",
   "metadata": {},
   "outputs": [
    {
     "name": "stdout",
     "output_type": "stream",
     "text": [
      "84780\n"
     ]
    }
   ],
   "source": [
    "numWords = len(L)\n",
    "print(numWords)"
   ]
  },
  {
   "cell_type": "code",
   "execution_count": 4,
   "id": "a613dbdb-f26b-444c-8b7e-878b3c646016",
   "metadata": {},
   "outputs": [],
   "source": [
    "W2I = dict(zip(L, np.arange(numWords)))\n",
    "I2W = dict(zip(np.arange(numWords), L))"
   ]
  },
  {
   "cell_type": "code",
   "execution_count": 5,
   "id": "3ccb7e5b-0450-4d30-9b2c-258c91e25c68",
   "metadata": {},
   "outputs": [
    {
     "data": {
      "text/plain": [
       "np.int64(49865)"
      ]
     },
     "execution_count": 5,
     "metadata": {},
     "output_type": "execute_result"
    }
   ],
   "source": [
    "W2I['game']"
   ]
  },
  {
   "cell_type": "code",
   "execution_count": 28,
   "id": "846ee2d8-a61d-4c4a-be9a-898d15d3bde8",
   "metadata": {},
   "outputs": [
    {
     "data": {
      "text/plain": [
       "'game'"
      ]
     },
     "execution_count": 28,
     "metadata": {},
     "output_type": "execute_result"
    }
   ],
   "source": [
    "I2W[49865]"
   ]
  },
  {
   "cell_type": "code",
   "execution_count": 49,
   "id": "43847480-9917-46e5-8f2a-d3134fc60a02",
   "metadata": {},
   "outputs": [
    {
     "data": {
      "text/plain": [
       "'￥dd'"
      ]
     },
     "execution_count": 49,
     "metadata": {},
     "output_type": "execute_result"
    }
   ],
   "source": [
    "I2W[84779]"
   ]
  },
  {
   "cell_type": "markdown",
   "id": "119fbfca-fb73-4c54-9f98-6b9ad75ed700",
   "metadata": {},
   "source": [
    "# One Hot Encoding"
   ]
  },
  {
   "cell_type": "code",
   "execution_count": 8,
   "id": "79247890-d91d-4bdf-80ae-7612ba7c2f3f",
   "metadata": {},
   "outputs": [],
   "source": [
    "def oneHotVector(word, W2I, numWords):\n",
    "    v = np.zeros(numWords)\n",
    "    v[W2I[word]] = 1\n",
    "    return v"
   ]
  },
  {
   "cell_type": "code",
   "execution_count": 21,
   "id": "0c6ea2cc-c1ec-4ac2-a60f-55ff579627be",
   "metadata": {},
   "outputs": [
    {
     "data": {
      "text/plain": [
       "array([0., 0., 0., ..., 0., 0., 0.], shape=(84780,))"
      ]
     },
     "execution_count": 21,
     "metadata": {},
     "output_type": "execute_result"
    }
   ],
   "source": [
    "v = oneHotVector('game', W2I, numWords)"
   ]
  },
  {
   "cell_type": "code",
   "execution_count": 10,
   "id": "d4a870fa-7e26-4e1a-9157-2d8c5cc0a7d0",
   "metadata": {},
   "outputs": [
    {
     "data": {
      "text/plain": [
       "(84780,)"
      ]
     },
     "execution_count": 10,
     "metadata": {},
     "output_type": "execute_result"
    }
   ],
   "source": [
    "v.shape"
   ]
  },
  {
   "cell_type": "code",
   "execution_count": 11,
   "id": "82a7d0ed-d9e0-420f-a112-b4fdb253748b",
   "metadata": {},
   "outputs": [
    {
     "data": {
      "text/plain": [
       "np.float64(1.0)"
      ]
     },
     "execution_count": 11,
     "metadata": {},
     "output_type": "execute_result"
    }
   ],
   "source": [
    "v[W2I['game']]"
   ]
  },
  {
   "cell_type": "markdown",
   "id": "211aec24-8cfa-48c2-9415-1f91c6fb3e4a",
   "metadata": {},
   "source": [
    "## Term Frequency"
   ]
  },
  {
   "cell_type": "code",
   "execution_count": 50,
   "id": "422dcbad-2f96-47d7-a188-702a1958e1fd",
   "metadata": {},
   "outputs": [],
   "source": [
    "doc = 'How are you today. I know most of ￥28 ￥dd the time how you feel. ￥28 ￥28 ￥dd' #￥28 is the 3rd last number\n",
    "tokens = [token.text for token in nlp(doc)]"
   ]
  },
  {
   "cell_type": "code",
   "execution_count": 51,
   "id": "6434ce4b-4bba-494e-b620-c51d341ce500",
   "metadata": {},
   "outputs": [],
   "source": [
    "v = np.zeros(numWords)\n",
    "for token in tokens:\n",
    "    v += oneHotVector(token,W2I,numWords)"
   ]
  },
  {
   "cell_type": "code",
   "execution_count": 52,
   "id": "2f2d1d28-4585-47fe-b79c-c28df17a1e54",
   "metadata": {},
   "outputs": [
    {
     "data": {
      "text/plain": [
       "array([0., 0., 0., ..., 0., 3., 2.], shape=(84780,))"
      ]
     },
     "execution_count": 52,
     "metadata": {},
     "output_type": "execute_result"
    }
   ],
   "source": [
    "v"
   ]
  },
  {
   "cell_type": "code",
   "execution_count": null,
   "id": "1e392bbd-a1c9-487e-9e9f-32b44fb79737",
   "metadata": {},
   "outputs": [],
   "source": []
  }
 ],
 "metadata": {
  "kernelspec": {
   "display_name": "Python 3 (ipykernel)",
   "language": "python",
   "name": "python3"
  },
  "language_info": {
   "codemirror_mode": {
    "name": "ipython",
    "version": 3
   },
   "file_extension": ".py",
   "mimetype": "text/x-python",
   "name": "python",
   "nbconvert_exporter": "python",
   "pygments_lexer": "ipython3",
   "version": "3.12.7"
  }
 },
 "nbformat": 4,
 "nbformat_minor": 5
}
