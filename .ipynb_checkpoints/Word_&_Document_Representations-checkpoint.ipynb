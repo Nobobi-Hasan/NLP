{
 "cells": [
  {
   "cell_type": "code",
   "execution_count": 1,
   "id": "b0ac6b3a-60d0-423a-abd5-1962673f9e6d",
   "metadata": {},
   "outputs": [],
   "source": [
    "import spacy\n",
    "import numpy as np\n",
    "nlp = spacy.load('en_core_web_sm')"
   ]
  },
  {
   "cell_type": "code",
   "execution_count": 2,
   "id": "a216c744-f063-45eb-b15a-5374b251c19d",
   "metadata": {},
   "outputs": [],
   "source": [
    "L = list(nlp.vocab.strings)"
   ]
  },
  {
   "cell_type": "code",
   "execution_count": 3,
   "id": "3930f927-791f-4cc0-adf6-f7119e91a87b",
   "metadata": {},
   "outputs": [
    {
     "name": "stdout",
     "output_type": "stream",
     "text": [
      "84780\n"
     ]
    }
   ],
   "source": [
    "numWords = len(L)\n",
    "print(numWords)"
   ]
  },
  {
   "cell_type": "code",
   "execution_count": 4,
   "id": "a613dbdb-f26b-444c-8b7e-878b3c646016",
   "metadata": {},
   "outputs": [],
   "source": [
    "W2I = dict(zip(L, np.arange(numWords)))\n",
    "I2W = dict(zip(np.arange(numWords), L))"
   ]
  },
  {
   "cell_type": "code",
   "execution_count": 5,
   "id": "3ccb7e5b-0450-4d30-9b2c-258c91e25c68",
   "metadata": {},
   "outputs": [
    {
     "data": {
      "text/plain": [
       "np.int64(49865)"
      ]
     },
     "execution_count": 5,
     "metadata": {},
     "output_type": "execute_result"
    }
   ],
   "source": [
    "W2I['game']"
   ]
  },
  {
   "cell_type": "code",
   "execution_count": 6,
   "id": "846ee2d8-a61d-4c4a-be9a-898d15d3bde8",
   "metadata": {},
   "outputs": [
    {
     "data": {
      "text/plain": [
       "'game'"
      ]
     },
     "execution_count": 6,
     "metadata": {},
     "output_type": "execute_result"
    }
   ],
   "source": [
    "I2W[49865]"
   ]
  },
  {
   "cell_type": "code",
   "execution_count": 7,
   "id": "43847480-9917-46e5-8f2a-d3134fc60a02",
   "metadata": {},
   "outputs": [
    {
     "data": {
      "text/plain": [
       "'￥dd'"
      ]
     },
     "execution_count": 7,
     "metadata": {},
     "output_type": "execute_result"
    }
   ],
   "source": [
    "I2W[84779]"
   ]
  },
  {
   "cell_type": "markdown",
   "id": "119fbfca-fb73-4c54-9f98-6b9ad75ed700",
   "metadata": {},
   "source": [
    "# One Hot Encoding"
   ]
  },
  {
   "cell_type": "code",
   "execution_count": 8,
   "id": "79247890-d91d-4bdf-80ae-7612ba7c2f3f",
   "metadata": {},
   "outputs": [],
   "source": [
    "def oneHotVector(word, W2I, numWords):\n",
    "    v = np.zeros(numWords)\n",
    "    if word in W2I:\n",
    "        v[W2I[word]] = 1\n",
    "    return v"
   ]
  },
  {
   "cell_type": "code",
   "execution_count": 9,
   "id": "0c6ea2cc-c1ec-4ac2-a60f-55ff579627be",
   "metadata": {},
   "outputs": [],
   "source": [
    "v = oneHotVector('game', W2I, numWords)"
   ]
  },
  {
   "cell_type": "code",
   "execution_count": 10,
   "id": "d4a870fa-7e26-4e1a-9157-2d8c5cc0a7d0",
   "metadata": {},
   "outputs": [
    {
     "data": {
      "text/plain": [
       "(84780,)"
      ]
     },
     "execution_count": 10,
     "metadata": {},
     "output_type": "execute_result"
    }
   ],
   "source": [
    "v.shape"
   ]
  },
  {
   "cell_type": "code",
   "execution_count": 11,
   "id": "82a7d0ed-d9e0-420f-a112-b4fdb253748b",
   "metadata": {},
   "outputs": [
    {
     "data": {
      "text/plain": [
       "np.float64(1.0)"
      ]
     },
     "execution_count": 11,
     "metadata": {},
     "output_type": "execute_result"
    }
   ],
   "source": [
    "v[W2I['game']]"
   ]
  },
  {
   "cell_type": "markdown",
   "id": "211aec24-8cfa-48c2-9415-1f91c6fb3e4a",
   "metadata": {},
   "source": [
    "## Term Frequency (TF)"
   ]
  },
  {
   "cell_type": "code",
   "execution_count": 12,
   "id": "422dcbad-2f96-47d7-a188-702a1958e1fd",
   "metadata": {},
   "outputs": [],
   "source": [
    "doc = 'How are you today. I know most of ￥28 ￥dd the time how you feel. ￥28 ￥28 ￥dd' #￥28 is the 3rd last number\n",
    "tokens = [token.text for token in nlp(doc)]"
   ]
  },
  {
   "cell_type": "code",
   "execution_count": 13,
   "id": "6434ce4b-4bba-494e-b620-c51d341ce500",
   "metadata": {},
   "outputs": [],
   "source": [
    "v = np.zeros(numWords)\n",
    "for token in tokens:\n",
    "    v += oneHotVector(token,W2I,numWords)"
   ]
  },
  {
   "cell_type": "code",
   "execution_count": 14,
   "id": "2f2d1d28-4585-47fe-b79c-c28df17a1e54",
   "metadata": {},
   "outputs": [
    {
     "data": {
      "text/plain": [
       "array([0., 0., 0., ..., 0., 3., 2.], shape=(84780,))"
      ]
     },
     "execution_count": 14,
     "metadata": {},
     "output_type": "execute_result"
    }
   ],
   "source": [
    "v"
   ]
  },
  {
   "cell_type": "markdown",
   "id": "2297fe5e-e506-4ce4-9202-a2bf7c2d2587",
   "metadata": {},
   "source": [
    "## TFIDF"
   ]
  },
  {
   "cell_type": "code",
   "execution_count": 15,
   "id": "7c5f0ecb-744b-4f10-b764-8e301b426f8f",
   "metadata": {},
   "outputs": [],
   "source": [
    "from sklearn.datasets import fetch_20newsgroups as getData"
   ]
  },
  {
   "cell_type": "code",
   "execution_count": 16,
   "id": "10c7ca2a-91c6-4fc4-b085-a4448e68cdbe",
   "metadata": {},
   "outputs": [],
   "source": [
    "corpus = getData(subset='train',remove=('headers','footers','qoutes'))"
   ]
  },
  {
   "cell_type": "code",
   "execution_count": 17,
   "id": "8c28f7e6-36b5-40c0-9382-a1eb931006fe",
   "metadata": {},
   "outputs": [],
   "source": [
    "docs = corpus.data"
   ]
  },
  {
   "cell_type": "code",
   "execution_count": 18,
   "id": "2dc13957-50e5-405b-8c40-c022dc55d177",
   "metadata": {},
   "outputs": [
    {
     "data": {
      "text/plain": [
       "11314"
      ]
     },
     "execution_count": 18,
     "metadata": {},
     "output_type": "execute_result"
    }
   ],
   "source": [
    "len(docs)"
   ]
  },
  {
   "cell_type": "code",
   "execution_count": 19,
   "id": "2640a3fa-d24e-4894-8f9d-0624c17caa7a",
   "metadata": {},
   "outputs": [
    {
     "data": {
      "text/plain": [
       "'I was wondering if anyone out there could enlighten me on this car I saw\\nthe other day. It was a 2-door sports car, looked to be from the late 60s/\\nearly 70s. It was called a Bricklin. The doors were really small. In addition,\\nthe front bumper was separate from the rest of the body. This is \\nall I know. If anyone can tellme a model name, engine specs, years\\nof production, where this car is made, history, or whatever info you\\nhave on this funky looking car, please e-mail.'"
      ]
     },
     "execution_count": 19,
     "metadata": {},
     "output_type": "execute_result"
    }
   ],
   "source": [
    "docs[0]"
   ]
  },
  {
   "cell_type": "code",
   "execution_count": 20,
   "id": "2cd3748b-3a01-4fe7-9552-c3b8842a69df",
   "metadata": {},
   "outputs": [],
   "source": [
    "df = np.zeros(numWords)\n",
    "\n",
    "for term in L:\n",
    "    dft = 0\n",
    "    # for doc in docs[:100]:  #100 docs for testing only(full docs(11314) takes much time)\n",
    "    for doc in docs:\n",
    "        if term in doc:\n",
    "            dft += 1\n",
    "    df[W2I[term]] = dft"
   ]
  },
  {
   "cell_type": "code",
   "execution_count": 21,
   "id": "30a38f35-70a6-4e26-a5c9-6df8d2ad4740",
   "metadata": {},
   "outputs": [
    {
     "data": {
      "text/plain": [
       "array([2243.,  873.,    0., ...,    0.,    0.,    0.], shape=(84780,))"
      ]
     },
     "execution_count": 21,
     "metadata": {},
     "output_type": "execute_result"
    }
   ],
   "source": [
    "df"
   ]
  },
  {
   "cell_type": "code",
   "execution_count": 22,
   "id": "5ce1f8d1-6066-4f1c-a5b2-bb9ad64ca505",
   "metadata": {},
   "outputs": [
    {
     "data": {
      "text/plain": [
       "11314"
      ]
     },
     "execution_count": 22,
     "metadata": {},
     "output_type": "execute_result"
    }
   ],
   "source": [
    "N = len(docs)\n",
    "N"
   ]
  },
  {
   "cell_type": "code",
   "execution_count": 23,
   "id": "55ebc006-04c9-4390-854c-ea9577f027bc",
   "metadata": {},
   "outputs": [],
   "source": [
    "Idf = np.log10(N/(df+1)) #df+1 because some values are 0; so creates error"
   ]
  },
  {
   "cell_type": "code",
   "execution_count": 24,
   "id": "035540c9-03b0-4dc5-a837-02bb40777ba9",
   "metadata": {},
   "outputs": [],
   "source": [
    "doc = 'How are you today. I know most of the time how you feel.' #as above TF ^^\n",
    "v = np.zeros(numWords)\n",
    "\n",
    "for token in nlp(doc):\n",
    "    v += oneHotVector(token.text,W2I,numWords)\n",
    "\n",
    "# tokens = [token.text for token in nlp(doc)]\n",
    "# for token in tokens:\n",
    "#     v += oneHotVector(token,W2I,numWords)"
   ]
  },
  {
   "cell_type": "code",
   "execution_count": 25,
   "id": "9e10da24-c9fc-441f-99c5-34c7602f1ed6",
   "metadata": {},
   "outputs": [],
   "source": [
    "tf = np.log10(v+1)"
   ]
  },
  {
   "cell_type": "code",
   "execution_count": 26,
   "id": "acf09fb4-8d62-4b45-8e58-5e20ace5da99",
   "metadata": {},
   "outputs": [
    {
     "data": {
      "text/plain": [
       "array([0., 0., 0., ..., 0., 0., 0.], shape=(84780,))"
      ]
     },
     "execution_count": 26,
     "metadata": {},
     "output_type": "execute_result"
    }
   ],
   "source": [
    "tfidf = tf * Idf\n",
    "tfidf"
   ]
  },
  {
   "cell_type": "code",
   "execution_count": 27,
   "id": "3318409e-ee31-4f94-a4cd-0e6b7cdfeb70",
   "metadata": {},
   "outputs": [
    {
     "data": {
      "text/plain": [
       "np.int64(13)"
      ]
     },
     "execution_count": 27,
     "metadata": {},
     "output_type": "execute_result"
    }
   ],
   "source": [
    "np.sum(tfidf != 0)"
   ]
  },
  {
   "cell_type": "markdown",
   "id": "e0b009bd-54e8-4674-867d-45b8e2a863e4",
   "metadata": {},
   "source": [
    "## TFIDF using Scikit-learn"
   ]
  },
  {
   "cell_type": "code",
   "execution_count": 116,
   "id": "e33608e5-c5fa-428d-b6dc-2bbae40c119b",
   "metadata": {},
   "outputs": [],
   "source": [
    "from sklearn.datasets import fetch_20newsgroups as getData\n",
    "from sklearn.feature_extraction.text import CountVectorizer\n",
    "from sklearn.feature_extraction.text import TfidfTransformer\n",
    "from sklearn.naive_bayes import GaussianNB as NB"
   ]
  },
  {
   "cell_type": "code",
   "execution_count": 117,
   "id": "2f638d2e-0916-4eaa-90ae-1d7b80634099",
   "metadata": {},
   "outputs": [],
   "source": [
    "def loadCorpus():\n",
    "    corpus = getData(subset = 'train',\n",
    "                    remove=('header','footer','quotes'),\n",
    "                    categories=['sci.electronics',\n",
    "                                'rec.motorcycles',\n",
    "                               'comp.graphics',\n",
    "                               'talk.religion.misc',\n",
    "                               'talk.politics.guns'])\n",
    "    return corpus"
   ]
  },
  {
   "cell_type": "code",
   "execution_count": 118,
   "id": "3ef3a853-63c9-4eec-9af2-257964d44d30",
   "metadata": {},
   "outputs": [
    {
     "data": {
      "text/plain": [
       "['comp.graphics',\n",
       " 'rec.motorcycles',\n",
       " 'sci.electronics',\n",
       " 'talk.politics.guns',\n",
       " 'talk.religion.misc']"
      ]
     },
     "execution_count": 118,
     "metadata": {},
     "output_type": "execute_result"
    }
   ],
   "source": [
    "corpus = loadCorpus()\n",
    "corpus.target_names"
   ]
  },
  {
   "cell_type": "code",
   "execution_count": 119,
   "id": "5004a1df-de8f-4372-a704-e9f5f62096b3",
   "metadata": {},
   "outputs": [],
   "source": [
    "# def loadTFIDFModel(docs):\n",
    "#     cv = CountVectorizer()\n",
    "#     ct = cv.fit(docs)  #this is model for TF\n",
    "#     counts = ct.transform(docs)  ##this is TF\n",
    "#     tfidf = TfidfTransformer().fit(counts)\n",
    "#     return ct,tfidf\n",
    "\n",
    "def loadTFIDFModel(docs):\n",
    "    cv = CountVectorizer()\n",
    "    cv.fit(docs)  #this is model for TF\n",
    "    counts = cv.transform(docs)  ##this is TF\n",
    "    tfidf = TfidfTransformer()\n",
    "    tfidf.fit(counts)\n",
    "    return cv,tfidf"
   ]
  },
  {
   "cell_type": "code",
   "execution_count": 120,
   "id": "c24520c6-75c6-4921-aae9-255dd0c0c503",
   "metadata": {},
   "outputs": [],
   "source": [
    "ct,tfidf = loadTFIDFModel(corpus.data)"
   ]
  },
  {
   "cell_type": "code",
   "execution_count": 121,
   "id": "c03180d9-1b92-4846-9d46-b12e2921a62e",
   "metadata": {},
   "outputs": [],
   "source": [
    "def computeTFIDFFeatures(docs,ct,tfidf):\n",
    "    counts = ct.transform(docs)\n",
    "    xF = tfidf.transform(counts)\n",
    "    return xF.toarray()"
   ]
  },
  {
   "cell_type": "code",
   "execution_count": 122,
   "id": "22512a45-98cd-4ce0-ad93-ddcc36cacd3d",
   "metadata": {},
   "outputs": [
    {
     "data": {
      "text/plain": [
       "(2696, 37909)"
      ]
     },
     "execution_count": 122,
     "metadata": {},
     "output_type": "execute_result"
    }
   ],
   "source": [
    "xF = computeTFIDFFeatures(corpus.data,ct,tfidf) #xF = TFIDF of given data\n",
    "xF.shape"
   ]
  },
  {
   "cell_type": "code",
   "execution_count": 123,
   "id": "70e6190c-f237-4a2f-b8dd-1d04ddd4459a",
   "metadata": {},
   "outputs": [
    {
     "data": {
      "text/plain": [
       "['comp.graphics',\n",
       " 'rec.motorcycles',\n",
       " 'sci.electronics',\n",
       " 'talk.politics.guns',\n",
       " 'talk.religion.misc']"
      ]
     },
     "execution_count": 123,
     "metadata": {},
     "output_type": "execute_result"
    }
   ],
   "source": [
    "corpus.target_names"
   ]
  },
  {
   "cell_type": "code",
   "execution_count": 124,
   "id": "b0a5fdcc-cbbb-4e65-a1e3-4b1cd621c0c1",
   "metadata": {},
   "outputs": [
    {
     "data": {
      "text/plain": [
       "'rec.motorcycles'"
      ]
     },
     "execution_count": 124,
     "metadata": {},
     "output_type": "execute_result"
    }
   ],
   "source": [
    "corpus.target_names[corpus.target[100]]"
   ]
  },
  {
   "cell_type": "markdown",
   "id": "5d291f45-22da-49be-8256-e79f3a7ed9ff",
   "metadata": {},
   "source": [
    "## 1"
   ]
  },
  {
   "cell_type": "markdown",
   "id": "22db103e-6d01-482b-a142-8a5b7b5ab085",
   "metadata": {},
   "source": [
    "### 1.a"
   ]
  },
  {
   "cell_type": "markdown",
   "id": "c10799dc-7b17-438c-b309-229328138878",
   "metadata": {},
   "source": [
    "### 1.b"
   ]
  },
  {
   "cell_type": "markdown",
   "id": "25c25768-fb27-414a-9f45-871536292347",
   "metadata": {},
   "source": [
    "## 2"
   ]
  },
  {
   "cell_type": "code",
   "execution_count": null,
   "id": "f4ea3b94-3a90-43b3-a1bf-ff6e005b38e8",
   "metadata": {},
   "outputs": [],
   "source": []
  },
  {
   "cell_type": "code",
   "execution_count": 125,
   "id": "514e5ade-8105-4b9a-8419-7850d40a661d",
   "metadata": {},
   "outputs": [],
   "source": [
    "Xtrain = xF\n",
    "ytrain = corpus.target\n",
    "clf = NB().fit(Xtrain,ytrain)"
   ]
  },
  {
   "cell_type": "code",
   "execution_count": 140,
   "id": "f4d52de4-dc7b-4050-82e3-ca1a8b255004",
   "metadata": {},
   "outputs": [
    {
     "data": {
      "text/plain": [
       "(6, 37909)"
      ]
     },
     "execution_count": 140,
     "metadata": {},
     "output_type": "execute_result"
    }
   ],
   "source": [
    "docs_new = ['Trust in the Lord with all your heart.',\n",
    "           'OpenGL works fast',\n",
    "            'Honda cd 125 was most popular in Bangladesh',\n",
    "           'No one is there',\n",
    "            '4 inch revolver is very cute',\n",
    "           'Iphone 13 mini is a very handy smartphone']\n",
    "xF_new = computeTFIDFFeatures(docs_new,ct,tfidf)\n",
    "xF_new.shape"
   ]
  },
  {
   "cell_type": "code",
   "execution_count": 141,
   "id": "5e621647-87fe-4b20-8ecb-690cd8bb3863",
   "metadata": {},
   "outputs": [],
   "source": [
    "Xtest = xF_new\n",
    "predicted = clf.predict(Xtest)"
   ]
  },
  {
   "cell_type": "code",
   "execution_count": 142,
   "id": "51f0e8a7-d9e4-4b3a-bcd1-430e27d854d8",
   "metadata": {},
   "outputs": [
    {
     "name": "stdout",
     "output_type": "stream",
     "text": [
      "Trust in the Lord with all your heart.\n",
      "= talk.religion.misc\n",
      "OpenGL works fast\n",
      "= comp.graphics\n",
      "Honda cd 125 was most popular in Bangladesh\n",
      "= rec.motorcycles\n",
      "No one is there\n",
      "= talk.religion.misc\n",
      "4 inch revolver is very cute\n",
      "= talk.politics.guns\n",
      "Iphone 13 mini is a very handy smartphone\n",
      "= sci.electronics\n"
     ]
    }
   ],
   "source": [
    "i = 0\n",
    "for value in predicted:\n",
    "    print(docs_new[i]+'\\n= '+corpus.target_names[value])\n",
    "    i+=1"
   ]
  },
  {
   "cell_type": "code",
   "execution_count": null,
   "id": "d8393cae-2e19-40f6-90a9-606e7b9e4f30",
   "metadata": {},
   "outputs": [],
   "source": []
  }
 ],
 "metadata": {
  "kernelspec": {
   "display_name": "Python 3 (ipykernel)",
   "language": "python",
   "name": "python3"
  },
  "language_info": {
   "codemirror_mode": {
    "name": "ipython",
    "version": 3
   },
   "file_extension": ".py",
   "mimetype": "text/x-python",
   "name": "python",
   "nbconvert_exporter": "python",
   "pygments_lexer": "ipython3",
   "version": "3.12.7"
  }
 },
 "nbformat": 4,
 "nbformat_minor": 5
}
