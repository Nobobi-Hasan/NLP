{
 "cells": [
  {
   "cell_type": "code",
   "execution_count": 1,
   "id": "8e3ab24f-5ee0-43a9-b0e5-67d34eda9260",
   "metadata": {},
   "outputs": [],
   "source": [
    "# !pip show spacy-transformers transformers\n",
    "# !pip install transformers==4.36.0\n",
    "# !pip install gensim"
   ]
  },
  {
   "cell_type": "code",
   "execution_count": 2,
   "id": "d34dde58-5747-4d8d-ade2-8fccf9eb0739",
   "metadata": {},
   "outputs": [],
   "source": [
    "from gensim import corpora,models,similarities\n",
    "from sklearn.datasets import fetch_20newsgroups as getData\n",
    "from sklearn.model_selection import train_test_split\n",
    "from collections import defaultdict\n",
    "import warnings\n",
    "warnings.filterwarnings('ignore')\n",
    "import re\n",
    "import numpy as np"
   ]
  },
  {
   "cell_type": "code",
   "execution_count": 3,
   "id": "49d98b07-c9ea-49ac-a932-8ba9e9105ec8",
   "metadata": {},
   "outputs": [],
   "source": [
    "corpus = getData(subset = 'train',\n",
    "                    remove=('header','footer','quotes'),\n",
    "                    categories=['sci.electronics',\n",
    "                                'rec.motorcycles',\n",
    "                               'comp.graphics',\n",
    "                               'talk.religion.misc',\n",
    "                               'talk.politics.guns'])\n",
    "\n",
    "# corpus = getData(subset='train', \n",
    "#                              remove=('headers', 'footers', 'quotes'),\n",
    "#                             categories=['alt.atheism','comp.graphics',\n",
    "#                                        'soc.religion.christian'])\n",
    "    \n",
    "X = corpus.data\n",
    "y = corpus.target\n",
    "y_names = corpus.target_names"
   ]
  },
  {
   "cell_type": "code",
   "execution_count": 4,
   "id": "3e3cd3fd-c930-4196-9e89-bb3fb016e0b4",
   "metadata": {},
   "outputs": [
    {
     "name": "stdout",
     "output_type": "stream",
     "text": [
      "Organization: Penn State University\n",
      "From: <LRR105@psuvm.psu.edu>\n",
      "Subject: Re: Tools Tools Tools\n",
      " <1993Apr1.162709.16643@osf.org> <1993Apr2.235809.3241@kronos.arc.nasa.gov>\n",
      " <1993Apr5.165548.21479@research.nj.nec.com>\n",
      "Lines: 1\n",
      "\n",
      "WHAT IS THE FLANK DRIVE EVERYONES TALKING ABOUT?\n",
      " 2696 rec.motorcycles\n"
     ]
    }
   ],
   "source": [
    "print(X[0],len(X),y_names[y[0]])"
   ]
  },
  {
   "cell_type": "code",
   "execution_count": 5,
   "id": "70ced786-e6c9-4c6c-bb4e-d90b432eeccc",
   "metadata": {},
   "outputs": [],
   "source": [
    "Xtrain,Xtest,ytrain,ytest = train_test_split(X,y,test_size=0.1,shuffle=True)"
   ]
  },
  {
   "cell_type": "code",
   "execution_count": 6,
   "id": "371ab6fa-4f02-4fcc-9169-882b921a9909",
   "metadata": {},
   "outputs": [],
   "source": [
    "stoplist = set('for a of the and to in'.split(' '))\n",
    "texts = [[word for word in re.split('\\W+',doc.lower()) if word not in stoplist] for doc in Xtrain]"
   ]
  },
  {
   "cell_type": "code",
   "execution_count": 7,
   "id": "28793075-0dec-4f4b-b923-59e36bf822cd",
   "metadata": {},
   "outputs": [
    {
     "name": "stdout",
     "output_type": "stream",
     "text": [
      "2426\n"
     ]
    }
   ],
   "source": [
    "print(len(texts))"
   ]
  },
  {
   "cell_type": "code",
   "execution_count": 8,
   "id": "f9e147e9-507c-40cb-8fa9-b9678fbf01d0",
   "metadata": {},
   "outputs": [],
   "source": [
    "frequency = defaultdict(int)\n",
    "for text in texts:\n",
    "    for token in text:\n",
    "        frequency[token] += 1\n",
    "\n",
    "cutOffValue = 10\n",
    "processed_corpus = [[token for token in text if frequency[token] > cutOffValue] \n",
    "                    for text in texts]"
   ]
  },
  {
   "cell_type": "code",
   "execution_count": 9,
   "id": "a2320889-ad4a-4bd5-af51-0dff40791c23",
   "metadata": {},
   "outputs": [
    {
     "name": "stdout",
     "output_type": "stream",
     "text": [
      "Dictionary<5032 unique tokens: ['', '2', '22', 'abortion', 'bitnet']...>\n"
     ]
    }
   ],
   "source": [
    "dictionary = corpora.Dictionary(processed_corpus)\n",
    "print(dictionary)"
   ]
  },
  {
   "cell_type": "code",
   "execution_count": 10,
   "id": "d87fe388-3868-420a-850b-815c8ed2af03",
   "metadata": {},
   "outputs": [],
   "source": [
    "# print(dictionary.token2id)"
   ]
  },
  {
   "cell_type": "code",
   "execution_count": 11,
   "id": "74ff8d4c-f23f-49af-8f35-cb78987f4232",
   "metadata": {},
   "outputs": [],
   "source": [
    "bow_corpus = [dictionary.doc2bow(text) for text in processed_corpus]  #bow = bag of corpus"
   ]
  },
  {
   "cell_type": "code",
   "execution_count": 12,
   "id": "d6d1224f-7e8e-4a8d-a3a9-087de09aa462",
   "metadata": {},
   "outputs": [
    {
     "name": "stdout",
     "output_type": "stream",
     "text": [
      "[(0, 1), (1, 2), (2, 1), (3, 1), (4, 1), (5, 1), (6, 4), (7, 1), (8, 1), (9, 1), (10, 1), (11, 1), (12, 6), (13, 1), (14, 3), (15, 1), (16, 1), (17, 1), (18, 1), (19, 1), (20, 1), (21, 1), (22, 1), (23, 1), (24, 1), (25, 1), (26, 1), (27, 1), (28, 1), (29, 1), (30, 2), (31, 1), (32, 1), (33, 1), (34, 1), (35, 1), (36, 1), (37, 1), (38, 1), (39, 1), (40, 1), (41, 1), (42, 2), (43, 1), (44, 1), (45, 1), (46, 1), (47, 2), (48, 4), (49, 1)]\n"
     ]
    }
   ],
   "source": [
    "print(bow_corpus[0])"
   ]
  },
  {
   "cell_type": "code",
   "execution_count": 13,
   "id": "36e1453b-6238-4858-b972-d959bc967a35",
   "metadata": {},
   "outputs": [],
   "source": [
    "model = models.TfidfModel(bow_corpus)\n",
    "#model = models.LsiModel(bow_corpus)\n",
    "#model = models.LdaModel(bow_corpus)"
   ]
  },
  {
   "cell_type": "code",
   "execution_count": 14,
   "id": "696d50a1-cb6d-458b-8e7e-4ce153cb8734",
   "metadata": {},
   "outputs": [],
   "source": [
    "index = similarities.SparseMatrixSimilarity(model[bow_corpus],num_features=len(dictionary))"
   ]
  },
  {
   "cell_type": "code",
   "execution_count": 15,
   "id": "4605c1ed-2bf4-4cbc-a86e-521be851b707",
   "metadata": {},
   "outputs": [
    {
     "name": "stdout",
     "output_type": "stream",
     "text": [
      "Predicted: talk.politics.guns\n",
      "Ground Truth: talk.politics.guns\n"
     ]
    }
   ],
   "source": [
    "t = np.random.randint(len(Xtest))\n",
    "query_document = re.split('\\W+',Xtest[t].lower())\n",
    "query_bow = dictionary.doc2bow(query_document)\n",
    "sims = index[model[query_bow]]\n",
    "docNumber = sorted(enumerate(sims), key=lambda x: x[1], reverse=True)[0][0]\n",
    "print('Predicted:',y_names[ytrain[docNumber]])\n",
    "print('Ground Truth:',y_names[ytest[t]])"
   ]
  },
  {
   "cell_type": "code",
   "execution_count": null,
   "id": "0b5e5b85-12c4-470a-91c6-b223bd02b10b",
   "metadata": {},
   "outputs": [],
   "source": []
  }
 ],
 "metadata": {
  "kernelspec": {
   "display_name": "Python 3 (ipykernel)",
   "language": "python",
   "name": "python3"
  },
  "language_info": {
   "codemirror_mode": {
    "name": "ipython",
    "version": 3
   },
   "file_extension": ".py",
   "mimetype": "text/x-python",
   "name": "python",
   "nbconvert_exporter": "python",
   "pygments_lexer": "ipython3",
   "version": "3.12.7"
  }
 },
 "nbformat": 4,
 "nbformat_minor": 5
}
