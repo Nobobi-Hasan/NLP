{
 "cells": [
  {
   "cell_type": "code",
   "execution_count": 1,
   "id": "d9f9b07b-f986-4be0-8fed-8a8b2d0f71bc",
   "metadata": {},
   "outputs": [],
   "source": [
    "import warnings\n",
    "warnings.filterwarnings('ignore')\n",
    "import re\n",
    "import numpy as np"
   ]
  },
  {
   "cell_type": "code",
   "execution_count": 2,
   "id": "dbd85442-e9b3-4ad8-a27a-1e41a9ee3d0c",
   "metadata": {},
   "outputs": [],
   "source": [
    "doc = open('../DataSets/text8','r').read().lower()"
   ]
  },
  {
   "cell_type": "code",
   "execution_count": 3,
   "id": "877383d6-14dc-40a1-a540-b545ebef04a0",
   "metadata": {},
   "outputs": [
    {
     "data": {
      "text/plain": [
       "100000000"
      ]
     },
     "execution_count": 3,
     "metadata": {},
     "output_type": "execute_result"
    }
   ],
   "source": [
    "len(doc)"
   ]
  },
  {
   "cell_type": "code",
   "execution_count": 4,
   "id": "3bad3ef1-be43-47ec-b6ba-68d0efab43e0",
   "metadata": {},
   "outputs": [],
   "source": [
    "corpus_list = re.split('\\W+', doc)"
   ]
  },
  {
   "cell_type": "code",
   "execution_count": 5,
   "id": "d436048a-479f-4a89-a1eb-83d8fd25f9ae",
   "metadata": {},
   "outputs": [
    {
     "data": {
      "text/plain": [
       "17005208"
      ]
     },
     "execution_count": 5,
     "metadata": {},
     "output_type": "execute_result"
    }
   ],
   "source": [
    "len(corpus_list)"
   ]
  },
  {
   "cell_type": "code",
   "execution_count": 6,
   "id": "f76cfc81-7feb-4e4f-92d6-978662fa5120",
   "metadata": {},
   "outputs": [],
   "source": [
    "cutOffValue = 100\n",
    "from collections import defaultdict\n",
    "frequency = defaultdict(int)\n",
    "for token in corpus_list:\n",
    "    frequency[token] += 1\n",
    "processedCorpus_list = [token for token in corpus_list \n",
    "                        if frequency[token] >= cutOffValue]"
   ]
  },
  {
   "cell_type": "code",
   "execution_count": 7,
   "id": "5fdeb08a-c085-4f52-885b-0a495d587cf2",
   "metadata": {},
   "outputs": [
    {
     "data": {
      "text/plain": [
       "15471435"
      ]
     },
     "execution_count": 7,
     "metadata": {},
     "output_type": "execute_result"
    }
   ],
   "source": [
    "len(processedCorpus_list)"
   ]
  },
  {
   "cell_type": "code",
   "execution_count": 8,
   "id": "7c6f6fc0-d36e-44cb-965c-6890e3dd0b56",
   "metadata": {},
   "outputs": [
    {
     "data": {
      "text/plain": [
       "1533773"
      ]
     },
     "execution_count": 8,
     "metadata": {},
     "output_type": "execute_result"
    }
   ],
   "source": [
    "len(corpus_list)-len(processedCorpus_list)"
   ]
  },
  {
   "cell_type": "code",
   "execution_count": 9,
   "id": "47fe188e-4047-4b05-a263-2344f9065682",
   "metadata": {},
   "outputs": [
    {
     "data": {
      "text/plain": [
       "253855"
      ]
     },
     "execution_count": 9,
     "metadata": {},
     "output_type": "execute_result"
    }
   ],
   "source": [
    "len(frequency)"
   ]
  },
  {
   "cell_type": "code",
   "execution_count": 10,
   "id": "e86a6769-3391-43c6-8482-41021c5dcca6",
   "metadata": {},
   "outputs": [],
   "source": [
    "allWords = np.array(list(frequency.keys()))\n",
    "allCounts = np.array(list(frequency.values()))"
   ]
  },
  {
   "cell_type": "code",
   "execution_count": 11,
   "id": "c2b90cfb-edc8-4292-b01c-d1abb15c3847",
   "metadata": {},
   "outputs": [
    {
     "data": {
      "text/plain": [
       "253855"
      ]
     },
     "execution_count": 11,
     "metadata": {},
     "output_type": "execute_result"
    }
   ],
   "source": [
    "len(allWords)"
   ]
  },
  {
   "cell_type": "code",
   "execution_count": 12,
   "id": "4ce83ae0-208f-4531-8bd7-893834542292",
   "metadata": {},
   "outputs": [],
   "source": [
    "vocab = allWords[allCounts >= cutOffValue]\n",
    "wordCounts = allCounts[allCounts >= cutOffValue]"
   ]
  },
  {
   "cell_type": "code",
   "execution_count": 13,
   "id": "37f2052a-0426-475b-be9f-11ea8c5c992b",
   "metadata": {},
   "outputs": [
    {
     "data": {
      "text/plain": [
       "11815"
      ]
     },
     "execution_count": 13,
     "metadata": {},
     "output_type": "execute_result"
    }
   ],
   "source": [
    "len(vocab)"
   ]
  },
  {
   "cell_type": "code",
   "execution_count": 14,
   "id": "158dcbb0-eb91-4070-84d1-d119724df178",
   "metadata": {},
   "outputs": [],
   "source": [
    "from scipy.sparse import lil_matrix"
   ]
  },
  {
   "cell_type": "code",
   "execution_count": 15,
   "id": "fd12e525-6580-452c-a09e-810ac3d8743c",
   "metadata": {},
   "outputs": [],
   "source": [
    "def computeWordContextMatrix(corpus_list,vocab=None,windowSize=2):\n",
    "    if vocab is None:\n",
    "        vocab = sorted(list(set(cospus_list)))\n",
    "    numWords = len(vocab)\n",
    "    M = np.zeros((numWords,numWords))\n",
    "    # M = lil_matrix((numWords,numWords)) #for computing big matrix by splitting into pieces\n",
    "    W2I = dict(zip(vocab,np.arange(numWords)))\n",
    "    I2W = dict(zip(np.arange(numWords),vocab))\n",
    "    doc = corpus_list\n",
    "    docLen = len(doc)\n",
    "    curIdx = 0\n",
    "    while curIdx < docLen:\n",
    "        left = max(curIdx-windowSize,0)\n",
    "        right = min(curIdx+windowSize+1,docLen)\n",
    "        wordsInContext = doc[left:curIdx] + doc[curIdx+1:right]\n",
    "        currentWord = doc[curIdx]\n",
    "        currentWordIdx = W2I[currentWord]\n",
    "        for word in wordsInContext:\n",
    "            contextWordIdx = W2I[word]\n",
    "            M[currentWordIdx,contextWordIdx] += 1\n",
    "        curIdx += 1\n",
    "    return M,W2I,I2W"
   ]
  },
  {
   "cell_type": "code",
   "execution_count": 16,
   "id": "1b8be03c-a294-4e4b-9dea-ad81a02644cb",
   "metadata": {},
   "outputs": [],
   "source": [
    "M,W2I,I2W = computeWordContextMatrix(processedCorpus_list,vocab)"
   ]
  },
  {
   "cell_type": "code",
   "execution_count": 17,
   "id": "89e36d4f-730e-484e-8b9a-694d08640205",
   "metadata": {},
   "outputs": [
    {
     "data": {
      "text/plain": [
       "(11815, 11815)"
      ]
     },
     "execution_count": 17,
     "metadata": {},
     "output_type": "execute_result"
    }
   ],
   "source": [
    "M.shape"
   ]
  },
  {
   "cell_type": "code",
   "execution_count": 18,
   "id": "8bcab1ce-3cda-4093-b7c2-c08dc2b558a7",
   "metadata": {},
   "outputs": [
    {
     "name": "stdout",
     "output_type": "stream",
     "text": [
      "190 good\n"
     ]
    }
   ],
   "source": [
    "word = 'good'\n",
    "print(W2I[word],I2W[190])"
   ]
  },
  {
   "cell_type": "code",
   "execution_count": 19,
   "id": "e729034e-2543-4383-b24a-520730061ef8",
   "metadata": {},
   "outputs": [
    {
     "name": "stdout",
     "output_type": "stream",
     "text": [
      "[  0.   0. 214. ...   0.   0.   0.]\n"
     ]
    }
   ],
   "source": [
    "v = M[W2I['good'],:]\n",
    "print(v)"
   ]
  },
  {
   "cell_type": "code",
   "execution_count": 20,
   "id": "8b02d9f3-7083-44fb-be77-b6705e8b5ad9",
   "metadata": {},
   "outputs": [
    {
     "data": {
      "text/plain": [
       "(11815,)"
      ]
     },
     "execution_count": 20,
     "metadata": {},
     "output_type": "execute_result"
    }
   ],
   "source": [
    "v.shape"
   ]
  },
  {
   "cell_type": "code",
   "execution_count": 21,
   "id": "cff26f5a-e40a-4865-bc07-ac2a1ebf924f",
   "metadata": {},
   "outputs": [],
   "source": [
    "def pmi(M, positive=True):\n",
    "    col_totals = np.sum(M,axis=0)\n",
    "    total = col_totals.sum()\n",
    "    row_totals = np.sum(M,axis=1)\n",
    "    expected = np.outer(row_totals, col_totals) / total\n",
    "    M = M / expected    \n",
    "    with np.errstate(divide='ignore'):\n",
    "        M = np.log(M)\n",
    "    M[np.isinf(M)] = 0.0  \n",
    "    if positive:\n",
    "        M[M < 0] = 0.0\n",
    "    return M"
   ]
  },
  {
   "cell_type": "code",
   "execution_count": 22,
   "id": "5f1efedf-cc9f-4871-b409-607c4ca116d4",
   "metadata": {},
   "outputs": [],
   "source": [
    "M = pmi(M)"
   ]
  },
  {
   "cell_type": "code",
   "execution_count": 23,
   "id": "718d8672-e5da-4df1-81e0-dde51050972d",
   "metadata": {},
   "outputs": [
    {
     "data": {
      "text/plain": [
       "array([0.       , 0.       , 0.4605286, ..., 0.       , 0.       ,\n",
       "       0.       ])"
      ]
     },
     "execution_count": 23,
     "metadata": {},
     "output_type": "execute_result"
    }
   ],
   "source": [
    "M[W2I['good'],:]"
   ]
  },
  {
   "cell_type": "markdown",
   "id": "d60f0b0a-74fc-4e26-8662-88cd961a3e3d",
   "metadata": {},
   "source": [
    "# Latent Semantic Analysis (LSA)"
   ]
  },
  {
   "cell_type": "code",
   "execution_count": 24,
   "id": "58c8abbd-7c34-42f1-9c74-98ff6064eec3",
   "metadata": {},
   "outputs": [],
   "source": [
    "from sklearn.decomposition import TruncatedSVD, PCA, IncrementalPCA # IncrementalPCA is used when the matrix is very-very large"
   ]
  },
  {
   "cell_type": "code",
   "execution_count": 25,
   "id": "ee9800e0-d5c5-4ced-a877-3a6b0c456c2a",
   "metadata": {},
   "outputs": [],
   "source": [
    "transformer = TruncatedSVD(n_components=100)  # new dimention size = 100"
   ]
  },
  {
   "cell_type": "code",
   "execution_count": 26,
   "id": "5fe3486a-b968-485c-bab3-9e48cd8ccbf5",
   "metadata": {},
   "outputs": [],
   "source": [
    "M_reduced = transformer.fit_transform(M)"
   ]
  },
  {
   "cell_type": "code",
   "execution_count": 27,
   "id": "62d41834-cae6-4a0a-a11a-c26cd6160ac3",
   "metadata": {},
   "outputs": [
    {
     "name": "stdout",
     "output_type": "stream",
     "text": [
      "(11815, 11815)\n",
      "(11815, 100)\n"
     ]
    }
   ],
   "source": [
    "print(M.shape)\n",
    "print(M_reduced.shape)"
   ]
  },
  {
   "cell_type": "code",
   "execution_count": 28,
   "id": "5324c89a-bdfc-4d22-bdc0-77c345948e86",
   "metadata": {},
   "outputs": [
    {
     "data": {
      "text/plain": [
       "array([ 2.35845596e+01, -3.84230767e+00, -3.72714353e+00, -4.18267179e+00,\n",
       "       -4.50620637e+00, -7.88498082e+00, -1.00249431e+00, -3.38179106e+00,\n",
       "        5.66493189e-02, -2.34164772e+00,  7.71487962e+00,  2.24862627e+00,\n",
       "       -2.86782475e+00,  3.30179696e+00,  5.31744074e-01, -1.46128015e-01,\n",
       "       -6.91885692e+00,  4.46883094e+00, -8.77470424e-01, -3.44081529e-01,\n",
       "        1.34722089e+00,  7.93185826e-01,  1.88389622e+00,  3.98075264e+00,\n",
       "       -2.33217305e+00,  8.42739133e-01, -1.33308288e+00,  2.25249646e+00,\n",
       "        1.40525303e+00,  1.38109446e-01, -4.09607412e+00,  3.84661152e+00,\n",
       "       -4.66536869e-01,  4.52999528e+00,  7.42019354e-01,  1.41009833e+00,\n",
       "       -1.11911460e+00, -3.22515986e+00,  1.82624856e+00, -2.54677002e+00,\n",
       "       -3.79283951e-01, -1.94451311e+00, -1.24214108e+00,  2.41239823e+00,\n",
       "       -1.00813674e+00, -1.96291195e+00,  1.45573229e+00,  1.76582203e+00,\n",
       "       -2.44132943e-01,  1.22288878e+00,  3.59380295e+00, -1.10472196e+00,\n",
       "       -9.61917687e-01, -2.42804999e+00,  7.70829501e-03, -2.89834949e+00,\n",
       "        1.95122478e-01, -1.36479930e+00, -2.76538209e+00, -6.58899750e-01,\n",
       "       -1.60831510e+00, -2.41860159e+00,  1.83493436e+00,  1.15797206e+00,\n",
       "       -4.52195987e-01, -8.73270332e-03,  5.80951333e-01, -2.18579485e+00,\n",
       "       -2.64024002e+00,  2.57171577e-01,  6.14560278e-01,  2.07350698e-01,\n",
       "       -4.30094963e-01, -4.45072729e-01,  7.40738485e-02, -1.82771989e+00,\n",
       "        1.92627643e-01,  3.96223743e+00, -2.04837535e+00, -1.90560238e+00,\n",
       "       -2.35631576e+00,  2.46247555e+00,  8.82884334e-01,  1.70741014e-01,\n",
       "        1.49512900e+00,  2.37198571e+00,  8.04053272e-01, -8.84578289e-01,\n",
       "       -2.18529717e+00, -6.99699663e-01,  3.08260453e-01,  6.62281881e-01,\n",
       "       -8.07288577e-02, -1.86006230e+00,  1.43407907e+00, -3.04536608e+00,\n",
       "        2.57743418e-01,  3.43885684e+00, -2.00410203e+00, -1.54023354e+00])"
      ]
     },
     "execution_count": 28,
     "metadata": {},
     "output_type": "execute_result"
    }
   ],
   "source": [
    "M_reduced[W2I['good'],:]"
   ]
  },
  {
   "cell_type": "markdown",
   "id": "fcb4d67e-c55b-4a1d-927d-6e66282c8dc1",
   "metadata": {},
   "source": [
    "# Word Semantics"
   ]
  },
  {
   "cell_type": "markdown",
   "id": "767aaeb7-0f03-4228-b7a4-e29df70c654f",
   "metadata": {},
   "source": [
    "## Cosine Similarity"
   ]
  },
  {
   "cell_type": "code",
   "execution_count": 29,
   "id": "517610d7-fd0a-458d-bd27-7d24125ac871",
   "metadata": {},
   "outputs": [],
   "source": [
    "def getNorms(E):  # e = single row vector or multiple row matrix\n",
    "    if E.ndim == 1:\n",
    "        E = E[np.newaxis,:]\n",
    "    nrms = np.sum(E**2,axis=1)**0.5  # calculate magnitude ( ||E|| )\n",
    "    return nrms"
   ]
  },
  {
   "cell_type": "code",
   "execution_count": 30,
   "id": "0329c3a7-b69d-477c-b145-06c67cb41a40",
   "metadata": {},
   "outputs": [
    {
     "name": "stdout",
     "output_type": "stream",
     "text": [
      "(100,)\n",
      "(1, 100)\n",
      "[33.83458344]\n"
     ]
    }
   ],
   "source": [
    "v = M_reduced[W2I['good'],:]\n",
    "print(v.shape)\n",
    "\n",
    "v = v[np.newaxis,:]\n",
    "print(v.shape)\n",
    "\n",
    "print(getNorms(v))"
   ]
  },
  {
   "cell_type": "code",
   "execution_count": 31,
   "id": "f1a883a1-20f8-4b20-b083-8af527c23b18",
   "metadata": {},
   "outputs": [
    {
     "name": "stdout",
     "output_type": "stream",
     "text": [
      "(3, 100)\n",
      "[20.30046382 38.9649877  34.33470975]\n"
     ]
    }
   ],
   "source": [
    "v = M_reduced[[1,3,5],:]\n",
    "print(v.shape)\n",
    "print(getNorms(v))"
   ]
  },
  {
   "cell_type": "code",
   "execution_count": 32,
   "id": "348d1c22-d12f-42c7-8d7e-b626c20d1900",
   "metadata": {},
   "outputs": [],
   "source": [
    "def normalize(E):  # e = single row vector or multiple row matrix\n",
    "    if E.ndim == 1:\n",
    "        E = E[np.newaxis,:]\n",
    "    nrms = getNorms(E)\n",
    "    return E/nrms[:,np.newaxis]"
   ]
  },
  {
   "cell_type": "code",
   "execution_count": 33,
   "id": "0419649f-02c4-4be7-9113-acb846d17c76",
   "metadata": {},
   "outputs": [
    {
     "name": "stdout",
     "output_type": "stream",
     "text": [
      "[1. 1. 1.] [20.30046382 38.9649877  34.33470975]\n"
     ]
    }
   ],
   "source": [
    "# v = M_reduced[1,:]\n",
    "v = M_reduced[[1,3,5],:]\n",
    "v2 = normalize(v)\n",
    "print(getNorms(v2), getNorms(v)) # normalize makes it 1"
   ]
  },
  {
   "cell_type": "code",
   "execution_count": 34,
   "id": "051b17b3-4dee-418c-b4d6-192c477cc9b9",
   "metadata": {},
   "outputs": [],
   "source": [
    "# Measuring cosine similarity of 'v' with all the vectors of 'E'.\n",
    "\n",
    "def cosineSimilarity(E,v): # here vector v is always a single vector; E can be single or multiple\n",
    "    E = normalize(E)\n",
    "    v = normalize(v)\n",
    "    scores = E.dot(v.T)\n",
    "    return scores"
   ]
  },
  {
   "cell_type": "code",
   "execution_count": 35,
   "id": "c46b2cf1-165b-44c2-90ac-2d99c703b929",
   "metadata": {},
   "outputs": [
    {
     "name": "stdout",
     "output_type": "stream",
     "text": [
      "[[0.62979536]]\n"
     ]
    }
   ],
   "source": [
    "E = M_reduced[W2I['good'],:]\n",
    "v = M_reduced[W2I['nice'],:]\n",
    "\n",
    "print(cosineSimilarity(E,v))"
   ]
  },
  {
   "cell_type": "code",
   "execution_count": 36,
   "id": "b1620a57-0cd9-4d62-9444-eecf29ea1d70",
   "metadata": {},
   "outputs": [
    {
     "name": "stdout",
     "output_type": "stream",
     "text": [
      "[[0.43738891]\n",
      " [0.44835292]\n",
      " [0.28982954]]\n",
      "(3, 1)\n",
      "[0.43738891 0.44835292 0.28982954]\n",
      "(3,)\n"
     ]
    }
   ],
   "source": [
    "E = M_reduced[[1,3,5],:]\n",
    "v = M_reduced[W2I['nice'],:]\n",
    "\n",
    "scores = cosineSimilarity(E,v)\n",
    "print(scores)\n",
    "print(scores.shape)\n",
    "\n",
    "scores = scores.squeeze()\n",
    "print(scores)\n",
    "print(scores.shape)"
   ]
  },
  {
   "cell_type": "code",
   "execution_count": 37,
   "id": "a2efce06-5e5f-4bac-add6-009cbb7040dc",
   "metadata": {},
   "outputs": [
    {
     "name": "stdout",
     "output_type": "stream",
     "text": [
      "[0.28198187 0.43738891 0.28617066 ... 0.39707412 0.18962805 0.37045404]\n",
      "(11815,)\n"
     ]
    }
   ],
   "source": [
    "E = M_reduced\n",
    "v = M_reduced[W2I['nice'],:]\n",
    "\n",
    "scores = cosineSimilarity(E,v)\n",
    "scores = scores.squeeze()\n",
    "print(scores)\n",
    "print(scores.shape)"
   ]
  },
  {
   "cell_type": "code",
   "execution_count": 38,
   "id": "a4187116-d156-4a08-b037-c4885a1c50d3",
   "metadata": {},
   "outputs": [],
   "source": [
    "def getMostSimilarWords(E, word, W2I, topn = 10):\n",
    "    if type(word) is str:\n",
    "        v = E[W2I[word],:]\n",
    "    else:\n",
    "        v = word\n",
    "    scores = cosineSimilarity(E, v)\n",
    "    scores = scores.squeeze()\n",
    "    sortedScores = np.sort(scores)[::-1]\n",
    "    sortedIdx = np.argsort(scores)[::-1]\n",
    "    topNScores = sortedScores[:topn]\n",
    "    topNScoreIdx = sortedIdx[:topn]\n",
    "    return topNScores, topNScoreIdx"
   ]
  },
  {
   "cell_type": "code",
   "execution_count": 46,
   "id": "58b3c57e-71fd-4c55-94d4-196814cbf206",
   "metadata": {},
   "outputs": [],
   "source": [
    "t10Scores, t10idx = getMostSimilarWords(M_reduced, 'long', W2I)"
   ]
  },
  {
   "cell_type": "code",
   "execution_count": 47,
   "id": "a555973a-14e9-4a63-8a44-c283bfb28264",
   "metadata": {},
   "outputs": [
    {
     "name": "stdout",
     "output_type": "stream",
     "text": [
      "[1.         0.83497223 0.78208388 0.78054073 0.77023909 0.7687479\n",
      " 0.76140362 0.75847035 0.7543878  0.75262386]\n",
      "[ 376 1495  125  336  844 1605 2528 1260 2202  106]\n"
     ]
    }
   ],
   "source": [
    "print(t10Scores)\n",
    "print(t10idx)"
   ]
  },
  {
   "cell_type": "code",
   "execution_count": 48,
   "id": "1b2ed565-573a-4125-a6d0-64387c27c451",
   "metadata": {},
   "outputs": [
    {
     "name": "stdout",
     "output_type": "stream",
     "text": [
      "0.9999999999999996 long\n",
      "0.834972231758375 short\n",
      "0.7820838822704526 with\n",
      "0.7805407286635775 over\n",
      "0.7702390905922953 just\n",
      "0.7687478971461881 almost\n",
      "0.7614036184328778 half\n",
      "0.7584703494763734 nearly\n",
      "0.7543877965645346 longer\n",
      "0.7526238626943997 while\n"
     ]
    }
   ],
   "source": [
    "for s, i in zip(t10Scores, t10idx):\n",
    "    print(s, I2W[i])"
   ]
  },
  {
   "cell_type": "markdown",
   "id": "b7d41728-9e86-4adf-8d06-6ce5e94dc92e",
   "metadata": {},
   "source": [
    "## Word Analogy"
   ]
  },
  {
   "cell_type": "code",
   "execution_count": 94,
   "id": "09d31c80-b71b-4f0a-8681-f20cb22bb033",
   "metadata": {},
   "outputs": [],
   "source": [
    "def analogy(E, W2I, man, woman, king):\n",
    "    v = E[W2I[king],:] - E[W2I[man],:] + E[W2I[woman],:]\n",
    "    tNScores, tNidx = getMostSimilarWords(E, v, W2I)\n",
    "    return tNScores, tNidx, v"
   ]
  },
  {
   "cell_type": "code",
   "execution_count": 101,
   "id": "339804c6-dd2f-4c2e-bd9f-a0c9d74ee597",
   "metadata": {},
   "outputs": [
    {
     "name": "stdout",
     "output_type": "stream",
     "text": [
      "0.6612729943422174 tiger\n",
      "0.5786867762824788 lynx\n",
      "0.5609158988174339 lions\n",
      "0.548093404092618 twins\n",
      "0.528940198600379 tigers\n",
      "0.5225049200723977 youngest\n",
      "0.5157679731744834 hamster\n",
      "0.5142912919463599 panda\n",
      "0.5027557310664732 helena\n",
      "0.5019766553565002 siblings\n"
     ]
    }
   ],
   "source": [
    "#analogy wont work properly here, because accurate embedding file didn't found in video (Using 'M_reduced' instead of actual 'E')\n",
    "tNScores, tNidx, v = analogy(M_reduced, W2I, 'man', 'woman', 'tiger')\n",
    "# tNScores, tNidx = analogy(M_reduced, W2I, 'tall', 'tallest', 'long')\n",
    "\n",
    "for i in range(len(tNidx)):\n",
    "    print(tNScores[i],I2W[tNidx[i]])\n",
    "    # break"
   ]
  },
  {
   "cell_type": "code",
   "execution_count": null,
   "id": "7f7fafdf-f9fb-409d-9f94-f96d5d0685c5",
   "metadata": {},
   "outputs": [],
   "source": []
  }
 ],
 "metadata": {
  "kernelspec": {
   "display_name": "Python 3 (ipykernel)",
   "language": "python",
   "name": "python3"
  },
  "language_info": {
   "codemirror_mode": {
    "name": "ipython",
    "version": 3
   },
   "file_extension": ".py",
   "mimetype": "text/x-python",
   "name": "python",
   "nbconvert_exporter": "python",
   "pygments_lexer": "ipython3",
   "version": "3.12.7"
  }
 },
 "nbformat": 4,
 "nbformat_minor": 5
}
