{
 "cells": [
  {
   "cell_type": "code",
   "execution_count": 1,
   "id": "d9f9b07b-f986-4be0-8fed-8a8b2d0f71bc",
   "metadata": {},
   "outputs": [],
   "source": [
    "import warnings\n",
    "warnings.filterwarnings('ignore')\n",
    "import re\n",
    "import numpy as np"
   ]
  },
  {
   "cell_type": "code",
   "execution_count": 2,
   "id": "dbd85442-e9b3-4ad8-a27a-1e41a9ee3d0c",
   "metadata": {},
   "outputs": [],
   "source": [
    "doc = open('../DataSets/text8','r').read().lower()"
   ]
  },
  {
   "cell_type": "code",
   "execution_count": 3,
   "id": "877383d6-14dc-40a1-a540-b545ebef04a0",
   "metadata": {},
   "outputs": [
    {
     "data": {
      "text/plain": [
       "100000000"
      ]
     },
     "execution_count": 3,
     "metadata": {},
     "output_type": "execute_result"
    }
   ],
   "source": [
    "len(doc)"
   ]
  },
  {
   "cell_type": "code",
   "execution_count": 4,
   "id": "3bad3ef1-be43-47ec-b6ba-68d0efab43e0",
   "metadata": {},
   "outputs": [],
   "source": [
    "corpus_list = re.split('\\W+', doc)"
   ]
  },
  {
   "cell_type": "code",
   "execution_count": 5,
   "id": "d436048a-479f-4a89-a1eb-83d8fd25f9ae",
   "metadata": {},
   "outputs": [
    {
     "data": {
      "text/plain": [
       "17005208"
      ]
     },
     "execution_count": 5,
     "metadata": {},
     "output_type": "execute_result"
    }
   ],
   "source": [
    "len(corpus_list)"
   ]
  },
  {
   "cell_type": "code",
   "execution_count": 6,
   "id": "f76cfc81-7feb-4e4f-92d6-978662fa5120",
   "metadata": {},
   "outputs": [],
   "source": [
    "cutOffValue = 100\n",
    "from collections import defaultdict\n",
    "frequency = defaultdict(int)\n",
    "for token in corpus_list:\n",
    "    frequency[token] += 1\n",
    "processedCorpus_list = [token for token in corpus_list \n",
    "                        if frequency[token] >= cutOffValue]"
   ]
  },
  {
   "cell_type": "code",
   "execution_count": 7,
   "id": "5fdeb08a-c085-4f52-885b-0a495d587cf2",
   "metadata": {},
   "outputs": [
    {
     "data": {
      "text/plain": [
       "15471435"
      ]
     },
     "execution_count": 7,
     "metadata": {},
     "output_type": "execute_result"
    }
   ],
   "source": [
    "len(processedCorpus_list)"
   ]
  },
  {
   "cell_type": "code",
   "execution_count": 8,
   "id": "7c6f6fc0-d36e-44cb-965c-6890e3dd0b56",
   "metadata": {},
   "outputs": [
    {
     "data": {
      "text/plain": [
       "1533773"
      ]
     },
     "execution_count": 8,
     "metadata": {},
     "output_type": "execute_result"
    }
   ],
   "source": [
    "len(corpus_list)-len(processedCorpus_list)"
   ]
  },
  {
   "cell_type": "code",
   "execution_count": 9,
   "id": "47fe188e-4047-4b05-a263-2344f9065682",
   "metadata": {},
   "outputs": [
    {
     "data": {
      "text/plain": [
       "253855"
      ]
     },
     "execution_count": 9,
     "metadata": {},
     "output_type": "execute_result"
    }
   ],
   "source": [
    "len(frequency)"
   ]
  },
  {
   "cell_type": "code",
   "execution_count": 10,
   "id": "e86a6769-3391-43c6-8482-41021c5dcca6",
   "metadata": {},
   "outputs": [],
   "source": [
    "allWords = np.array(list(frequency.keys()))\n",
    "allCounts = np.array(list(frequency.values()))"
   ]
  },
  {
   "cell_type": "code",
   "execution_count": 11,
   "id": "c2b90cfb-edc8-4292-b01c-d1abb15c3847",
   "metadata": {},
   "outputs": [
    {
     "data": {
      "text/plain": [
       "253855"
      ]
     },
     "execution_count": 11,
     "metadata": {},
     "output_type": "execute_result"
    }
   ],
   "source": [
    "len(allWords)"
   ]
  },
  {
   "cell_type": "code",
   "execution_count": 12,
   "id": "4ce83ae0-208f-4531-8bd7-893834542292",
   "metadata": {},
   "outputs": [],
   "source": [
    "vocab = allWords[allCounts >= cutOffValue]\n",
    "wordCounts = allCounts[allCounts >= cutOffValue]"
   ]
  },
  {
   "cell_type": "code",
   "execution_count": 13,
   "id": "37f2052a-0426-475b-be9f-11ea8c5c992b",
   "metadata": {},
   "outputs": [
    {
     "data": {
      "text/plain": [
       "11815"
      ]
     },
     "execution_count": 13,
     "metadata": {},
     "output_type": "execute_result"
    }
   ],
   "source": [
    "len(vocab)"
   ]
  },
  {
   "cell_type": "code",
   "execution_count": 14,
   "id": "158dcbb0-eb91-4070-84d1-d119724df178",
   "metadata": {},
   "outputs": [],
   "source": [
    "from scipy.sparse import lil_matrix"
   ]
  },
  {
   "cell_type": "code",
   "execution_count": 15,
   "id": "fd12e525-6580-452c-a09e-810ac3d8743c",
   "metadata": {},
   "outputs": [],
   "source": [
    "def computeWordContextMatrix(corpus_list,vocab=None,windowSize=2):\n",
    "    if vocab is None:\n",
    "        vocab = sorted(list(set(cospus_list)))\n",
    "    numWords = len(vocab)\n",
    "    M = np.zeros((numWords,numWords))\n",
    "    # M = lil_matrix((numWords,numWords)) #for computing big matrix by splitting into pieces\n",
    "    W2I = dict(zip(vocab,np.arange(numWords)))\n",
    "    I2W = dict(zip(np.arange(numWords),vocab))\n",
    "    doc = corpus_list\n",
    "    docLen = len(doc)\n",
    "    curIdx = 0\n",
    "    while curIdx < docLen:\n",
    "        left = max(curIdx-windowSize,0)\n",
    "        right = min(curIdx+windowSize+1,docLen)\n",
    "        wordsInContext = doc[left:curIdx] + doc[curIdx+1:right]\n",
    "        currentWord = doc[curIdx]\n",
    "        currentWordIdx = W2I[currentWord]\n",
    "        for word in wordsInContext:\n",
    "            contextWordIdx = W2I[word]\n",
    "            M[currentWordIdx,contextWordIdx] += 1\n",
    "        curIdx += 1\n",
    "    return M,W2I,I2W"
   ]
  },
  {
   "cell_type": "code",
   "execution_count": 16,
   "id": "1b8be03c-a294-4e4b-9dea-ad81a02644cb",
   "metadata": {},
   "outputs": [],
   "source": [
    "M,W2I,I2W = computeWordContextMatrix(processedCorpus_list,vocab)"
   ]
  },
  {
   "cell_type": "code",
   "execution_count": 17,
   "id": "89e36d4f-730e-484e-8b9a-694d08640205",
   "metadata": {},
   "outputs": [
    {
     "data": {
      "text/plain": [
       "(11815, 11815)"
      ]
     },
     "execution_count": 17,
     "metadata": {},
     "output_type": "execute_result"
    }
   ],
   "source": [
    "M.shape"
   ]
  },
  {
   "cell_type": "code",
   "execution_count": 18,
   "id": "8bcab1ce-3cda-4093-b7c2-c08dc2b558a7",
   "metadata": {},
   "outputs": [
    {
     "name": "stdout",
     "output_type": "stream",
     "text": [
      "190 good\n"
     ]
    }
   ],
   "source": [
    "word = 'good'\n",
    "print(W2I[word],I2W[190])"
   ]
  },
  {
   "cell_type": "code",
   "execution_count": 19,
   "id": "e729034e-2543-4383-b24a-520730061ef8",
   "metadata": {},
   "outputs": [
    {
     "name": "stdout",
     "output_type": "stream",
     "text": [
      "[  0.   0. 214. ...   0.   0.   0.]\n"
     ]
    }
   ],
   "source": [
    "v = M[W2I['good'],:]\n",
    "print(v)"
   ]
  },
  {
   "cell_type": "code",
   "execution_count": 20,
   "id": "8b02d9f3-7083-44fb-be77-b6705e8b5ad9",
   "metadata": {},
   "outputs": [
    {
     "data": {
      "text/plain": [
       "(11815,)"
      ]
     },
     "execution_count": 20,
     "metadata": {},
     "output_type": "execute_result"
    }
   ],
   "source": [
    "v.shape"
   ]
  },
  {
   "cell_type": "code",
   "execution_count": 21,
   "id": "cff26f5a-e40a-4865-bc07-ac2a1ebf924f",
   "metadata": {},
   "outputs": [],
   "source": [
    "def pmi(M, positive=True):\n",
    "    col_totals = np.sum(M,axis=0)\n",
    "    total = col_totals.sum()\n",
    "    row_totals = np.sum(M,axis=1)\n",
    "    expected = np.outer(row_totals, col_totals) / total\n",
    "    M = M / expected    \n",
    "    with np.errstate(divide='ignore'):\n",
    "        M = np.log(M)\n",
    "    M[np.isinf(M)] = 0.0  \n",
    "    if positive:\n",
    "        M[M < 0] = 0.0\n",
    "    return M"
   ]
  },
  {
   "cell_type": "code",
   "execution_count": 22,
   "id": "5f1efedf-cc9f-4871-b409-607c4ca116d4",
   "metadata": {},
   "outputs": [],
   "source": [
    "M = pmi(M)"
   ]
  },
  {
   "cell_type": "code",
   "execution_count": 23,
   "id": "718d8672-e5da-4df1-81e0-dde51050972d",
   "metadata": {},
   "outputs": [
    {
     "data": {
      "text/plain": [
       "array([0.       , 0.       , 0.4605286, ..., 0.       , 0.       ,\n",
       "       0.       ])"
      ]
     },
     "execution_count": 23,
     "metadata": {},
     "output_type": "execute_result"
    }
   ],
   "source": [
    "M[W2I['good'],:]"
   ]
  },
  {
   "cell_type": "markdown",
   "id": "d60f0b0a-74fc-4e26-8662-88cd961a3e3d",
   "metadata": {},
   "source": [
    "# Latent Semantic Analysis (LSA)"
   ]
  },
  {
   "cell_type": "code",
   "execution_count": 24,
   "id": "58c8abbd-7c34-42f1-9c74-98ff6064eec3",
   "metadata": {},
   "outputs": [],
   "source": [
    "from sklearn.decomposition import TruncatedSVD, PCA, IncrementalPCA # IncrementalPCA is used when the matrix is very-very large"
   ]
  },
  {
   "cell_type": "code",
   "execution_count": 25,
   "id": "ee9800e0-d5c5-4ced-a877-3a6b0c456c2a",
   "metadata": {},
   "outputs": [],
   "source": [
    "transformer = TruncatedSVD(n_components=100)  # new dimention size = 100"
   ]
  },
  {
   "cell_type": "code",
   "execution_count": 26,
   "id": "5fe3486a-b968-485c-bab3-9e48cd8ccbf5",
   "metadata": {},
   "outputs": [],
   "source": [
    "M_reduced = transformer.fit_transform(M)"
   ]
  },
  {
   "cell_type": "code",
   "execution_count": 27,
   "id": "62d41834-cae6-4a0a-a11a-c26cd6160ac3",
   "metadata": {},
   "outputs": [
    {
     "name": "stdout",
     "output_type": "stream",
     "text": [
      "(11815, 11815)\n",
      "(11815, 100)\n"
     ]
    }
   ],
   "source": [
    "print(M.shape)\n",
    "print(M_reduced.shape)"
   ]
  },
  {
   "cell_type": "code",
   "execution_count": 28,
   "id": "5324c89a-bdfc-4d22-bdc0-77c345948e86",
   "metadata": {},
   "outputs": [
    {
     "data": {
      "text/plain": [
       "array([ 2.35845596e+01, -3.84230766e+00, -3.72714416e+00, -4.18267271e+00,\n",
       "       -4.50620746e+00, -7.88498605e+00, -1.00250428e+00, -3.38177731e+00,\n",
       "        5.66646779e-02, -2.34174101e+00,  7.71492772e+00,  2.24916639e+00,\n",
       "       -2.86843204e+00,  3.30230636e+00,  5.32936647e-01, -1.46204547e-01,\n",
       "       -6.91937925e+00,  4.46866966e+00, -8.75815601e-01, -3.49978788e-01,\n",
       "        1.34576279e+00,  7.95122650e-01,  1.87877530e+00,  3.97482641e+00,\n",
       "       -2.33570176e+00,  8.38519708e-01, -1.33045643e+00,  2.25237190e+00,\n",
       "        1.38415064e+00,  1.27790100e-01, -4.07878609e+00,  3.86462373e+00,\n",
       "       -4.65722705e-01,  4.52661183e+00,  7.57365387e-01,  1.40180331e+00,\n",
       "        1.09452951e+00, -3.19721482e+00,  1.76780719e+00, -2.49646052e+00,\n",
       "        3.53053455e-01, -1.86064764e+00, -1.42075634e+00,  2.66949691e+00,\n",
       "       -1.08486799e+00, -1.78399429e+00,  1.51149971e+00,  1.76061359e+00,\n",
       "       -2.95793700e-01,  1.30829525e+00,  3.59065938e+00, -1.09109433e+00,\n",
       "       -4.65868452e-02,  2.33821370e+00,  4.12120026e-01, -2.51511715e+00,\n",
       "       -1.11993192e+00, -7.47064576e-01, -2.68917496e+00, -1.75337230e+00,\n",
       "        7.44006797e-01, -2.90664162e+00,  2.61465322e+00, -1.81712607e-01,\n",
       "        7.78647282e-01, -4.61520180e-01, -8.39490406e-01,  1.41105985e+00,\n",
       "        1.60674527e+00, -1.88434027e-01,  5.04497736e-01,  8.98663898e-01,\n",
       "       -6.88701378e-01, -1.61827260e+00,  4.27045558e+00,  2.82985106e+00,\n",
       "       -2.61519765e+00, -2.61229970e+00,  1.43123808e+00, -1.50854786e-01,\n",
       "        4.18945724e-01,  5.94898853e-03,  2.56182508e-01,  2.10889008e+00,\n",
       "        1.71183767e+00, -1.65336570e+00,  6.11787754e-01,  2.16082562e+00,\n",
       "       -1.56715246e+00, -2.08172227e-02,  1.37383698e+00, -2.38579287e+00,\n",
       "        1.00734796e+00, -8.69254799e-01,  1.70052152e+00, -1.46116631e+00,\n",
       "       -1.24109920e+00, -3.06240839e-01, -3.43167876e-01, -6.28470072e-01])"
      ]
     },
     "execution_count": 28,
     "metadata": {},
     "output_type": "execute_result"
    }
   ],
   "source": [
    "M_reduced[W2I['good'],:]"
   ]
  },
  {
   "cell_type": "markdown",
   "id": "fcb4d67e-c55b-4a1d-927d-6e66282c8dc1",
   "metadata": {},
   "source": [
    "# Word Semantics"
   ]
  },
  {
   "cell_type": "markdown",
   "id": "767aaeb7-0f03-4228-b7a4-e29df70c654f",
   "metadata": {},
   "source": [
    "## Cosine Similarity"
   ]
  },
  {
   "cell_type": "code",
   "execution_count": 29,
   "id": "517610d7-fd0a-458d-bd27-7d24125ac871",
   "metadata": {},
   "outputs": [],
   "source": [
    "def getNorms(E):  # e = single row vector or multiple row matrix\n",
    "    if E.ndim == 1:\n",
    "        E = E[np.newaxis,:]\n",
    "    nrms = np.sum(E**2,axis=1)**0.5\n",
    "    return nrms"
   ]
  }
 ],
 "metadata": {
  "kernelspec": {
   "display_name": "Python 3 (ipykernel)",
   "language": "python",
   "name": "python3"
  },
  "language_info": {
   "codemirror_mode": {
    "name": "ipython",
    "version": 3
   },
   "file_extension": ".py",
   "mimetype": "text/x-python",
   "name": "python",
   "nbconvert_exporter": "python",
   "pygments_lexer": "ipython3",
   "version": "3.12.7"
  }
 },
 "nbformat": 4,
 "nbformat_minor": 5
}
