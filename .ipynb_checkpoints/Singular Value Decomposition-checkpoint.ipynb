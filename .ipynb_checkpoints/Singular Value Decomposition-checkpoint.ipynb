{
 "cells": [
  {
   "cell_type": "code",
   "execution_count": 1,
   "id": "4b5817e2-80e7-4f52-b116-def242af7d5b",
   "metadata": {},
   "outputs": [],
   "source": [
    "import numpy as np\n",
    "from numpy import linalg as LA"
   ]
  },
  {
   "cell_type": "code",
   "execution_count": 2,
   "id": "5f3a7808-3730-490a-9525-b220115f8ce7",
   "metadata": {},
   "outputs": [],
   "source": [
    "A = np.random.rand(3,4)"
   ]
  },
  {
   "cell_type": "code",
   "execution_count": 3,
   "id": "451e1fe3-5ee0-4bf7-8972-f59d7758ba5a",
   "metadata": {},
   "outputs": [
    {
     "data": {
      "text/plain": [
       "array([[0.49068743, 0.90216742, 0.22547582, 0.10300132],\n",
       "       [0.97602705, 0.01290604, 0.92413356, 0.42826207],\n",
       "       [0.61285123, 0.51852248, 0.35740722, 0.88076277]])"
      ]
     },
     "execution_count": 3,
     "metadata": {},
     "output_type": "execute_result"
    }
   ],
   "source": [
    "A"
   ]
  },
  {
   "cell_type": "code",
   "execution_count": 4,
   "id": "8b3721d1-c248-4d7c-b434-ef800b0af2ea",
   "metadata": {},
   "outputs": [],
   "source": [
    "ATA = A.T.dot(A)\n",
    "AAT = A.dot(A.T)"
   ]
  },
  {
   "cell_type": "code",
   "execution_count": 5,
   "id": "ae478fca-82c5-4a93-8c7e-f1b265cfeb9b",
   "metadata": {},
   "outputs": [
    {
     "data": {
      "text/plain": [
       "array([[1.56898958, 0.773056  , 1.23165496, 1.00831336],\n",
       "       [0.773056  , 1.08293818, 0.40066752, 0.5551469 ],\n",
       "       [1.23165496, 0.40066752, 1.03260211, 0.73378663],\n",
       "       [1.00831336, 0.5551469 , 0.73378663, 0.96976073]])"
      ]
     },
     "execution_count": 5,
     "metadata": {},
     "output_type": "execute_result"
    }
   ],
   "source": [
    "ATA"
   ]
  },
  {
   "cell_type": "code",
   "execution_count": 6,
   "id": "7acb1214-8e23-4fdc-aba4-a7e0bd4d432f",
   "metadata": {},
   "outputs": [
    {
     "data": {
      "text/plain": [
       "array([[1.11612882, 0.74304894, 0.93981889],\n",
       "       [0.74304894, 1.99022661, 1.31234074],\n",
       "       [0.93981889, 1.31234074, 1.54793516]])"
      ]
     },
     "execution_count": 6,
     "metadata": {},
     "output_type": "execute_result"
    }
   ],
   "source": [
    "AAT"
   ]
  },
  {
   "cell_type": "code",
   "execution_count": 7,
   "id": "6f90ebe8-99b0-4f82-90ed-515ffb808ab2",
   "metadata": {},
   "outputs": [],
   "source": [
    "d1,V = LA.eig(ATA)"
   ]
  },
  {
   "cell_type": "code",
   "execution_count": 8,
   "id": "2cea87ae-d17d-4f0d-978a-8bb22cb71b73",
   "metadata": {},
   "outputs": [
    {
     "data": {
      "text/plain": [
       "array([3.64826242e+00, 7.29092335e-01, 7.42263898e-16, 2.76935842e-01])"
      ]
     },
     "execution_count": 8,
     "metadata": {},
     "output_type": "execute_result"
    }
   ],
   "source": [
    "d1"
   ]
  },
  {
   "cell_type": "code",
   "execution_count": 9,
   "id": "b33fc988-1c7a-4732-b32a-3d4d7204f1d6",
   "metadata": {},
   "outputs": [
    {
     "data": {
      "text/plain": [
       "array([[-0.64698096, -0.17531695, -0.69307859, -0.26518236],\n",
       "       [-0.36952944,  0.88751333,  0.19484418, -0.19443204],\n",
       "       [-0.48861689, -0.42589077,  0.68840299, -0.32553326],\n",
       "       [-0.45400128, -0.01418091,  0.08819943,  0.88651148]])"
      ]
     },
     "execution_count": 9,
     "metadata": {},
     "output_type": "execute_result"
    }
   ],
   "source": [
    "V"
   ]
  },
  {
   "cell_type": "code",
   "execution_count": 10,
   "id": "184e8829-32e0-4a51-a3a8-83da3918c5a9",
   "metadata": {},
   "outputs": [
    {
     "data": {
      "text/plain": [
       "array([-2.36035631, -1.34814037, -1.78260265, -1.65631582])"
      ]
     },
     "execution_count": 10,
     "metadata": {},
     "output_type": "execute_result"
    }
   ],
   "source": [
    "ATA.dot(V[:,0])"
   ]
  },
  {
   "cell_type": "code",
   "execution_count": 11,
   "id": "b07aa5b6-41dc-4642-8558-c3348cbfc940",
   "metadata": {},
   "outputs": [
    {
     "data": {
      "text/plain": [
       "array([-2.36035631, -1.34814037, -1.78260265, -1.65631582])"
      ]
     },
     "execution_count": 11,
     "metadata": {},
     "output_type": "execute_result"
    }
   ],
   "source": [
    "d1[0]*V[:,0]"
   ]
  },
  {
   "cell_type": "code",
   "execution_count": 12,
   "id": "f0a48c2e-81df-48d8-8397-a3570f493821",
   "metadata": {},
   "outputs": [],
   "source": [
    "idx = np.argsort(d1)[::-1]\n",
    "d1 = d1[idx]\n",
    "V = V[:,idx]"
   ]
  },
  {
   "cell_type": "code",
   "execution_count": 13,
   "id": "e143a975-ced6-4ecc-b76c-db17efc4d178",
   "metadata": {},
   "outputs": [
    {
     "data": {
      "text/plain": [
       "array([3.64826242e+00, 7.29092335e-01, 2.76935842e-01, 7.42263898e-16])"
      ]
     },
     "execution_count": 13,
     "metadata": {},
     "output_type": "execute_result"
    }
   ],
   "source": [
    "d1"
   ]
  },
  {
   "cell_type": "code",
   "execution_count": 14,
   "id": "cca652db-1a96-47ba-a541-a48732028141",
   "metadata": {},
   "outputs": [
    {
     "data": {
      "text/plain": [
       "array([[-0.64698096, -0.17531695, -0.26518236, -0.69307859],\n",
       "       [-0.36952944,  0.88751333, -0.19443204,  0.19484418],\n",
       "       [-0.48861689, -0.42589077, -0.32553326,  0.68840299],\n",
       "       [-0.45400128, -0.01418091,  0.88651148,  0.08819943]])"
      ]
     },
     "execution_count": 14,
     "metadata": {},
     "output_type": "execute_result"
    }
   ],
   "source": [
    "V"
   ]
  },
  {
   "cell_type": "code",
   "execution_count": 15,
   "id": "5ae19784-c114-4138-943d-a8b67fba3fe5",
   "metadata": {},
   "outputs": [],
   "source": [
    "d2,U = LA.eig(AAT)\n",
    "idx = np.argsort(d2)[::-1]\n",
    "d2 = d2[idx]\n",
    "U = U[:,idx]"
   ]
  },
  {
   "cell_type": "code",
   "execution_count": 16,
   "id": "7851cede-648c-4d0c-a521-594927845aa0",
   "metadata": {},
   "outputs": [
    {
     "data": {
      "text/plain": [
       "array([3.64826242e+00, 7.29092335e-01, 2.76935842e-01, 7.42263898e-16])"
      ]
     },
     "execution_count": 16,
     "metadata": {},
     "output_type": "execute_result"
    }
   ],
   "source": [
    "d1"
   ]
  },
  {
   "cell_type": "code",
   "execution_count": 17,
   "id": "59d72a42-e015-4618-a84f-c10718dc0333",
   "metadata": {},
   "outputs": [
    {
     "data": {
      "text/plain": [
       "array([3.64826242, 0.72909233, 0.27693584])"
      ]
     },
     "execution_count": 17,
     "metadata": {},
     "output_type": "execute_result"
    }
   ],
   "source": [
    "d2"
   ]
  },
  {
   "cell_type": "code",
   "execution_count": 18,
   "id": "9a4bea87-4a0d-4e66-a6ec-a4911560f483",
   "metadata": {},
   "outputs": [
    {
     "data": {
      "text/plain": [
       "array([[-0.42291041, -0.72279359, -0.54654936],\n",
       "       [-0.67130384,  0.65503359, -0.34681716],\n",
       "       [-0.60868542, -0.2202281 ,  0.76223464]])"
      ]
     },
     "execution_count": 18,
     "metadata": {},
     "output_type": "execute_result"
    }
   ],
   "source": [
    "U"
   ]
  },
  {
   "cell_type": "code",
   "execution_count": 19,
   "id": "a5bcb682-bda7-4525-ae38-ea221a4da3bb",
   "metadata": {},
   "outputs": [
    {
     "data": {
      "text/plain": [
       "array([[-0.64698096, -0.17531695, -0.26518236, -0.69307859],\n",
       "       [-0.36952944,  0.88751333, -0.19443204,  0.19484418],\n",
       "       [-0.48861689, -0.42589077, -0.32553326,  0.68840299],\n",
       "       [-0.45400128, -0.01418091,  0.88651148,  0.08819943]])"
      ]
     },
     "execution_count": 19,
     "metadata": {},
     "output_type": "execute_result"
    }
   ],
   "source": [
    "V"
   ]
  },
  {
   "cell_type": "markdown",
   "id": "b634a5b7-1163-4745-a590-bf0f2b66a8bc",
   "metadata": {},
   "source": [
    "## Now do this(SVD) using builtin np function"
   ]
  },
  {
   "cell_type": "code",
   "execution_count": 20,
   "id": "1236798b-8746-449b-8ac0-9064860d896e",
   "metadata": {},
   "outputs": [],
   "source": [
    "U2,S2,V2 = LA.svd(A)"
   ]
  },
  {
   "cell_type": "code",
   "execution_count": 21,
   "id": "76a7fd99-5cf5-40b2-be33-f7fa5b53004a",
   "metadata": {},
   "outputs": [
    {
     "data": {
      "text/plain": [
       "array([[-0.42291041, -0.72279359, -0.54654936],\n",
       "       [-0.67130384,  0.65503359, -0.34681716],\n",
       "       [-0.60868542, -0.2202281 ,  0.76223464]])"
      ]
     },
     "execution_count": 21,
     "metadata": {},
     "output_type": "execute_result"
    }
   ],
   "source": [
    "U"
   ]
  },
  {
   "cell_type": "code",
   "execution_count": 22,
   "id": "b6e31309-e340-4433-a85e-e148c2e716c3",
   "metadata": {},
   "outputs": [
    {
     "data": {
      "text/plain": [
       "array([[ 0.42291041,  0.72279359, -0.54654936],\n",
       "       [ 0.67130384, -0.65503359, -0.34681716],\n",
       "       [ 0.60868542,  0.2202281 ,  0.76223464]])"
      ]
     },
     "execution_count": 22,
     "metadata": {},
     "output_type": "execute_result"
    }
   ],
   "source": [
    "U2"
   ]
  },
  {
   "cell_type": "code",
   "execution_count": 23,
   "id": "c72cadc2-1879-493c-b1a0-293966ccd3f2",
   "metadata": {},
   "outputs": [
    {
     "data": {
      "text/plain": [
       "array([3.64826242, 0.72909233, 0.27693584])"
      ]
     },
     "execution_count": 23,
     "metadata": {},
     "output_type": "execute_result"
    }
   ],
   "source": [
    "d2"
   ]
  },
  {
   "cell_type": "code",
   "execution_count": 24,
   "id": "79775430-4506-454d-a77f-de2d25863bff",
   "metadata": {},
   "outputs": [
    {
     "data": {
      "text/plain": [
       "array([1.91004252, 0.85386904, 0.52624694])"
      ]
     },
     "execution_count": 24,
     "metadata": {},
     "output_type": "execute_result"
    }
   ],
   "source": [
    "S2 #here S2 is small than d2 because it is showing after square rooting the d2"
   ]
  },
  {
   "cell_type": "code",
   "execution_count": 25,
   "id": "8aa103ce-6846-4064-912a-3628f4342123",
   "metadata": {},
   "outputs": [
    {
     "data": {
      "text/plain": [
       "array([1.91004252, 0.85386904, 0.52624694])"
      ]
     },
     "execution_count": 25,
     "metadata": {},
     "output_type": "execute_result"
    }
   ],
   "source": [
    "d2**.5"
   ]
  },
  {
   "cell_type": "code",
   "execution_count": 26,
   "id": "2e984fd2-30be-4cc7-8a55-92a87a5ca866",
   "metadata": {},
   "outputs": [
    {
     "data": {
      "text/plain": [
       "array([[-0.64698096, -0.17531695, -0.26518236, -0.69307859],\n",
       "       [-0.36952944,  0.88751333, -0.19443204,  0.19484418],\n",
       "       [-0.48861689, -0.42589077, -0.32553326,  0.68840299],\n",
       "       [-0.45400128, -0.01418091,  0.88651148,  0.08819943]])"
      ]
     },
     "execution_count": 26,
     "metadata": {},
     "output_type": "execute_result"
    }
   ],
   "source": [
    "V"
   ]
  },
  {
   "cell_type": "code",
   "execution_count": 27,
   "id": "f66568c9-d371-496d-98c7-d9dd1c86ff5f",
   "metadata": {},
   "outputs": [
    {
     "data": {
      "text/plain": [
       "array([[ 0.64698096,  0.36952944,  0.48861689,  0.45400128],\n",
       "       [-0.17531695,  0.88751333, -0.42589077, -0.01418091],\n",
       "       [-0.26518236, -0.19443204, -0.32553326,  0.88651148],\n",
       "       [-0.69307859,  0.19484418,  0.68840299,  0.08819943]])"
      ]
     },
     "execution_count": 27,
     "metadata": {},
     "output_type": "execute_result"
    }
   ],
   "source": [
    "V2 #is is transpose of V"
   ]
  },
  {
   "cell_type": "code",
   "execution_count": 28,
   "id": "788b7948-f0b6-4c04-ada5-62f0655e60fa",
   "metadata": {},
   "outputs": [
    {
     "data": {
      "text/plain": [
       "array([[ 0.64698096, -0.17531695, -0.26518236, -0.69307859],\n",
       "       [ 0.36952944,  0.88751333, -0.19443204,  0.19484418],\n",
       "       [ 0.48861689, -0.42589077, -0.32553326,  0.68840299],\n",
       "       [ 0.45400128, -0.01418091,  0.88651148,  0.08819943]])"
      ]
     },
     "execution_count": 28,
     "metadata": {},
     "output_type": "execute_result"
    }
   ],
   "source": [
    "V2.T"
   ]
  },
  {
   "cell_type": "code",
   "execution_count": null,
   "id": "0231fd6b-5348-40d0-b9fe-5d5a4d43193e",
   "metadata": {},
   "outputs": [],
   "source": []
  }
 ],
 "metadata": {
  "kernelspec": {
   "display_name": "Python 3 (ipykernel)",
   "language": "python",
   "name": "python3"
  },
  "language_info": {
   "codemirror_mode": {
    "name": "ipython",
    "version": 3
   },
   "file_extension": ".py",
   "mimetype": "text/x-python",
   "name": "python",
   "nbconvert_exporter": "python",
   "pygments_lexer": "ipython3",
   "version": "3.12.7"
  }
 },
 "nbformat": 4,
 "nbformat_minor": 5
}
