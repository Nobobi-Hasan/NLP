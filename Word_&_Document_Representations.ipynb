{
 "cells": [
  {
   "cell_type": "code",
   "execution_count": 1,
   "id": "b0ac6b3a-60d0-423a-abd5-1962673f9e6d",
   "metadata": {},
   "outputs": [],
   "source": [
    "import spacy\n",
    "import numpy as np\n",
    "nlp = spacy.load('en_core_web_sm')"
   ]
  },
  {
   "cell_type": "code",
   "execution_count": 2,
   "id": "a216c744-f063-45eb-b15a-5374b251c19d",
   "metadata": {},
   "outputs": [],
   "source": [
    "L = list(nlp.vocab.strings)"
   ]
  },
  {
   "cell_type": "code",
   "execution_count": 3,
   "id": "3930f927-791f-4cc0-adf6-f7119e91a87b",
   "metadata": {},
   "outputs": [
    {
     "name": "stdout",
     "output_type": "stream",
     "text": [
      "84780\n"
     ]
    }
   ],
   "source": [
    "numWords = len(L)\n",
    "print(numWords)"
   ]
  },
  {
   "cell_type": "code",
   "execution_count": 4,
   "id": "a613dbdb-f26b-444c-8b7e-878b3c646016",
   "metadata": {},
   "outputs": [],
   "source": [
    "W2I = dict(zip(L, np.arange(numWords)))\n",
    "I2W = dict(zip(np.arange(numWords), L))"
   ]
  },
  {
   "cell_type": "code",
   "execution_count": 5,
   "id": "3ccb7e5b-0450-4d30-9b2c-258c91e25c68",
   "metadata": {},
   "outputs": [
    {
     "data": {
      "text/plain": [
       "np.int64(49865)"
      ]
     },
     "execution_count": 5,
     "metadata": {},
     "output_type": "execute_result"
    }
   ],
   "source": [
    "W2I['game']"
   ]
  },
  {
   "cell_type": "code",
   "execution_count": 6,
   "id": "846ee2d8-a61d-4c4a-be9a-898d15d3bde8",
   "metadata": {},
   "outputs": [
    {
     "data": {
      "text/plain": [
       "'game'"
      ]
     },
     "execution_count": 6,
     "metadata": {},
     "output_type": "execute_result"
    }
   ],
   "source": [
    "I2W[49865]"
   ]
  },
  {
   "cell_type": "code",
   "execution_count": 7,
   "id": "43847480-9917-46e5-8f2a-d3134fc60a02",
   "metadata": {},
   "outputs": [
    {
     "data": {
      "text/plain": [
       "'￥dd'"
      ]
     },
     "execution_count": 7,
     "metadata": {},
     "output_type": "execute_result"
    }
   ],
   "source": [
    "I2W[84779]"
   ]
  },
  {
   "cell_type": "markdown",
   "id": "119fbfca-fb73-4c54-9f98-6b9ad75ed700",
   "metadata": {},
   "source": [
    "# One Hot Encoding"
   ]
  },
  {
   "cell_type": "code",
   "execution_count": 8,
   "id": "79247890-d91d-4bdf-80ae-7612ba7c2f3f",
   "metadata": {},
   "outputs": [],
   "source": [
    "def oneHotVector(word, W2I, numWords):\n",
    "    v = np.zeros(numWords)\n",
    "    if word in W2I:\n",
    "        v[W2I[word]] = 1\n",
    "    return v"
   ]
  },
  {
   "cell_type": "code",
   "execution_count": 9,
   "id": "0c6ea2cc-c1ec-4ac2-a60f-55ff579627be",
   "metadata": {},
   "outputs": [],
   "source": [
    "v = oneHotVector('game', W2I, numWords)"
   ]
  },
  {
   "cell_type": "code",
   "execution_count": 10,
   "id": "d4a870fa-7e26-4e1a-9157-2d8c5cc0a7d0",
   "metadata": {},
   "outputs": [
    {
     "data": {
      "text/plain": [
       "(84780,)"
      ]
     },
     "execution_count": 10,
     "metadata": {},
     "output_type": "execute_result"
    }
   ],
   "source": [
    "v.shape"
   ]
  },
  {
   "cell_type": "code",
   "execution_count": 11,
   "id": "82a7d0ed-d9e0-420f-a112-b4fdb253748b",
   "metadata": {},
   "outputs": [
    {
     "data": {
      "text/plain": [
       "np.float64(1.0)"
      ]
     },
     "execution_count": 11,
     "metadata": {},
     "output_type": "execute_result"
    }
   ],
   "source": [
    "v[W2I['game']]"
   ]
  },
  {
   "cell_type": "markdown",
   "id": "211aec24-8cfa-48c2-9415-1f91c6fb3e4a",
   "metadata": {},
   "source": [
    "## Term Frequency (TF)"
   ]
  },
  {
   "cell_type": "code",
   "execution_count": 12,
   "id": "422dcbad-2f96-47d7-a188-702a1958e1fd",
   "metadata": {},
   "outputs": [],
   "source": [
    "doc = 'How are you today. I know most of ￥28 ￥dd the time how you feel. ￥28 ￥28 ￥dd' #￥28 is the 3rd last number\n",
    "tokens = [token.text for token in nlp(doc)]"
   ]
  },
  {
   "cell_type": "code",
   "execution_count": 13,
   "id": "6434ce4b-4bba-494e-b620-c51d341ce500",
   "metadata": {},
   "outputs": [],
   "source": [
    "v = np.zeros(numWords)\n",
    "for token in tokens:\n",
    "    v += oneHotVector(token,W2I,numWords)"
   ]
  },
  {
   "cell_type": "code",
   "execution_count": 14,
   "id": "2f2d1d28-4585-47fe-b79c-c28df17a1e54",
   "metadata": {},
   "outputs": [
    {
     "data": {
      "text/plain": [
       "array([0., 0., 0., ..., 0., 3., 2.], shape=(84780,))"
      ]
     },
     "execution_count": 14,
     "metadata": {},
     "output_type": "execute_result"
    }
   ],
   "source": [
    "v"
   ]
  },
  {
   "cell_type": "markdown",
   "id": "2297fe5e-e506-4ce4-9202-a2bf7c2d2587",
   "metadata": {},
   "source": [
    "## TFIDF"
   ]
  },
  {
   "cell_type": "code",
   "execution_count": 15,
   "id": "7c5f0ecb-744b-4f10-b764-8e301b426f8f",
   "metadata": {},
   "outputs": [],
   "source": [
    "from sklearn.datasets import fetch_20newsgroups as getData"
   ]
  },
  {
   "cell_type": "code",
   "execution_count": 16,
   "id": "10c7ca2a-91c6-4fc4-b085-a4448e68cdbe",
   "metadata": {},
   "outputs": [],
   "source": [
    "corpus = getData(subset='train',remove=('headers','footers','qoutes'))"
   ]
  },
  {
   "cell_type": "code",
   "execution_count": 17,
   "id": "8c28f7e6-36b5-40c0-9382-a1eb931006fe",
   "metadata": {},
   "outputs": [],
   "source": [
    "docs = corpus.data"
   ]
  },
  {
   "cell_type": "code",
   "execution_count": 18,
   "id": "2dc13957-50e5-405b-8c40-c022dc55d177",
   "metadata": {},
   "outputs": [
    {
     "data": {
      "text/plain": [
       "11314"
      ]
     },
     "execution_count": 18,
     "metadata": {},
     "output_type": "execute_result"
    }
   ],
   "source": [
    "len(docs)"
   ]
  },
  {
   "cell_type": "code",
   "execution_count": 19,
   "id": "2640a3fa-d24e-4894-8f9d-0624c17caa7a",
   "metadata": {},
   "outputs": [
    {
     "data": {
      "text/plain": [
       "'I was wondering if anyone out there could enlighten me on this car I saw\\nthe other day. It was a 2-door sports car, looked to be from the late 60s/\\nearly 70s. It was called a Bricklin. The doors were really small. In addition,\\nthe front bumper was separate from the rest of the body. This is \\nall I know. If anyone can tellme a model name, engine specs, years\\nof production, where this car is made, history, or whatever info you\\nhave on this funky looking car, please e-mail.'"
      ]
     },
     "execution_count": 19,
     "metadata": {},
     "output_type": "execute_result"
    }
   ],
   "source": [
    "docs[0]"
   ]
  },
  {
   "cell_type": "code",
   "execution_count": null,
   "id": "2cd3748b-3a01-4fe7-9552-c3b8842a69df",
   "metadata": {},
   "outputs": [],
   "source": [
    "df = np.zeros(numWords)\n",
    "\n",
    "for term in L:\n",
    "    dft = 0\n",
    "    # for doc in docs[:100]:  #100 docs for testing only(full docs(11314) takes much time)\n",
    "    for doc in docs:\n",
    "        if term in doc:\n",
    "            dft += 1\n",
    "    df[W2I[term]] = dft"
   ]
  },
  {
   "cell_type": "code",
   "execution_count": null,
   "id": "30a38f35-70a6-4e26-a5c9-6df8d2ad4740",
   "metadata": {},
   "outputs": [],
   "source": [
    "df"
   ]
  },
  {
   "cell_type": "code",
   "execution_count": null,
   "id": "5ce1f8d1-6066-4f1c-a5b2-bb9ad64ca505",
   "metadata": {},
   "outputs": [],
   "source": [
    "N = len(docs)\n",
    "N"
   ]
  },
  {
   "cell_type": "code",
   "execution_count": null,
   "id": "55ebc006-04c9-4390-854c-ea9577f027bc",
   "metadata": {},
   "outputs": [],
   "source": [
    "Idf = np.log10(N/(df+1)) #df+1 because some values are 0; so creates error"
   ]
  },
  {
   "cell_type": "code",
   "execution_count": null,
   "id": "035540c9-03b0-4dc5-a837-02bb40777ba9",
   "metadata": {},
   "outputs": [],
   "source": [
    "doc = 'How are you today. I know most of the time how you feel.' #as above TF ^^\n",
    "v = np.zeros(numWords)\n",
    "\n",
    "for token in nlp(doc):\n",
    "    v += oneHotVector(token.text,W2I,numWords)\n",
    "\n",
    "# tokens = [token.text for token in nlp(doc)]\n",
    "# for token in tokens:\n",
    "#     v += oneHotVector(token,W2I,numWords)"
   ]
  },
  {
   "cell_type": "code",
   "execution_count": null,
   "id": "9e10da24-c9fc-441f-99c5-34c7602f1ed6",
   "metadata": {},
   "outputs": [],
   "source": [
    "tf = np.log10(v+1)"
   ]
  },
  {
   "cell_type": "code",
   "execution_count": null,
   "id": "acf09fb4-8d62-4b45-8e58-5e20ace5da99",
   "metadata": {},
   "outputs": [],
   "source": [
    "tfidf = tf * Idf\n",
    "tfidf"
   ]
  },
  {
   "cell_type": "code",
   "execution_count": null,
   "id": "3318409e-ee31-4f94-a4cd-0e6b7cdfeb70",
   "metadata": {},
   "outputs": [],
   "source": [
    "np.sum(tfidf != 0)"
   ]
  },
  {
   "cell_type": "code",
   "execution_count": null,
   "id": "c242d1fb-b369-4488-8fca-95ceb9abec3a",
   "metadata": {},
   "outputs": [],
   "source": []
  }
 ],
 "metadata": {
  "kernelspec": {
   "display_name": "Python 3 (ipykernel)",
   "language": "python",
   "name": "python3"
  },
  "language_info": {
   "codemirror_mode": {
    "name": "ipython",
    "version": 3
   },
   "file_extension": ".py",
   "mimetype": "text/x-python",
   "name": "python",
   "nbconvert_exporter": "python",
   "pygments_lexer": "ipython3",
   "version": "3.12.7"
  }
 },
 "nbformat": 4,
 "nbformat_minor": 5
}
